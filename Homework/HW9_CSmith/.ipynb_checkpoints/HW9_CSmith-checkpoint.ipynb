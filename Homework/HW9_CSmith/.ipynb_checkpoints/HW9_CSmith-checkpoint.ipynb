{
 "cells": [
  {
   "cell_type": "code",
   "execution_count": 1,
   "id": "d7c3d5f3",
   "metadata": {},
   "outputs": [
    {
     "name": "stdout",
     "output_type": "stream",
     "text": [
      "Start of Homework 9\n"
     ]
    }
   ],
   "source": [
    "#Corine Smith, Homework 9, Mar 17 20:37:03 EST 2022\n",
    "print( \"Start of Homework 9\")"
   ]
  },
  {
   "cell_type": "code",
   "execution_count": 2,
   "id": "550eca69",
   "metadata": {},
   "outputs": [
    {
     "name": "stdout",
     "output_type": "stream",
     "text": [
      "Problem 1:\n"
     ]
    }
   ],
   "source": [
    "#Problem 1\n",
    "print('Problem 1:')"
   ]
  },
  {
   "cell_type": "code",
   "execution_count": 3,
   "id": "9cdc6a05",
   "metadata": {},
   "outputs": [],
   "source": [
    "import numpy as np\n",
    "import matplotlib.pyplot as plt\n",
    "import math"
   ]
  },
  {
   "cell_type": "code",
   "execution_count": 4,
   "id": "60df71ba",
   "metadata": {},
   "outputs": [
    {
     "name": "stdout",
     "output_type": "stream",
     "text": [
      "Problem 2A:\n"
     ]
    }
   ],
   "source": [
    "#Problem 2A \n",
    "print('Problem 2A:')"
   ]
  },
  {
   "cell_type": "code",
   "execution_count": 5,
   "id": "8bde1347",
   "metadata": {},
   "outputs": [],
   "source": [
    "sports = np.array([1500, 40000, 10000])"
   ]
  },
  {
   "cell_type": "code",
   "execution_count": 6,
   "id": "5b182891",
   "metadata": {},
   "outputs": [],
   "source": [
    "name_and_num = {'Mary':1,'John':2,'Peter':3,'Mafalda':4,'Paul':5,'Lionel':6}"
   ]
  },
  {
   "cell_type": "code",
   "execution_count": 7,
   "id": "d53dc47b",
   "metadata": {},
   "outputs": [],
   "source": [
    "athlete_times = np.array(([1,1.204,6.6,0.32],\n",
    "                         [2,1.212,6.5,0.36],\n",
    "                         [3,1.14,6.6,0.38],\n",
    "                         [4,1.12,6.2,0.38],\n",
    "                         [5,1.24,5.6,0.4],\n",
    "                         [6,1.201,6.0,0.3]))"
   ]
  },
  {
   "cell_type": "code",
   "execution_count": 9,
   "id": "8f34e28c",
   "metadata": {},
   "outputs": [
    {
     "name": "stdout",
     "output_type": "stream",
     "text": [
      "Problem 2B:\n"
     ]
    }
   ],
   "source": [
    "#Problem 2B\n",
    "print('Problem 2B:')"
   ]
  },
  {
   "cell_type": "code",
   "execution_count": 18,
   "id": "0019b7da",
   "metadata": {},
   "outputs": [],
   "source": [
    "def triathlon_time(sports,athlete_times):\n",
    "    \"\"\"Function inputs arrays sports and athlete_times and outputs an informative message about \n",
    "which participant will finish first and their expected time in hours, and which one \n",
    "will finish last and their expected time in hours.\n",
    "Input: Sports(distance), athlete_times(info)\n",
    "Output: participant finish(placing and times).\"\"\"\n",
    "    \n",
    "    name = name_and_num.keys()\n",
    "\n",
    "    number = athlete_times[:,0]\n",
    "    speed_swim =athlete_times[:,1]\n",
    "    speed_bike =athlete_times[:,2]\n",
    "    speed_run =athlete_times[:,3]\n",
    "    \n",
    "    Mary = athlete_times[:,0]\n",
    "    John = athlete_times[:,1]\n",
    "    Peter = athlete_times[:,2]\n",
    "    Mafalda = athlete_times[:,3]\n",
    "    Paul = athlete_times[:,4]\n",
    "    Lionel = athlete_times[:,5]\n",
    "   \n",
    "    time_swim = (sports[0] / distance_swim_athlete) / 360\n",
    "    time_bike = (sports[1] / distance_bike_athele) / 360\n",
    "    time_run = (sports[2] / distance_run_athlete) / 360\n",
    "    \n",
    "    placing = [time_swim[0] + time_bike[0] + time_run[0]]\n",
    "\n",
    "    for i in range(1, len(placing)):\n",
    "        if placing[i] < placing:\n",
    "            placing = placing[i]\n",
    "            print(name, 'will finish in first place with swim time', time_swim, ', bike time', time_bike, ', and run time', time_run, '.')\n",
    "    \n",
    "    for i in range(1, len(placing)):\n",
    "        if placing[i] > placing:\n",
    "            placing = placing[i]\n",
    "            print(name, 'will finish in last place with swim time', time_swim, ', bike time', time_bike, ', and run time', time_run, '.')\n",
    "            \n",
    "    return name, placing, time_swim, time_bike, time_run \n"
   ]
  },
  {
   "cell_type": "code",
   "execution_count": 19,
   "id": "eec4bee5",
   "metadata": {},
   "outputs": [
    {
     "ename": "IndexError",
     "evalue": "too many indices for array: array is 1-dimensional, but 2 were indexed",
     "output_type": "error",
     "traceback": [
      "\u001b[1;31m---------------------------------------------------------------------------\u001b[0m",
      "\u001b[1;31mIndexError\u001b[0m                                Traceback (most recent call last)",
      "\u001b[1;32m~\\AppData\\Local\\Temp/ipykernel_12204/806116738.py\u001b[0m in \u001b[0;36m<module>\u001b[1;34m\u001b[0m\n\u001b[1;32m----> 1\u001b[1;33m \u001b[0mprint\u001b[0m\u001b[1;33m(\u001b[0m\u001b[0mtriathlon_time\u001b[0m\u001b[1;33m(\u001b[0m\u001b[0msports\u001b[0m\u001b[1;33m[\u001b[0m\u001b[1;36m0\u001b[0m\u001b[1;33m]\u001b[0m\u001b[1;33m,\u001b[0m\u001b[0mathlete_times\u001b[0m\u001b[1;33m[\u001b[0m\u001b[1;36m0\u001b[0m\u001b[1;33m,\u001b[0m\u001b[1;36m0\u001b[0m\u001b[1;33m:\u001b[0m\u001b[1;36m4\u001b[0m\u001b[1;33m]\u001b[0m\u001b[1;33m)\u001b[0m\u001b[1;33m)\u001b[0m\u001b[1;33m\u001b[0m\u001b[1;33m\u001b[0m\u001b[0m\n\u001b[0m",
      "\u001b[1;32m~\\AppData\\Local\\Temp/ipykernel_12204/1641060256.py\u001b[0m in \u001b[0;36mtriathlon_time\u001b[1;34m(sports, athlete_times)\u001b[0m\n\u001b[0;32m      8\u001b[0m     \u001b[0mname\u001b[0m \u001b[1;33m=\u001b[0m \u001b[0mname_and_num\u001b[0m\u001b[1;33m.\u001b[0m\u001b[0mkeys\u001b[0m\u001b[1;33m(\u001b[0m\u001b[1;33m)\u001b[0m\u001b[1;33m\u001b[0m\u001b[1;33m\u001b[0m\u001b[0m\n\u001b[0;32m      9\u001b[0m \u001b[1;33m\u001b[0m\u001b[0m\n\u001b[1;32m---> 10\u001b[1;33m     \u001b[0mnumber\u001b[0m \u001b[1;33m=\u001b[0m \u001b[0mathlete_times\u001b[0m\u001b[1;33m[\u001b[0m\u001b[1;33m:\u001b[0m\u001b[1;33m,\u001b[0m\u001b[1;36m0\u001b[0m\u001b[1;33m]\u001b[0m\u001b[1;33m\u001b[0m\u001b[1;33m\u001b[0m\u001b[0m\n\u001b[0m\u001b[0;32m     11\u001b[0m     \u001b[0mspeed_swim\u001b[0m \u001b[1;33m=\u001b[0m\u001b[0mathlete_times\u001b[0m\u001b[1;33m[\u001b[0m\u001b[1;33m:\u001b[0m\u001b[1;33m,\u001b[0m\u001b[1;36m1\u001b[0m\u001b[1;33m]\u001b[0m\u001b[1;33m\u001b[0m\u001b[1;33m\u001b[0m\u001b[0m\n\u001b[0;32m     12\u001b[0m     \u001b[0mspeed_bike\u001b[0m \u001b[1;33m=\u001b[0m\u001b[0mathlete_times\u001b[0m\u001b[1;33m[\u001b[0m\u001b[1;33m:\u001b[0m\u001b[1;33m,\u001b[0m\u001b[1;36m2\u001b[0m\u001b[1;33m]\u001b[0m\u001b[1;33m\u001b[0m\u001b[1;33m\u001b[0m\u001b[0m\n",
      "\u001b[1;31mIndexError\u001b[0m: too many indices for array: array is 1-dimensional, but 2 were indexed"
     ]
    }
   ],
   "source": [
    "print(triathlon_time(sports[0],athlete_times[0,0:4]))"
   ]
  },
  {
   "cell_type": "code",
   "execution_count": 20,
   "id": "179e88cd",
   "metadata": {},
   "outputs": [
    {
     "name": "stdout",
     "output_type": "stream",
     "text": [
      "Problem 2C:\n"
     ]
    }
   ],
   "source": [
    "#Problem 2C\n",
    "print('Problem 2C:')"
   ]
  },
  {
   "cell_type": "code",
   "execution_count": 21,
   "id": "a157ab5b",
   "metadata": {},
   "outputs": [],
   "source": [
    "sports_dictionary = {'swim':1500, 'bike':40000, 'run':10000}"
   ]
  },
  {
   "cell_type": "code",
   "execution_count": 22,
   "id": "c1efc654",
   "metadata": {},
   "outputs": [],
   "source": [
    "Mary = {'Number':1, 'swim':1.204, 'bike':6.6, 'run':0.32}\n",
    "John = {'Number':2, 'swim':1.212, 'bike':6.5, 'run':0.36}\n",
    "Peter = {'Number':3, 'swim':1.14, 'bike':6.6, 'run':0.38}\n",
    "Mafalda = {'Number':4, 'swim':1.12, 'bike':6.2, 'run':0.38}\n",
    "Paul = {'Number':5, 'swim':1.24, 'bike':5.6, 'run':0.4}\n",
    "Lionel = {'Number':6, 'swim':1.201, 'bike':6.0, 'run':0.3}\n",
    "\n",
    "athlete_dictionary = {'Mary':Mary, 'John':John, 'Peter':Peter, 'Mafalda':Mafalda, 'Paul':Paul, 'Lionel':Lionel}\n"
   ]
  },
  {
   "cell_type": "code",
   "execution_count": 23,
   "id": "1e431438",
   "metadata": {},
   "outputs": [
    {
     "name": "stdout",
     "output_type": "stream",
     "text": [
      "Problem 2D:\n"
     ]
    }
   ],
   "source": [
    "#Problem 2D\n",
    "print('Problem 2D:')"
   ]
  },
  {
   "cell_type": "code",
   "execution_count": 43,
   "id": "4ff2306e",
   "metadata": {},
   "outputs": [],
   "source": [
    "def triathlon_time_dict(sports,athletes_times):\n",
    "        \"\"\"Function inputs dictionaries sports_dictionary and athlete_dictionary and outputs an informative message about \n",
    "which participant will finish first and their expected time in hours, and which one \n",
    "will finish last and their expected time in hours.\n",
    "Input: Sports(distance), athlete_times(info)\n",
    "Output: participant finish(placing and times).\"\"\"\n",
    "        \n",
    "        swim_distance = []\n",
    "        bike_distance = []\n",
    "        run_distance = []\n",
    "        \n",
    "        for i in athlete_dictionary.keys():\n",
    "            name = athlete_dictionary.keys()\n",
    "        \n",
    "        for i in athlete_dictionary.values():\n",
    "            if i == name:\n",
    "                swim_distance = athlete_dictionary.get('swim')\n",
    "                bike_distance = athlete_dictionary.get('bike')\n",
    "                run_distance = athlete_dictionary.get('run')\n",
    "\n",
    "        time_swim = (sports_dictionary.values() / swim_distance) / 360\n",
    "        time_bike = (sports_dictionary.values() / bike_distance) / 360\n",
    "        time_run = (sports_dictionary.values() / run_distance) / 360\n",
    "    \n",
    "        placing = [time_swim[0] + time_bike[0] + time_run[0]]\n",
    "    \n",
    "        for i in range(1, len(placing)):\n",
    "            if placing[i] < placing:\n",
    "                placing = placing[i]\n",
    "                print(name, 'will finish in first place with swim time', time_swim, ', bike time', time_bike, ', and run time', time_run, '.')\n",
    "    \n",
    "        for i in range(1, len(placing)):\n",
    "            if placing[i] > placing:\n",
    "                placing = placing[i]\n",
    "                print(name, 'will finish in last place with swim time', time_swim, ', bike time', time_bike, ', and run time', time_run, '.')\n",
    "            \n",
    "        return name, placing, time_swim, time_bike, time_run \n",
    "        "
   ]
  },
  {
   "cell_type": "code",
   "execution_count": 44,
   "id": "ce99fc3b",
   "metadata": {},
   "outputs": [
    {
     "ename": "TypeError",
     "evalue": "unsupported operand type(s) for /: 'dict_values' and 'list'",
     "output_type": "error",
     "traceback": [
      "\u001b[1;31m---------------------------------------------------------------------------\u001b[0m",
      "\u001b[1;31mTypeError\u001b[0m                                 Traceback (most recent call last)",
      "\u001b[1;32m~\\AppData\\Local\\Temp/ipykernel_12204/4271491124.py\u001b[0m in \u001b[0;36m<module>\u001b[1;34m\u001b[0m\n\u001b[1;32m----> 1\u001b[1;33m \u001b[0mplace1\u001b[0m \u001b[1;33m=\u001b[0m \u001b[0mtriathlon_time_dict\u001b[0m\u001b[1;33m(\u001b[0m\u001b[1;34m'swim'\u001b[0m\u001b[1;33m,\u001b[0m \u001b[1;34m'swim'\u001b[0m\u001b[1;33m)\u001b[0m\u001b[1;33m\u001b[0m\u001b[1;33m\u001b[0m\u001b[0m\n\u001b[0m",
      "\u001b[1;32m~\\AppData\\Local\\Temp/ipykernel_12204/709669331.py\u001b[0m in \u001b[0;36mtriathlon_time_dict\u001b[1;34m(sports, athletes_times)\u001b[0m\n\u001b[0;32m     19\u001b[0m                 \u001b[0mrun_distance\u001b[0m \u001b[1;33m=\u001b[0m \u001b[0mathlete_dictionary\u001b[0m\u001b[1;33m.\u001b[0m\u001b[0mget\u001b[0m\u001b[1;33m(\u001b[0m\u001b[1;34m'run'\u001b[0m\u001b[1;33m)\u001b[0m\u001b[1;33m\u001b[0m\u001b[1;33m\u001b[0m\u001b[0m\n\u001b[0;32m     20\u001b[0m \u001b[1;33m\u001b[0m\u001b[0m\n\u001b[1;32m---> 21\u001b[1;33m         \u001b[0mtime_swim\u001b[0m \u001b[1;33m=\u001b[0m \u001b[1;33m(\u001b[0m\u001b[0msports_dictionary\u001b[0m\u001b[1;33m.\u001b[0m\u001b[0mvalues\u001b[0m\u001b[1;33m(\u001b[0m\u001b[1;33m)\u001b[0m \u001b[1;33m/\u001b[0m \u001b[0mswim_distance\u001b[0m\u001b[1;33m)\u001b[0m \u001b[1;33m/\u001b[0m \u001b[1;36m360\u001b[0m\u001b[1;33m\u001b[0m\u001b[1;33m\u001b[0m\u001b[0m\n\u001b[0m\u001b[0;32m     22\u001b[0m         \u001b[0mtime_bike\u001b[0m \u001b[1;33m=\u001b[0m \u001b[1;33m(\u001b[0m\u001b[0msports_dictionary\u001b[0m\u001b[1;33m.\u001b[0m\u001b[0mvalues\u001b[0m\u001b[1;33m(\u001b[0m\u001b[1;33m)\u001b[0m \u001b[1;33m/\u001b[0m \u001b[0mbike_distance\u001b[0m\u001b[1;33m)\u001b[0m \u001b[1;33m/\u001b[0m \u001b[1;36m360\u001b[0m\u001b[1;33m\u001b[0m\u001b[1;33m\u001b[0m\u001b[0m\n\u001b[0;32m     23\u001b[0m         \u001b[0mtime_run\u001b[0m \u001b[1;33m=\u001b[0m \u001b[1;33m(\u001b[0m\u001b[0msports_dictionary\u001b[0m\u001b[1;33m.\u001b[0m\u001b[0mvalues\u001b[0m\u001b[1;33m(\u001b[0m\u001b[1;33m)\u001b[0m \u001b[1;33m/\u001b[0m \u001b[0mrun_distance\u001b[0m\u001b[1;33m)\u001b[0m \u001b[1;33m/\u001b[0m \u001b[1;36m360\u001b[0m\u001b[1;33m\u001b[0m\u001b[1;33m\u001b[0m\u001b[0m\n",
      "\u001b[1;31mTypeError\u001b[0m: unsupported operand type(s) for /: 'dict_values' and 'list'"
     ]
    }
   ],
   "source": [
    "place1 = triathlon_time_dict('swim', 'swim')"
   ]
  },
  {
   "cell_type": "code",
   "execution_count": 18,
   "id": "9992875d",
   "metadata": {},
   "outputs": [
    {
     "name": "stdout",
     "output_type": "stream",
     "text": [
      "Problem 2E:\n"
     ]
    }
   ],
   "source": [
    "#Problem 2E\n",
    "print('Problem 2E:')"
   ]
  },
  {
   "cell_type": "code",
   "execution_count": null,
   "id": "c316c148",
   "metadata": {},
   "outputs": [],
   "source": [
    "placings_dictionary = triathlon_time_dict('swim', 'swim')\n",
    "placing_arrays = "
   ]
  },
  {
   "cell_type": "code",
   "execution_count": 22,
   "id": "5b382254",
   "metadata": {},
   "outputs": [
    {
     "name": "stdout",
     "output_type": "stream",
     "text": [
      "Problem 3A:\n"
     ]
    }
   ],
   "source": [
    "#Problem 3A \n",
    "print('Problem 3A:')"
   ]
  },
  {
   "cell_type": "code",
   "execution_count": null,
   "id": "c97e8574",
   "metadata": {},
   "outputs": [],
   "source": [
    "#Picture of lab book from Vaida Physics Laboratories and picture of origin graph saved in HW9 folder\n",
    "#Task: Graph the photoemission spectra of photoemitted electrons from Cu(111) at -10 Volts and -15 Volts to determine the shift in the time-of-flight (measured in picoseconds) as detected by the time-of-flight spectrometer."
   ]
  },
  {
   "cell_type": "code",
   "execution_count": null,
   "id": "b3acfc0b",
   "metadata": {},
   "outputs": [],
   "source": [
    "TOF_PES = np.loadtxt('../demos/solar_system_date_1.dat')\n",
    "y = TOF_PES[]\n",
    "z = TOF_PES[]"
   ]
  },
  {
   "cell_type": "code",
   "execution_count": 23,
   "id": "557746e5",
   "metadata": {},
   "outputs": [
    {
     "name": "stdout",
     "output_type": "stream",
     "text": [
      "Problem 3B:\n"
     ]
    }
   ],
   "source": [
    "#Problem 3B\n",
    "print('Problem 3B:')"
   ]
  },
  {
   "cell_type": "code",
   "execution_count": null,
   "id": "354a4d43",
   "metadata": {},
   "outputs": [],
   "source": [
    "A = np.arange(1,5000,100)\n",
    "x = np.array(A*0.2) #Count number converted into picoseconds \n",
    "y = np.array() #Rate of incidence (number of events) of photoemitted electrons at -10 Volts\n",
    "z = np.array() #Rate of incidence (number of events) of photoemitted electrons at -15 volts "
   ]
  },
  {
   "cell_type": "code",
   "execution_count": null,
   "id": "eff26835",
   "metadata": {},
   "outputs": [],
   "source": [
    "fig = plt.figure( figsize = (8,8) )\n",
    "ax1 = fig.add_subplot(1, 1, 1)\n",
    "ax2 = ax1.twinx()\n",
    "plt.xlim( 20, 40 )\n",
    "\n",
    "ax1.plot( x, y, color= 'blue', linestyle = 'solid', label = 'Y')\n",
    "ax1.legend( fontsize = 35 )\n",
    "ax1.set_ylabel( 'Counts at -10V', color='black', fontsize=35, rotation = 90 )\n",
    "ax1.set_xlabel('x', fontsize=35)\n",
    "ax1.tick_params( axis=\"both\", labelsize=20, length = 2 , direction = 'out') \n",
    "ax1.set_yticks( np.arange( -1.0, 1.1, step = 0.5 ) ,fontsize=15) \n",
    "plt.xticks( np.arange( 20, 40.1, 10 ) , fontsize= 15)\n",
    "    \n",
    "ax2.plot( x, z, color='red', linestyle = '--', label = 'Z')\n",
    "ax1.set_ylabel( 'Counts at -15V', color='black', fontsize=35, rotation = 90 )\n",
    "plt.title('Photoemission Spectra of Cu(111)', fontsize = 35 )\n",
    "plt.legend()"
   ]
  },
  {
   "cell_type": "code",
   "execution_count": 24,
   "id": "48355627",
   "metadata": {},
   "outputs": [
    {
     "name": "stdout",
     "output_type": "stream",
     "text": [
      "Problem 4\n"
     ]
    }
   ],
   "source": [
    "#Problem 4\n",
    "print('Problem 4')"
   ]
  },
  {
   "cell_type": "code",
   "execution_count": null,
   "id": "4e69212c",
   "metadata": {},
   "outputs": [],
   "source": [
    "class graduation_presents:\n",
    "    def __init__(self, a = 0, b = 0, c = 0):\n",
    "        self.a = a\n",
    "        self.b = b \n",
    "        self.c = c \n",
    "    \n",
    "    def surface_area(self, a , b, c):\n",
    "        surface_area = (2*a*b)+(2*b*c)+(2*a*c)\n",
    "        return surface_area\n",
    "    \n",
    "    def \n",
    "        "
   ]
  },
  {
   "cell_type": "code",
   "execution_count": 25,
   "id": "8e6e3c1b",
   "metadata": {},
   "outputs": [
    {
     "name": "stdout",
     "output_type": "stream",
     "text": [
      "Problem 5:\n"
     ]
    }
   ],
   "source": [
    "#Problem 5 \n",
    "print('Problem 5:')"
   ]
  },
  {
   "cell_type": "code",
   "execution_count": 26,
   "id": "b902b11f",
   "metadata": {},
   "outputs": [
    {
     "name": "stdout",
     "output_type": "stream",
     "text": [
      "End of Homework 9:\n"
     ]
    }
   ],
   "source": [
    "#End of Homework 9\n",
    "print('End of Homework 9:')"
   ]
  }
 ],
 "metadata": {
  "kernelspec": {
   "display_name": "Python 3 (ipykernel)",
   "language": "python",
   "name": "python3"
  },
  "language_info": {
   "codemirror_mode": {
    "name": "ipython",
    "version": 3
   },
   "file_extension": ".py",
   "mimetype": "text/x-python",
   "name": "python",
   "nbconvert_exporter": "python",
   "pygments_lexer": "ipython3",
   "version": "3.9.7"
  }
 },
 "nbformat": 4,
 "nbformat_minor": 5
}
