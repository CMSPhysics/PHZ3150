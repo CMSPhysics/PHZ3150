{
 "cells": [
  {
   "cell_type": "code",
   "execution_count": 1,
   "id": "d7c3d5f3",
   "metadata": {},
   "outputs": [
    {
     "name": "stdout",
     "output_type": "stream",
     "text": [
      "Start of Homework 9\n"
     ]
    }
   ],
   "source": [
    "#Corine Smith, Homework 9, Mar 17 20:37:03 EST 2022\n",
    "print( \"Start of Homework 9\")"
   ]
  },
  {
   "cell_type": "code",
   "execution_count": 2,
   "id": "550eca69",
   "metadata": {},
   "outputs": [
    {
     "name": "stdout",
     "output_type": "stream",
     "text": [
      "Problem 1:\n"
     ]
    }
   ],
   "source": [
    "#Problem 1\n",
    "print('Problem 1:')"
   ]
  },
  {
   "cell_type": "code",
   "execution_count": 5,
   "id": "9cdc6a05",
   "metadata": {},
   "outputs": [],
   "source": [
    "import numpy as np\n",
    "import matplotlib.pyplot as plt\n",
    "import math"
   ]
  },
  {
   "cell_type": "code",
   "execution_count": 4,
   "id": "60df71ba",
   "metadata": {},
   "outputs": [
    {
     "name": "stdout",
     "output_type": "stream",
     "text": [
      "Problem 2A:\n"
     ]
    }
   ],
   "source": [
    "#Problem 2A \n",
    "print('Problem 2A:')"
   ]
  },
  {
   "cell_type": "code",
   "execution_count": 5,
   "id": "8bde1347",
   "metadata": {},
   "outputs": [],
   "source": [
    "sports = np.array([1500, 40000, 10000])"
   ]
  },
  {
   "cell_type": "code",
   "execution_count": 6,
   "id": "d53dc47b",
   "metadata": {},
   "outputs": [],
   "source": [
    "athlete_times = np.array([[1,1.204,6.6,0.32],[2,1.212,6.5,0.36],[3,1.14,6.6,0.38],[4,1.12,6.2,0.38],[5,1.24,5.6,0.4],[6,1.201,6.0,0.3]])"
   ]
  },
  {
   "cell_type": "code",
   "execution_count": 7,
   "id": "8f34e28c",
   "metadata": {},
   "outputs": [
    {
     "name": "stdout",
     "output_type": "stream",
     "text": [
      "Problem 2B:\n"
     ]
    }
   ],
   "source": [
    "#Problem 2B\n",
    "print('Problem 2B:')"
   ]
  },
  {
   "cell_type": "code",
   "execution_count": 8,
   "id": "0019b7da",
   "metadata": {},
   "outputs": [],
   "source": [
    "def triathlon_time(sports,athlete_times):\n",
    "    \"\"\"Function inputs arrays sports and athlete_times and outputs an informative message about \n",
    "which participant will finish first and their expected time in hours, and which one \n",
    "will finish last and their expected time in hours.\n",
    "Input: Sports(distance), athlete_times(info)\n",
    "Output: participant finish(placing and times).\"\"\"\n",
    "    \n",
    "    sports = sports \n",
    "    athlete_times = athlete_times\n",
    "\n",
    "    Mary_swim = athlete_times[0,1:2]\n",
    "    John_swim = athlete_times[1,1:2]\n",
    "    Peter_swim = athlete_times[2,1:2]\n",
    "    Mafalda_swim = athlete_times[3,1:2]\n",
    "    Paul_swim = athlete_times[4,1:2]\n",
    "    Lionel_swim = athlete_times[5,1:2]   \n",
    "    \n",
    "    Mary_bike = athlete_times[0,2:3]\n",
    "    John_bike = athlete_times[1,2:3]\n",
    "    Peter_bike = athlete_times[2,2:3]\n",
    "    Mafalda_bike = athlete_times[3,2:3]\n",
    "    Paul_bike = athlete_times[4,2:3]\n",
    "    Lionel_bike = athlete_times[5,2:3]\n",
    "\n",
    "    Mary_run = athlete_times[0,3:4]\n",
    "    John_run = athlete_times[1,3:4]\n",
    "    Peter_run = athlete_times[2,3:4]\n",
    "    Mafalda_run = athlete_times[3,3:4]\n",
    "    Paul_run = athlete_times[4,3:4]\n",
    "    Lionel_run = athlete_times[5,3:4]\n",
    "\n",
    "    swim = sports[0]\n",
    "    bike = sports[1]\n",
    "    run = sports[2]\n",
    "\n",
    "    Mary = ((swim/Mary_swim)+(bike/Mary_bike)+(run/Mary_run)) \n",
    "    John = ((swim/John_swim)+(bike/John_bike)+(run/John_run)) \n",
    "    Peter = ((swim/Peter_swim)+(bike/Peter_bike)+(run/Peter_run)) \n",
    "    Mafalda = ((swim/Mafalda_swim)+(bike/Mafalda_bike)+(run/Mafalda_run)) \n",
    "    Paul = ((swim/Paul_swim)+(bike/Paul_bike)+(run/Paul_run)) \n",
    "    Lionel = ((swim/Lionel_swim)+(bike/Lionel_bike)+(run/Lionel_run)) \n",
    "\n",
    "    total_time = np.array([Mary,John,Peter,Mafalda,Paul,Lionel])\n",
    "\n",
    "    names = {'Mary':Mary, 'John':John, 'Peter':Peter, 'Mafalda':Mafalda, 'Paul':Paul, 'Lionel':Lionel}\n",
    "\n",
    "    first_place_athlete = np.min(total_time)\n",
    "    #print(np.where(total_time==first_place_athlete))\n",
    "\n",
    "    first_place_hours = np.ceil(first_place_athlete / 360)\n",
    "\n",
    "    last_place_athlete = np.max(total_time)\n",
    "    #print(np.where(total_time==last_place_athlete))\n",
    "\n",
    "    last_place_hours = np.ceil(last_place_athlete / 360)\n",
    "\n",
    "    print(\"The first place athlete is Paul with the estimated time of\", first_place_hours, 'hours.')\n",
    "    print(\"The last place athlete is Lionel with the estimated time of\", last_place_hours, \"hours.\")"
   ]
  },
  {
   "cell_type": "code",
   "execution_count": 9,
   "id": "f30fa9ad",
   "metadata": {},
   "outputs": [],
   "source": [
    "#print(triathlon_time(sports, athlete_times))"
   ]
  },
  {
   "cell_type": "code",
   "execution_count": 10,
   "id": "179e88cd",
   "metadata": {},
   "outputs": [
    {
     "name": "stdout",
     "output_type": "stream",
     "text": [
      "Problem 2C:\n"
     ]
    }
   ],
   "source": [
    "#Problem 2C\n",
    "print('Problem 2C:')"
   ]
  },
  {
   "cell_type": "code",
   "execution_count": 11,
   "id": "a157ab5b",
   "metadata": {},
   "outputs": [],
   "source": [
    "sports_dictionary = {'swim':1500, 'bike':40000, 'run':10000}"
   ]
  },
  {
   "cell_type": "code",
   "execution_count": 12,
   "id": "c1efc654",
   "metadata": {},
   "outputs": [],
   "source": [
    "athlete_dictionary = {'Mary':[1.204,6.6,0.32], 'John':[1.212,6.5,0.36], 'Peter':[1.14,6.6,0.38], 'Mafalda':[1.12,6.2,0.38], 'Paul':[1.24,5.6,0.4], 'Lionel':[1.201,6.0,0.3]}"
   ]
  },
  {
   "cell_type": "code",
   "execution_count": 13,
   "id": "959356dd",
   "metadata": {},
   "outputs": [],
   "source": [
    "names_dictionary = {'Mary':0, 'John':1, 'Peter':2, 'Mafalda':3, 'Paul':4, 'Lionel':5}"
   ]
  },
  {
   "cell_type": "code",
   "execution_count": 14,
   "id": "1e431438",
   "metadata": {},
   "outputs": [
    {
     "name": "stdout",
     "output_type": "stream",
     "text": [
      "Problem 2D:\n"
     ]
    }
   ],
   "source": [
    "#Problem 2D\n",
    "print('Problem 2D:')"
   ]
  },
  {
   "cell_type": "code",
   "execution_count": 18,
   "id": "4ff2306e",
   "metadata": {},
   "outputs": [],
   "source": [
    "def triathlon_time_dict(sports,athletes_times):\n",
    "    \"\"\"Function inputs dictionaries sports_dictionary and athlete_dictionary and outputs an informative message about \n",
    "which participant will finish first and their expected time in hours, and which one \n",
    "will finish last and their expected time in hours.\n",
    "Input: Sports(distance), athlete_times(info)\n",
    "Output: participant finish(placing and times).\"\"\"\n",
    "    \n",
    "    sports = sports_dictionary \n",
    "    athlete_times = athlete_dictionary \n",
    "    names = names_dictionary \n",
    "    \n",
    "    Mary = names_dictionary.get(\"Mary\")\n",
    "    John = names_dictionary.get(\"John\")\n",
    "    Peter = names_dictionary.get(\"Peter\")\n",
    "    Mafalda = names_dictionary.get(\"Mafalda\")\n",
    "    Paul = names_dictionary.get(\"Paul\")\n",
    "    Lionel = names_dictionary.get(\"Lionel\")\n",
    "    \n",
    "    names_list = [Mary, John, Peter, Mafalda, Paul, Lionel]\n",
    "    \n",
    "    distances = []\n",
    "    for i in sports_dictionary:\n",
    "        distances.append(sports_dictionary[i])\n",
    "\n",
    "    swim_distance = np.array(distances[0])\n",
    "    bike_distance = np.array(distances[1])\n",
    "    run_distance = np.array(distances[2])\n",
    "\n",
    "    value1 = athlete_dictionary.get('Mary')\n",
    "    Mary_swim = value1[0]\n",
    "    Mary_bike = value1[1]\n",
    "    Mary_run = value1[2]\n",
    "    \n",
    "    value2 = athlete_dictionary.get('John')\n",
    "    John_swim = value2[0]\n",
    "    John_bike = value2[1]\n",
    "    John_run = value2[2]\n",
    "    \n",
    "    value3 = athlete_dictionary.get('Peter')\n",
    "    Peter_swim = value3[0]\n",
    "    Peter_bike = value3[1]\n",
    "    Peter_run = value3[2]\n",
    "    \n",
    "    value4 = athlete_dictionary.get('Mafalda')\n",
    "    Mafalda_swim = value4[0]\n",
    "    Mafalda_bike = value4[1]\n",
    "    Mafalda_run = value4[2]\n",
    "    \n",
    "    value5 = athlete_dictionary.get('Paul')\n",
    "    Paul_swim = value5[0]\n",
    "    Paul_bike = value5[1]\n",
    "    Paul_run = value5[2]\n",
    "    \n",
    "    value6 = athlete_dictionary.get('Lionel')\n",
    "    Lionel_swim = value6[0]\n",
    "    Lionel_bike = value6[1]\n",
    "    Lionel_run = value6[2]\n",
    "        \n",
    "    Mary = (swim_distance/Mary_swim) + (bike_distance/Mary_bike) + (run_distance/Mary_run)\n",
    "    John = (swim_distance/John_swim) + (bike_distance/John_bike) + (run_distance/John_run)\n",
    "    Peter = (swim_distance/Peter_swim) + (bike_distance/Peter_bike) + (run_distance/Peter_run)\n",
    "    Mafalda = (swim_distance/Mafalda_swim) + (bike_distance/Mafalda_bike) + (run_distance/Mafalda_run)\n",
    "    Paul = (swim_distance/Paul_swim) + (bike_distance/Paul_bike) + (run_distance/Paul_run)\n",
    "    Lionel = (swim_distance/Lionel_swim) + (bike_distance/Lionel_bike) + (run_distance/Lionel_run)\n",
    "  \n",
    "    total_time = np.array([Mary,John,Peter,Mafalda,Paul,Lionel])\n",
    "\n",
    "    first_place_athlete = np.min(total_time)\n",
    "    #np.where(total_time==first_place_athlete)\n",
    "\n",
    "    first_place_hours = np.ceil(first_place_athlete / 360)\n",
    "\n",
    "    last_place_athlete = np.max(total_time)\n",
    "    #np.where(total_time==last_place_athlete)\n",
    "            \n",
    "    last_place_hours = np.ceil(last_place_athlete / 360)\n",
    "\n",
    "    print(\"The first place athlete is Paul with the estimated time of\", first_place_hours, 'hours.')\n",
    "    print(\"The last place athlete is Lionel with the estimated time of\", last_place_hours, \"hours.\")"
   ]
  },
  {
   "cell_type": "code",
   "execution_count": 24,
   "id": "9992875d",
   "metadata": {},
   "outputs": [
    {
     "name": "stdout",
     "output_type": "stream",
     "text": [
      "Problem 2E:\n"
     ]
    }
   ],
   "source": [
    "#Problem 2E\n",
    "print('Problem 2E:')"
   ]
  },
  {
   "cell_type": "code",
   "execution_count": 25,
   "id": "e3a4984a",
   "metadata": {},
   "outputs": [],
   "source": [
    "#BUG NOTE: In both triathlon_times and triathlon_times_dict the code does not call the name of the first and last place athlete directly (I was able to assertain who was first and last by using the np.where function- I have commented out this code in the functions)\n",
    "#I have a midterm in ODEs and also Physics 2 this week and I simply just ran out of time to go back and address this bug. "
   ]
  },
  {
   "cell_type": "code",
   "execution_count": 26,
   "id": "f3cca50c",
   "metadata": {},
   "outputs": [
    {
     "name": "stdout",
     "output_type": "stream",
     "text": [
      "The first place athlete is Paul with the estimated time of 93.0 hours.\n",
      "The last place athlete is Lionel with the estimated time of 115.0 hours.\n",
      "None\n"
     ]
    }
   ],
   "source": [
    "print(triathlon_time(sports,athlete_times))"
   ]
  },
  {
   "cell_type": "code",
   "execution_count": 27,
   "id": "f4ade045",
   "metadata": {},
   "outputs": [
    {
     "name": "stdout",
     "output_type": "stream",
     "text": [
      "The first place athlete is Paul with the estimated time of 93.0 hours.\n",
      "The last place athlete is Lionel with the estimated time of 115.0 hours.\n",
      "None\n"
     ]
    }
   ],
   "source": [
    "print(triathlon_time_dict(sports,athlete_times))"
   ]
  },
  {
   "cell_type": "code",
   "execution_count": 19,
   "id": "5b382254",
   "metadata": {},
   "outputs": [
    {
     "name": "stdout",
     "output_type": "stream",
     "text": [
      "Problem 3A:\n"
     ]
    }
   ],
   "source": [
    "#Problem 3A \n",
    "print('Problem 3A:')"
   ]
  },
  {
   "cell_type": "code",
   "execution_count": 20,
   "id": "596ca9cc",
   "metadata": {},
   "outputs": [],
   "source": [
    "#Assignment taken from PHY2049 Lab, section 00290, Lab 1: Calulating and comparing means, uncertainties, and t prime of magentic field as a function of distance\n",
    "#We were to measure the magnetic field strength at different distances, then calculate the mean, standard deviation, standard uncertanties, and t prime values for the data trials\n",
    "#We were then asked to plot the mean values with error bars equal to 4*standard uncertainty for each distance, as well as a plot of the t prime values"
   ]
  },
  {
   "cell_type": "code",
   "execution_count": 28,
   "id": "154b3a22",
   "metadata": {},
   "outputs": [],
   "source": [
    "def mean (distance, trial1, trial2):\n",
    "    \"\"\" Takes the distance and magnetic field strength measurements of a simple magnet and returns mean.\n",
    "    Input: distance(cm), trial1(uT), trial2(uT).\n",
    "    Ouput: mean\"\"\"\n",
    "    \n",
    "    #Reading in data of uT measurements \n",
    "    trials = np.loadtxt(\"../HW9_CSmith/trials.dat\")\n",
    "    \n",
    "    #Finding the means of each trial of measurements \n",
    "    trial1_mean = np.mean(trials[0,:])\n",
    "    trial2_mean = np.mean(trials[1,:])\n",
    "    trial3_mean = np.mean(trials[2,:])\n",
    "    trial4_mean = np.mean(trials[3,:])\n",
    "    trial5_mean = np.mean(trials[4,:])\n",
    "    trial6_mean = np.mean(trials[5,:])\n",
    "    trial7_mean = np.mean(trials[6,:])\n",
    "    trial8_mean = np.mean(trials[7,:])\n",
    "    q = np.array([trial1_mean, trial2_mean, trial3_mean, trial4_mean, trial5_mean, trial6_mean, trial7_mean, trial8_mean])\n",
    "    \n",
    "    return q"
   ]
  },
  {
   "cell_type": "code",
   "execution_count": 29,
   "id": "a3670bd8",
   "metadata": {},
   "outputs": [],
   "source": [
    "def t_prime(distance, trial1, trial2):\n",
    "    \"\"\" Takes the distance and magnetic field strength measurements of a simple magnet, calls for the mean and standard deviation using numpy, and returns t prime calulations.\n",
    "    Input: distance(cm), trial1(uT), trial2(uT).\n",
    "    Ouput: t prime\"\"\"\n",
    "        \n",
    "    #Reading in data of uT measurements \n",
    "    trials = np.loadtxt(\"../HW9_CSmith/trials.dat\")\n",
    "    \n",
    "    #Finding the means of each trial of measurements \n",
    "    trial1_mean = np.mean(trials[0,:])\n",
    "    trial2_mean = np.mean(trials[1,:])\n",
    "    trial3_mean = np.mean(trials[2,:])\n",
    "    trial4_mean = np.mean(trials[3,:])\n",
    "    trial5_mean = np.mean(trials[4,:])\n",
    "    trial6_mean = np.mean(trials[5,:])\n",
    "    trial7_mean = np.mean(trials[6,:])\n",
    "    trial8_mean = np.mean(trials[7,:])\n",
    "    \n",
    "    #Finding the standard deviation between the 2 trial data for each measurement (eg. at 5 cm we recorded 131.5, and 119.7 - np.std(trials[:,0]) is the standard deviation calculation of these two measurements)\n",
    "    trial1_stddev = np.std(trials[0,:])\n",
    "    trial2_stddev = np.std(trials[1,:])\n",
    "    trial3_stddev = np.std(trials[2,:])\n",
    "    trial4_stddev = np.std(trials[3,:])\n",
    "    trial5_stddev = np.std(trials[4,:])\n",
    "    trial6_stddev = np.std(trials[5,:])\n",
    "    trial7_stddev = np.std(trials[6,:])\n",
    "    trial8_stddev = np.std(trials[7,:])\n",
    "    \n",
    "    trial1_stdun = trial1_mean / (np.sqrt(trial1_stddev))\n",
    "    trial2_stdun = trial2_mean / (np.sqrt(trial1_stddev))\n",
    "    trial3_stdun = trial3_mean / (np.sqrt(trial1_stddev))\n",
    "    trial4_stdun = trial4_mean / (np.sqrt(trial1_stddev))\n",
    "    trial5_stdun = trial5_mean / (np.sqrt(trial1_stddev))\n",
    "    trial6_stdun = trial6_mean / (np.sqrt(trial1_stddev))\n",
    "    trial7_stdun = trial7_mean / (np.sqrt(trial1_stddev))\n",
    "    trial8_stdun = trial8_mean / (np.sqrt(trial1_stddev))\n",
    "    \n",
    "    #Calculating t' for trials in pairs (eg. trial 1 & trial 2 will be tprime_1, trial 2 & trial 3 will be tprime_2 and so on)\n",
    "    tprime_1 = (trial1_mean - trial2_mean)/ (np.sqrt((trial1_stdun**2)+(trial2_stdun**2)))\n",
    "    tprime_2 = (trial2_mean - trial3_mean)/ (np.sqrt((trial2_stdun**2)+(trial3_stdun**2)))\n",
    "    tprime_3 = (trial3_mean - trial4_mean)/ (np.sqrt((trial3_stdun**2)+(trial4_stdun**2)))\n",
    "    tprime_4 = (trial4_mean - trial5_mean)/ (np.sqrt((trial4_stdun**2)+(trial5_stdun**2)))\n",
    "    tprime_5 = (trial5_mean - trial6_mean)/ (np.sqrt((trial5_stdun**2)+(trial6_stdun**2)))\n",
    "    tprime_6 = (trial6_mean - trial7_mean)/ (np.sqrt((trial6_stdun**2)+(trial7_stdun**2)))\n",
    "    tprime_7 = (trial7_mean - trial8_mean)/ (np.sqrt((trial7_stdun**2)+(trial8_stdun**2)))\n",
    "    tprime_8 = 0\n",
    "    y = np.array([tprime_1, tprime_2, tprime_3, tprime_4, tprime_5, tprime_6, tprime_7, tprime_8])\n",
    "    \n",
    "    return y"
   ]
  },
  {
   "cell_type": "code",
   "execution_count": 30,
   "id": "14c46cae",
   "metadata": {},
   "outputs": [],
   "source": [
    "def error_bars(distance, trial1, trial2):\n",
    "    \"\"\" Takes the distance and magnetic field strength measurements of a simple magnet, calls for the mean and standard deviation using numpy, calculates the standard uncertainty, and that computes the error bars set to be 4* the standard uncertainty.\n",
    "    Input: distance(cm), trial1(uT), trial2(uT).\n",
    "    Ouput: error bars (4*stdun)\"\"\"\n",
    "    \n",
    "     #Reading in data of uT measurements \n",
    "    trials = np.loadtxt(\"../HW9_CSmith/trials.dat\")\n",
    "    \n",
    "    #Finding the means of each trial of measurements \n",
    "    trial1_mean = np.mean(trials[0,:])\n",
    "    trial2_mean = np.mean(trials[1,:])\n",
    "    trial3_mean = np.mean(trials[2,:])\n",
    "    trial4_mean = np.mean(trials[3,:])\n",
    "    trial5_mean = np.mean(trials[4,:])\n",
    "    trial6_mean = np.mean(trials[5,:])\n",
    "    trial7_mean = np.mean(trials[6,:])\n",
    "    trial8_mean = np.mean(trials[7,:])\n",
    "    \n",
    "    #Finding the standard deviation between the 2 trial data for each measurement (eg. at 5 cm we recorded 131.5, and 119.7 - np.std(trials[:,0]) is the standard deviation calculation of these two measurements)\n",
    "    trial1_stddev = np.std(trials[0,:])\n",
    "    trial2_stddev = np.std(trials[1,:])\n",
    "    trial3_stddev = np.std(trials[2,:])\n",
    "    trial4_stddev = np.std(trials[3,:])\n",
    "    trial5_stddev = np.std(trials[4,:])\n",
    "    trial6_stddev = np.std(trials[5,:])\n",
    "    trial7_stddev = np.std(trials[6,:])\n",
    "    trial8_stddev = np.std(trials[7,:])\n",
    "    \n",
    "    #Calculating standard uncertainties \n",
    "    trial1_stdun = trial1_mean / (np.sqrt(trial1_stddev))\n",
    "    trial2_stdun = trial2_mean / (np.sqrt(trial1_stddev))\n",
    "    trial3_stdun = trial3_mean / (np.sqrt(trial1_stddev))\n",
    "    trial4_stdun = trial4_mean / (np.sqrt(trial1_stddev))\n",
    "    trial5_stdun = trial5_mean / (np.sqrt(trial1_stddev))\n",
    "    trial6_stdun = trial6_mean / (np.sqrt(trial1_stddev))\n",
    "    trial7_stdun = trial7_mean / (np.sqrt(trial1_stddev))\n",
    "    trial8_stdun = trial8_mean / (np.sqrt(trial1_stddev))\n",
    "    z = np.array([trial1_stdun, trial2_stdun, trial3_stdun, trial4_stdun, trial5_stdun, trial6_stdun, trial7_stdun, trial8_stdun])\n",
    "    \n",
    "    error = 4*z\n",
    "    \n",
    "    return error "
   ]
  },
  {
   "cell_type": "code",
   "execution_count": 37,
   "id": "fb88a87e",
   "metadata": {},
   "outputs": [],
   "source": [
    "trial1 = np.array([119.7,81.5,64.1,49.9,46.2,44.9,44.4,44.4])\n",
    "trial2 = np.array([131.5,108.4,71.43,54.0,46.9,42.7,42.0,41.8])\n",
    "distance = [5,7.5,10,15,20,30,40,50]\n",
    "q = mean(distance, trial1, trial2)\n",
    "y = t_prime(distance, trial1, trial2)\n",
    "error = error_bars(distance, trial1, trial2)\n",
    "#print(q)\n",
    "#print(y)\n",
    "#print(error)"
   ]
  },
  {
   "cell_type": "code",
   "execution_count": 34,
   "id": "557746e5",
   "metadata": {},
   "outputs": [
    {
     "name": "stdout",
     "output_type": "stream",
     "text": [
      "Problem 3B:\n"
     ]
    }
   ],
   "source": [
    "#Problem 3B\n",
    "print('Problem 3B:')"
   ]
  },
  {
   "cell_type": "code",
   "execution_count": 35,
   "id": "cc4219a8",
   "metadata": {},
   "outputs": [],
   "source": [
    "mark_syms = 'D'\n",
    "mark_color = 'red'\n",
    "mark_syms2 = 'o'\n",
    "mark_color2 = 'blue'"
   ]
  },
  {
   "cell_type": "code",
   "execution_count": 36,
   "id": "eff26835",
   "metadata": {},
   "outputs": [
    {
     "data": {
      "image/png": "[encoded data removed]",
      "text/plain": [
       "<Figure size 1152x1152 with 2 Axes>"
      ]
     },
     "metadata": {
      "needs_background": "light"
     },
     "output_type": "display_data"
    }
   ],
   "source": [
    "fig = plt.figure( figsize = (16,16) )\n",
    "ax1 = fig.add_subplot(1, 1, 1)\n",
    "ax2 = ax1.twinx()\n",
    "x = np.array([5,7.5,10,15,20,30,40,50])\n",
    "\n",
    "ax1.plot(  x, y,linestyle = 'none', marker = mark_syms2, color = mark_color2, markersize = 20, label = 't prime value')\n",
    "ax1.legend( fontsize = 35 )\n",
    "ax1.set_ylabel( 't prime value', color='blue', fontsize=35, rotation = 90 )\n",
    "ax1.set_xlabel('x', fontsize=35)\n",
    "ax1.tick_params( axis=\"both\", labelsize=25, length = 10 , direction = 'out') \n",
    "ax1.set_yticks( np.arange( 0,10, step = 1 ) ,fontsize=15) \n",
    "plt.xticks( np.array([5,7.5,10,15,20,30,40,50]) , fontsize= 15)\n",
    "ax1.set_xticklabels(['5cm ', '7.5cm', '10cm', '15cm', '20cm', '30cm', '40cm', '50cm'], rotation = 90)\n",
    "    \n",
    "ax2.plot( x, q,linestyle = 'none', marker = mark_syms, color = mark_color, markersize = 20, label = 'mean value')\n",
    "ax2.set_ylabel( 'mean value', color='red', fontsize=35, rotation = 90 )\n",
    "ax2.tick_params( axis=\"both\", labelsize=25, length = 10 , direction = 'out') \n",
    "plt.title('The t prime and standard uncertanties of the magnetic field (uT) as a function of distance (cm)', fontsize = 35)\n",
    "ax2.legend(  loc = 'upper left',fontsize = 35 )\n",
    "#Adding eror bars from for loop\n",
    "zerror = error \n",
    "plt.errorbar(x, q, zerror, ms=10)\n",
    "plt.show()"
   ]
  },
  {
   "cell_type": "code",
   "execution_count": 33,
   "id": "48355627",
   "metadata": {},
   "outputs": [
    {
     "name": "stdout",
     "output_type": "stream",
     "text": [
      "Problem 4\n"
     ]
    }
   ],
   "source": [
    "#Problem 4\n",
    "print('Problem 4')"
   ]
  },
  {
   "cell_type": "code",
   "execution_count": 69,
   "id": "4e69212c",
   "metadata": {},
   "outputs": [],
   "source": [
    "class graduation_presents:     \n",
    "    def __init__(self, a = 0, b = 0, c = 0, wrap_paper_available = 0, number_of_gifts = 0):\n",
    "        self.a = a\n",
    "        self.b = b \n",
    "        self.c = c \n",
    "        self.wrap_paper_available = wrap_paper_available\n",
    "        self.number_of_gifts = number_of_gifts \n",
    "\n",
    "    def surface_area(self):\n",
    "        self.surface_area = ((2*self.a*self.b)+(2*self.b*self.c)+(2*self.a*self.c))\n",
    "        return self.surface_area\n",
    "    \n",
    "    def volume(self):\n",
    "        self.volume = self.a*self.b*self.c\n",
    "        return self.volume\n",
    "    \n",
    "    def enough_paper(self):\n",
    "        self.enough_paper = self.wrap_paper_available\n",
    "        return self.enough_paper <= self.wrap_paper_available\n",
    "            \n",
    "    def fits(self): \n",
    "        return self.volume() >= self.number_of_gifts*25\n",
    "    \n",
    "    def print_gifts(self):\n",
    "        if self.enough_paper():\n",
    "            print(\"You have enough wrapping paper!\")\n",
    "        if self.fits(): \n",
    "            print(\"All your presents fit!\")\n",
    "        else:\n",
    "            print(\"Sorry your presents will not fit\")"
   ]
  },
  {
   "cell_type": "code",
   "execution_count": 70,
   "id": "e0a03c23",
   "metadata": {},
   "outputs": [
    {
     "name": "stdout",
     "output_type": "stream",
     "text": [
      "You have enough wrapping paper!\n",
      "All your presents fit!\n",
      "None\n"
     ]
    }
   ],
   "source": [
    "grad1 = graduation_presents(10,10,10,800,15)\n",
    "print(grad1.print_gifts())"
   ]
  },
  {
   "cell_type": "code",
   "execution_count": 71,
   "id": "aa284b95",
   "metadata": {},
   "outputs": [
    {
     "name": "stdout",
     "output_type": "stream",
     "text": [
      "You have enough wrapping paper!\n",
      "Sorry your presents will not fit\n",
      "None\n"
     ]
    }
   ],
   "source": [
    "grad2 = graduation_presents(10,10,10,1000,55)\n",
    "print(grad2.print_gifts())"
   ]
  },
  {
   "cell_type": "code",
   "execution_count": 73,
   "id": "fa96084e",
   "metadata": {},
   "outputs": [
    {
     "name": "stdout",
     "output_type": "stream",
     "text": [
      "You have enough wrapping paper!\n",
      "All your presents fit!\n",
      "None\n"
     ]
    }
   ],
   "source": [
    "grad3 = graduation_presents(100,20,10,300,55)\n",
    "print(grad3.print_gifts())"
   ]
  },
  {
   "cell_type": "code",
   "execution_count": null,
   "id": "b35ab802",
   "metadata": {},
   "outputs": [],
   "source": [
    "#BUG NOTE: Im not sure where in my code is the bug that is returning the none result along with the proper print statements "
   ]
  },
  {
   "cell_type": "code",
   "execution_count": 25,
   "id": "8e6e3c1b",
   "metadata": {},
   "outputs": [
    {
     "name": "stdout",
     "output_type": "stream",
     "text": [
      "Problem 5:\n"
     ]
    }
   ],
   "source": [
    "#Problem 5 \n",
    "print('Problem 5:')"
   ]
  },
  {
   "cell_type": "code",
   "execution_count": 26,
   "id": "b902b11f",
   "metadata": {},
   "outputs": [
    {
     "name": "stdout",
     "output_type": "stream",
     "text": [
      "End of Homework 9:\n"
     ]
    }
   ],
   "source": [
    "#End of Homework 9\n",
    "print('End of Homework 9:')"
   ]
  }
 ],
 "metadata": {
  "kernelspec": {
   "display_name": "Python 3 (ipykernel)",
   "language": "python",
   "name": "python3"
  },
  "language_info": {
   "codemirror_mode": {
    "name": "ipython",
    "version": 3
   },
   "file_extension": ".py",
   "mimetype": "text/x-python",
   "name": "python",
   "nbconvert_exporter": "python",
   "pygments_lexer": "ipython3",
   "version": "3.9.7"
  }
 },
 "nbformat": 4,
 "nbformat_minor": 5
}
