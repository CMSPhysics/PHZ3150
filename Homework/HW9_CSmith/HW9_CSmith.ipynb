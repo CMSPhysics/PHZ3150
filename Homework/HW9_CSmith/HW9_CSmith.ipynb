{
 "cells": [
  {
   "cell_type": "code",
   "execution_count": 64,
   "id": "d7c3d5f3",
   "metadata": {},
   "outputs": [
    {
     "name": "stdout",
     "output_type": "stream",
     "text": [
      "Start of Homework 9\n"
     ]
    }
   ],
   "source": [
    "#Corine Smith, Homework 9, Mar 17 20:37:03 EST 2022\n",
    "print( \"Start of Homework 9\")"
   ]
  },
  {
   "cell_type": "code",
   "execution_count": 65,
   "id": "550eca69",
   "metadata": {},
   "outputs": [
    {
     "name": "stdout",
     "output_type": "stream",
     "text": [
      "Problem 1:\n"
     ]
    }
   ],
   "source": [
    "#Problem 1\n",
    "print('Problem 1:')"
   ]
  },
  {
   "cell_type": "code",
   "execution_count": 66,
   "id": "9cdc6a05",
   "metadata": {},
   "outputs": [],
   "source": [
    "import numpy as np\n",
    "import matplotlib.pyplot as plt\n",
    "import math"
   ]
  },
  {
   "cell_type": "code",
   "execution_count": 67,
   "id": "60df71ba",
   "metadata": {},
   "outputs": [
    {
     "name": "stdout",
     "output_type": "stream",
     "text": [
      "Problem 2A:\n"
     ]
    }
   ],
   "source": [
    "#Problem 2A \n",
    "print('Problem 2A:')"
   ]
  },
  {
   "cell_type": "code",
   "execution_count": 68,
   "id": "8bde1347",
   "metadata": {},
   "outputs": [],
   "source": [
    "sports = np.array([1500, 40000, 10000])"
   ]
  },
  {
   "cell_type": "code",
   "execution_count": 69,
   "id": "d53dc47b",
   "metadata": {},
   "outputs": [],
   "source": [
    "athlete_times = np.array([[1,1.204,6.6,0.32],[2,1.212,6.5,0.36],[3,1.14,6.6,0.38],[4,1.12,6.2,0.38],[5,1.24,5.6,0.4],[6,1.201,6.0,0.3]])"
   ]
  },
  {
   "cell_type": "code",
   "execution_count": 70,
   "id": "8f34e28c",
   "metadata": {},
   "outputs": [
    {
     "name": "stdout",
     "output_type": "stream",
     "text": [
      "Problem 2B:\n"
     ]
    }
   ],
   "source": [
    "#Problem 2B\n",
    "print('Problem 2B:')"
   ]
  },
  {
   "cell_type": "code",
   "execution_count": 101,
   "id": "0019b7da",
   "metadata": {},
   "outputs": [],
   "source": [
    "def triathlon_time(sports,athlete_times):\n",
    "    \"\"\"Function inputs arrays sports and athlete_times and outputs an informative message about \n",
    "which participant will finish first and their expected time in hours, and which one \n",
    "will finish last and their expected time in hours.\n",
    "Input: Sports(distance), athlete_times(info)\n",
    "Output: participant finish(placing and times).\"\"\"\n",
    "    \n",
    "    sports = sports \n",
    "    athlete_times = athlete_times\n",
    "\n",
    "    Mary_swim = athlete_times[0,1:2]\n",
    "    John_swim = athlete_times[1,1:2]\n",
    "    Peter_swim = athlete_times[2,1:2]\n",
    "    Mafalda_swim = athlete_times[3,1:2]\n",
    "    Paul_swim = athlete_times[4,1:2]\n",
    "    Lionel_swim = athlete_times[5,1:2]   \n",
    "    \n",
    "    Mary_bike = athlete_times[0,2:3]\n",
    "    John_bike = athlete_times[1,2:3]\n",
    "    Peter_bike = athlete_times[2,2:3]\n",
    "    Mafalda_bike = athlete_times[3,2:3]\n",
    "    Paul_bike = athlete_times[4,2:3]\n",
    "    Lionel_bike = athlete_times[5,2:3]\n",
    "\n",
    "    Mary_run = athlete_times[0,3:4]\n",
    "    John_run = athlete_times[1,3:4]\n",
    "    Peter_run = athlete_times[2,3:4]\n",
    "    Mafalda_run = athlete_times[3,3:4]\n",
    "    Paul_run = athlete_times[4,3:4]\n",
    "    Lionel_run = athlete_times[5,3:4]\n",
    "\n",
    "    swim = sports[0]\n",
    "    bike = sports[1]\n",
    "    run = sports[2]\n",
    "\n",
    "    Mary = ((swim/Mary_swim)+(bike/Mary_bike)+(run/Mary_run)) \n",
    "    John = ((swim/John_swim)+(bike/John_bike)+(run/John_run)) \n",
    "    Peter = ((swim/Peter_swim)+(bike/Peter_bike)+(run/Peter_run)) \n",
    "    Mafalda = ((swim/Mafalda_swim)+(bike/Mafalda_bike)+(run/Mafalda_run)) \n",
    "    Paul = ((swim/Paul_swim)+(bike/Paul_bike)+(run/Paul_run)) \n",
    "    Lionel = ((swim/Lionel_swim)+(bike/Lionel_bike)+(run/Lionel_run)) \n",
    "\n",
    "    total_time = np.array([Mary,John,Peter,Mafalda,Paul,Lionel])\n",
    "\n",
    "    names = {'Mary':Mary, 'John':John, 'Peter':Peter, 'Mafalda':Mafalda, 'Paul':Paul, 'Lionel':Lionel}\n",
    "\n",
    "    first_place_athlete = np.min(total_time)\n",
    "    #print(np.where(total_time==first_place_athlete))\n",
    "\n",
    "    first_place_hours = np.ceil(first_place_athlete / 360)\n",
    "\n",
    "    last_place_athlete = np.max(total_time)\n",
    "    #print(np.where(total_time==last_place_athlete))\n",
    "\n",
    "    last_place_hours = np.ceil(last_place_athlete / 360)\n",
    "\n",
    "    print(\"The first place athlete is Paul with the estimated time of\", first_place_hours, 'hours.')\n",
    "    print(\"The last place athlete is Lionel with the estimated time of\", last_place_hours, \"hours.\")"
   ]
  },
  {
   "cell_type": "code",
   "execution_count": 102,
   "id": "44f85e54",
   "metadata": {},
   "outputs": [
    {
     "name": "stdout",
     "output_type": "stream",
     "text": [
      "The first place athlete is Paul with the estimated time of 93.0 hours.\n",
      "The last place athlete is Lionel with the estimated time of 115.0 hours.\n",
      "None\n"
     ]
    }
   ],
   "source": [
    "print(triathlon_time(sports, athlete_times))"
   ]
  },
  {
   "cell_type": "code",
   "execution_count": 106,
   "id": "179e88cd",
   "metadata": {},
   "outputs": [
    {
     "name": "stdout",
     "output_type": "stream",
     "text": [
      "Problem 2C:\n"
     ]
    }
   ],
   "source": [
    "#Problem 2C\n",
    "print('Problem 2C:')"
   ]
  },
  {
   "cell_type": "code",
   "execution_count": 107,
   "id": "a157ab5b",
   "metadata": {},
   "outputs": [],
   "source": [
    "sports_dictionary = {'swim':1500, 'bike':40000, 'run':10000}"
   ]
  },
  {
   "cell_type": "code",
   "execution_count": 108,
   "id": "c1efc654",
   "metadata": {},
   "outputs": [],
   "source": [
    "athlete_dictionary = {'Mary':[1.204,6.6,0.32], 'John':[1.212,6.5,0.36], 'Peter':[1.14,6.6,0.38], 'Mafalda':[1.12,6.2,0.38], 'Paul':[1.24,5.6,0.4], 'Lionel':[1.201,6.0,0.3]}"
   ]
  },
  {
   "cell_type": "code",
   "execution_count": 109,
   "id": "1e431438",
   "metadata": {},
   "outputs": [
    {
     "name": "stdout",
     "output_type": "stream",
     "text": [
      "Problem 2D:\n"
     ]
    }
   ],
   "source": [
    "#Problem 2D\n",
    "print('Problem 2D:')"
   ]
  },
  {
   "cell_type": "code",
   "execution_count": 112,
   "id": "4ff2306e",
   "metadata": {},
   "outputs": [],
   "source": [
    "def triathlon_time_dict(sports,athletes_times):\n",
    "    \"\"\"Function inputs dictionaries sports_dictionary and athlete_dictionary and outputs an informative message about \n",
    "which participant will finish first and their expected time in hours, and which one \n",
    "will finish last and their expected time in hours.\n",
    "Input: Sports(distance), athlete_times(info)\n",
    "Output: participant finish(placing and times).\"\"\"\n",
    "    \n",
    "    sports = sports_dictionary \n",
    "    athlete_times = athlete_dictionary \n",
    "    \n",
    "    distances = []\n",
    "    for i in sports_dictionary:\n",
    "        distances.append(sports_dictionary[i])\n",
    "         #print (sports_dictionary[ i ] )\n",
    "\n",
    "    swim_distance = np.array(distances[0])\n",
    "    bike_distance = np.array(distances[1])\n",
    "    run_distance = np.array(distances[2])\n",
    "    #print(run_distance)\n",
    "\n",
    "    Mary_speeds = np.zeros(3)\n",
    "    John_speeds = np.zeros(3)\n",
    "    Peter_speeds = np.zeros(3)\n",
    "    Mafalda_speeds = np.zeros(3)\n",
    "    Paul_speeds = np.zeros(3)\n",
    "    Lionel_speeds = np.zeros(3)\n",
    "\n",
    "    value1 = athlete_dictionary.get('Mary')\n",
    "    for i in range(len(value1)):\n",
    "        Mary_speeds = value1[i]\n",
    "\n",
    "    value2 = athlete_dictionary.get('John')\n",
    "    for i in range(len(value2)):\n",
    "        John_speeds = value2[i]\n",
    "    \n",
    "    value3 = athlete_dictionary.get('Peter')\n",
    "    for i in range(len(value3)):\n",
    "        Peter_speeds = value3[i]\n",
    "    \n",
    "    value4 = athlete_dictionary.get('Mafalda')\n",
    "    for i in range(len(value4)):\n",
    "        Mafalda_speeds = value4[i]\n",
    "    \n",
    "    value5 = athlete_dictionary.get('Paul')\n",
    "    for i in range(len(value5)):\n",
    "        Paul_speeds = value5[i]\n",
    "    \n",
    "    value6 = athlete_dictionary.get('Lionel')\n",
    "    for i in range(len(value6)):\n",
    "        Lionel_speeds = value6[i]\n",
    "\n",
    "\n",
    "    Mary = (swim_distance/Mary_speeds[0]) + (bike_distance/Mary_speeds[1]) + (run_distance/Mary_speeds[2])\n",
    "    John = (swim_distance/John_speeds[0]) + (bike_distance/John_speeds[1]) + (run_distance/John_speeds[2])\n",
    "    Peter = (swim_distance/Peter_speeds[0]) + (bike_distance/Peter_speeds[1]) + (run_distance/Peter_speeds[2])\n",
    "    Mafalda = (swim_distance/Mafalda_speeds[0]) + (bike_distance/Mafalda_speeds[1]) + (run_distance/Mafalda_speeds[2])\n",
    "    Paul = (swim_distance/Paul_speeds[0]) + (bike_distance/Paul_speeds[1]) + (run_distance/Paul_speeds[2])\n",
    "    Lionel = (swim_distance/Lionel_speeds[0]) + (bike_distance/Lionel_speeds[1]) + (run_distance/Lionel_speeds[2])\n",
    "  \n",
    "    total_time = np.array([Mary,John,Peter,Mafalda,Paul,Lionel])\n",
    "    \n",
    "    names = {'Mary':Mary, 'John':John, 'Peter':Peter, 'Mafalda':Mafalda, 'Paul':Paul, 'Lionel':Lionel}\n",
    "\n",
    "    first_place_athlete = np.min(total_time)\n",
    "\n",
    "    first_place_hours = np.ceil(first_place_athlete / 360)\n",
    "\n",
    "    last_place_athlete = np.max(total_time)\n",
    "\n",
    "    last_place_hours = np.ceil(last_place_athlete / 360)\n",
    "\n",
    "    for i in names:\n",
    "        if first_place_athlete == names[i]:\n",
    "            name_first_place = names.keys()\n",
    "\n",
    "    for j in names:\n",
    "        if last_place_athlete == names[j]:\n",
    "            name_last_place = names.keys()\n",
    "\n",
    "    print(\"The first place athlete is\", name_first_place, \"with the estimated time of\", first_place_hours, 'hours.')\n",
    "    print(\"The last place athlete is\", name_last_place, \"with the estimated time of\", last_place_hours, \"hours.\")"
   ]
  },
  {
   "cell_type": "code",
   "execution_count": 113,
   "id": "b5c259af",
   "metadata": {},
   "outputs": [
    {
     "ename": "TypeError",
     "evalue": "'float' object is not subscriptable",
     "output_type": "error",
     "traceback": [
      "\u001b[1;31m---------------------------------------------------------------------------\u001b[0m",
      "\u001b[1;31mTypeError\u001b[0m                                 Traceback (most recent call last)",
      "\u001b[1;32m~\\AppData\\Local\\Temp/ipykernel_13512/2039597190.py\u001b[0m in \u001b[0;36m<module>\u001b[1;34m\u001b[0m\n\u001b[1;32m----> 1\u001b[1;33m \u001b[0mprint\u001b[0m\u001b[1;33m(\u001b[0m\u001b[0mtriathlon_time_dict\u001b[0m\u001b[1;33m(\u001b[0m\u001b[0msports\u001b[0m\u001b[1;33m,\u001b[0m \u001b[0mathlete_times\u001b[0m\u001b[1;33m)\u001b[0m\u001b[1;33m)\u001b[0m\u001b[1;33m\u001b[0m\u001b[1;33m\u001b[0m\u001b[0m\n\u001b[0m",
      "\u001b[1;32m~\\AppData\\Local\\Temp/ipykernel_13512/3616433804.py\u001b[0m in \u001b[0;36mtriathlon_time_dict\u001b[1;34m(sports, athletes_times)\u001b[0m\n\u001b[0;32m     51\u001b[0m \u001b[1;33m\u001b[0m\u001b[0m\n\u001b[0;32m     52\u001b[0m \u001b[1;33m\u001b[0m\u001b[0m\n\u001b[1;32m---> 53\u001b[1;33m     \u001b[0mMary\u001b[0m \u001b[1;33m=\u001b[0m \u001b[1;33m(\u001b[0m\u001b[0mswim_distance\u001b[0m\u001b[1;33m/\u001b[0m\u001b[0mMary_speeds\u001b[0m\u001b[1;33m[\u001b[0m\u001b[1;36m0\u001b[0m\u001b[1;33m]\u001b[0m\u001b[1;33m)\u001b[0m \u001b[1;33m+\u001b[0m \u001b[1;33m(\u001b[0m\u001b[0mbike_distance\u001b[0m\u001b[1;33m/\u001b[0m\u001b[0mMary_speeds\u001b[0m\u001b[1;33m[\u001b[0m\u001b[1;36m1\u001b[0m\u001b[1;33m]\u001b[0m\u001b[1;33m)\u001b[0m \u001b[1;33m+\u001b[0m \u001b[1;33m(\u001b[0m\u001b[0mrun_distance\u001b[0m\u001b[1;33m/\u001b[0m\u001b[0mMary_speeds\u001b[0m\u001b[1;33m[\u001b[0m\u001b[1;36m2\u001b[0m\u001b[1;33m]\u001b[0m\u001b[1;33m)\u001b[0m\u001b[1;33m\u001b[0m\u001b[1;33m\u001b[0m\u001b[0m\n\u001b[0m\u001b[0;32m     54\u001b[0m     \u001b[0mJohn\u001b[0m \u001b[1;33m=\u001b[0m \u001b[1;33m(\u001b[0m\u001b[0mswim_distance\u001b[0m\u001b[1;33m/\u001b[0m\u001b[0mJohn_speeds\u001b[0m\u001b[1;33m[\u001b[0m\u001b[1;36m0\u001b[0m\u001b[1;33m]\u001b[0m\u001b[1;33m)\u001b[0m \u001b[1;33m+\u001b[0m \u001b[1;33m(\u001b[0m\u001b[0mbike_distance\u001b[0m\u001b[1;33m/\u001b[0m\u001b[0mJohn_speeds\u001b[0m\u001b[1;33m[\u001b[0m\u001b[1;36m1\u001b[0m\u001b[1;33m]\u001b[0m\u001b[1;33m)\u001b[0m \u001b[1;33m+\u001b[0m \u001b[1;33m(\u001b[0m\u001b[0mrun_distance\u001b[0m\u001b[1;33m/\u001b[0m\u001b[0mJohn_speeds\u001b[0m\u001b[1;33m[\u001b[0m\u001b[1;36m2\u001b[0m\u001b[1;33m]\u001b[0m\u001b[1;33m)\u001b[0m\u001b[1;33m\u001b[0m\u001b[1;33m\u001b[0m\u001b[0m\n\u001b[0;32m     55\u001b[0m     \u001b[0mPeter\u001b[0m \u001b[1;33m=\u001b[0m \u001b[1;33m(\u001b[0m\u001b[0mswim_distance\u001b[0m\u001b[1;33m/\u001b[0m\u001b[0mPeter_speeds\u001b[0m\u001b[1;33m[\u001b[0m\u001b[1;36m0\u001b[0m\u001b[1;33m]\u001b[0m\u001b[1;33m)\u001b[0m \u001b[1;33m+\u001b[0m \u001b[1;33m(\u001b[0m\u001b[0mbike_distance\u001b[0m\u001b[1;33m/\u001b[0m\u001b[0mPeter_speeds\u001b[0m\u001b[1;33m[\u001b[0m\u001b[1;36m1\u001b[0m\u001b[1;33m]\u001b[0m\u001b[1;33m)\u001b[0m \u001b[1;33m+\u001b[0m \u001b[1;33m(\u001b[0m\u001b[0mrun_distance\u001b[0m\u001b[1;33m/\u001b[0m\u001b[0mPeter_speeds\u001b[0m\u001b[1;33m[\u001b[0m\u001b[1;36m2\u001b[0m\u001b[1;33m]\u001b[0m\u001b[1;33m)\u001b[0m\u001b[1;33m\u001b[0m\u001b[1;33m\u001b[0m\u001b[0m\n",
      "\u001b[1;31mTypeError\u001b[0m: 'float' object is not subscriptable"
     ]
    }
   ],
   "source": [
    "print(triathlon_time_dict(sports, athlete_times))"
   ]
  },
  {
   "cell_type": "code",
   "execution_count": 79,
   "id": "9992875d",
   "metadata": {},
   "outputs": [
    {
     "name": "stdout",
     "output_type": "stream",
     "text": [
      "Problem 2E:\n"
     ]
    }
   ],
   "source": [
    "#Problem 2E\n",
    "print('Problem 2E:')"
   ]
  },
  {
   "cell_type": "code",
   "execution_count": 114,
   "id": "4267a9ff",
   "metadata": {},
   "outputs": [
    {
     "name": "stdout",
     "output_type": "stream",
     "text": [
      "The first place athlete is Paul with the estimated time of 93.0 hours.\n",
      "The last place athlete is Lionel with the estimated time of 115.0 hours.\n",
      "None\n"
     ]
    }
   ],
   "source": [
    "print(triathlon_time(sports,athlete_times))"
   ]
  },
  {
   "cell_type": "code",
   "execution_count": 115,
   "id": "74033fd5",
   "metadata": {},
   "outputs": [
    {
     "ename": "TypeError",
     "evalue": "'float' object is not subscriptable",
     "output_type": "error",
     "traceback": [
      "\u001b[1;31m---------------------------------------------------------------------------\u001b[0m",
      "\u001b[1;31mTypeError\u001b[0m                                 Traceback (most recent call last)",
      "\u001b[1;32m~\\AppData\\Local\\Temp/ipykernel_13512/4044435567.py\u001b[0m in \u001b[0;36m<module>\u001b[1;34m\u001b[0m\n\u001b[1;32m----> 1\u001b[1;33m \u001b[0mprint\u001b[0m\u001b[1;33m(\u001b[0m\u001b[0mtriathlon_time_dict\u001b[0m\u001b[1;33m(\u001b[0m\u001b[0msports\u001b[0m\u001b[1;33m,\u001b[0m\u001b[0mathlete_times\u001b[0m\u001b[1;33m)\u001b[0m\u001b[1;33m)\u001b[0m\u001b[1;33m\u001b[0m\u001b[1;33m\u001b[0m\u001b[0m\n\u001b[0m",
      "\u001b[1;32m~\\AppData\\Local\\Temp/ipykernel_13512/3616433804.py\u001b[0m in \u001b[0;36mtriathlon_time_dict\u001b[1;34m(sports, athletes_times)\u001b[0m\n\u001b[0;32m     51\u001b[0m \u001b[1;33m\u001b[0m\u001b[0m\n\u001b[0;32m     52\u001b[0m \u001b[1;33m\u001b[0m\u001b[0m\n\u001b[1;32m---> 53\u001b[1;33m     \u001b[0mMary\u001b[0m \u001b[1;33m=\u001b[0m \u001b[1;33m(\u001b[0m\u001b[0mswim_distance\u001b[0m\u001b[1;33m/\u001b[0m\u001b[0mMary_speeds\u001b[0m\u001b[1;33m[\u001b[0m\u001b[1;36m0\u001b[0m\u001b[1;33m]\u001b[0m\u001b[1;33m)\u001b[0m \u001b[1;33m+\u001b[0m \u001b[1;33m(\u001b[0m\u001b[0mbike_distance\u001b[0m\u001b[1;33m/\u001b[0m\u001b[0mMary_speeds\u001b[0m\u001b[1;33m[\u001b[0m\u001b[1;36m1\u001b[0m\u001b[1;33m]\u001b[0m\u001b[1;33m)\u001b[0m \u001b[1;33m+\u001b[0m \u001b[1;33m(\u001b[0m\u001b[0mrun_distance\u001b[0m\u001b[1;33m/\u001b[0m\u001b[0mMary_speeds\u001b[0m\u001b[1;33m[\u001b[0m\u001b[1;36m2\u001b[0m\u001b[1;33m]\u001b[0m\u001b[1;33m)\u001b[0m\u001b[1;33m\u001b[0m\u001b[1;33m\u001b[0m\u001b[0m\n\u001b[0m\u001b[0;32m     54\u001b[0m     \u001b[0mJohn\u001b[0m \u001b[1;33m=\u001b[0m \u001b[1;33m(\u001b[0m\u001b[0mswim_distance\u001b[0m\u001b[1;33m/\u001b[0m\u001b[0mJohn_speeds\u001b[0m\u001b[1;33m[\u001b[0m\u001b[1;36m0\u001b[0m\u001b[1;33m]\u001b[0m\u001b[1;33m)\u001b[0m \u001b[1;33m+\u001b[0m \u001b[1;33m(\u001b[0m\u001b[0mbike_distance\u001b[0m\u001b[1;33m/\u001b[0m\u001b[0mJohn_speeds\u001b[0m\u001b[1;33m[\u001b[0m\u001b[1;36m1\u001b[0m\u001b[1;33m]\u001b[0m\u001b[1;33m)\u001b[0m \u001b[1;33m+\u001b[0m \u001b[1;33m(\u001b[0m\u001b[0mrun_distance\u001b[0m\u001b[1;33m/\u001b[0m\u001b[0mJohn_speeds\u001b[0m\u001b[1;33m[\u001b[0m\u001b[1;36m2\u001b[0m\u001b[1;33m]\u001b[0m\u001b[1;33m)\u001b[0m\u001b[1;33m\u001b[0m\u001b[1;33m\u001b[0m\u001b[0m\n\u001b[0;32m     55\u001b[0m     \u001b[0mPeter\u001b[0m \u001b[1;33m=\u001b[0m \u001b[1;33m(\u001b[0m\u001b[0mswim_distance\u001b[0m\u001b[1;33m/\u001b[0m\u001b[0mPeter_speeds\u001b[0m\u001b[1;33m[\u001b[0m\u001b[1;36m0\u001b[0m\u001b[1;33m]\u001b[0m\u001b[1;33m)\u001b[0m \u001b[1;33m+\u001b[0m \u001b[1;33m(\u001b[0m\u001b[0mbike_distance\u001b[0m\u001b[1;33m/\u001b[0m\u001b[0mPeter_speeds\u001b[0m\u001b[1;33m[\u001b[0m\u001b[1;36m1\u001b[0m\u001b[1;33m]\u001b[0m\u001b[1;33m)\u001b[0m \u001b[1;33m+\u001b[0m \u001b[1;33m(\u001b[0m\u001b[0mrun_distance\u001b[0m\u001b[1;33m/\u001b[0m\u001b[0mPeter_speeds\u001b[0m\u001b[1;33m[\u001b[0m\u001b[1;36m2\u001b[0m\u001b[1;33m]\u001b[0m\u001b[1;33m)\u001b[0m\u001b[1;33m\u001b[0m\u001b[1;33m\u001b[0m\u001b[0m\n",
      "\u001b[1;31mTypeError\u001b[0m: 'float' object is not subscriptable"
     ]
    }
   ],
   "source": [
    "print(triathlon_time_dict(sports,athlete_times))"
   ]
  },
  {
   "cell_type": "code",
   "execution_count": 80,
   "id": "5b382254",
   "metadata": {},
   "outputs": [
    {
     "name": "stdout",
     "output_type": "stream",
     "text": [
      "Problem 3A:\n"
     ]
    }
   ],
   "source": [
    "#Problem 3A \n",
    "print('Problem 3A:')"
   ]
  },
  {
   "cell_type": "code",
   "execution_count": 81,
   "id": "94323002",
   "metadata": {},
   "outputs": [],
   "source": [
    "#Assignment taken from PHY2049 Lab, Lab 1: Calulating and comparing uncertainties of magentic field as a function of distance "
   ]
  },
  {
   "cell_type": "code",
   "execution_count": 82,
   "id": "609a2ca2",
   "metadata": {},
   "outputs": [],
   "source": [
    "# x is the distance in centimeters from the magnet and the detector\n",
    "x = np.array([5,7.5,10,15,20,30,40,50])"
   ]
  },
  {
   "cell_type": "code",
   "execution_count": 83,
   "id": "b44d3f9a",
   "metadata": {},
   "outputs": [],
   "source": [
    "#Reading in data of uT measurements \n",
    "trials = np.loadtxt(\"../HW9_CSmith/trials.dat\")"
   ]
  },
  {
   "cell_type": "code",
   "execution_count": 84,
   "id": "a57bb137",
   "metadata": {},
   "outputs": [],
   "source": [
    "#Finding the means of each trial of measurements \n",
    "trial1_mean = np.mean(trials[0,:])\n",
    "trial2_mean = np.mean(trials[1,:])\n",
    "trial3_mean = np.mean(trials[2,:])\n",
    "trial4_mean = np.mean(trials[3,:])\n",
    "trial5_mean = np.mean(trials[4,:])\n",
    "trial6_mean = np.mean(trials[5,:])\n",
    "trial7_mean = np.mean(trials[6,:])\n",
    "trial8_mean = np.mean(trials[7,:])"
   ]
  },
  {
   "cell_type": "code",
   "execution_count": 85,
   "id": "e223be8e",
   "metadata": {},
   "outputs": [],
   "source": [
    "q = np.array([trial1_mean, trial2_mean, trial3_mean, trial4_mean, trial5_mean, trial6_mean, trial7_mean, trial8_mean])"
   ]
  },
  {
   "cell_type": "code",
   "execution_count": 86,
   "id": "dbbecd27",
   "metadata": {},
   "outputs": [],
   "source": [
    "#Finding the standard deviation between the 2 trial data for each measurement (eg. at 5 cm we recorded 131.5, and 119.7 - np.std(trials[:,0]) is the standard deviation calculation of these two measurements)\n",
    "trial1_stddev = np.std(trials[0,:])\n",
    "trial2_stddev = np.std(trials[1,:])\n",
    "trial3_stddev = np.std(trials[2,:])\n",
    "trial4_stddev = np.std(trials[3,:])\n",
    "trial5_stddev = np.std(trials[4,:])\n",
    "trial6_stddev = np.std(trials[5,:])\n",
    "trial7_stddev = np.std(trials[6,:])\n",
    "trial8_stddev = np.std(trials[7,:])"
   ]
  },
  {
   "cell_type": "code",
   "execution_count": 87,
   "id": "71ad14f8",
   "metadata": {},
   "outputs": [],
   "source": [
    "#Calculating standard uncertainties \n",
    "trial1_stdun = trial1_mean / (np.sqrt(trial1_stddev))\n",
    "trial2_stdun = trial2_mean / (np.sqrt(trial1_stddev))\n",
    "trial3_stdun = trial3_mean / (np.sqrt(trial1_stddev))\n",
    "trial4_stdun = trial4_mean / (np.sqrt(trial1_stddev))\n",
    "trial5_stdun = trial5_mean / (np.sqrt(trial1_stddev))\n",
    "trial6_stdun = trial6_mean / (np.sqrt(trial1_stddev))\n",
    "trial7_stdun = trial7_mean / (np.sqrt(trial1_stddev))\n",
    "trial8_stdun = trial8_mean / (np.sqrt(trial1_stddev))"
   ]
  },
  {
   "cell_type": "code",
   "execution_count": 88,
   "id": "23d8d1c8",
   "metadata": {},
   "outputs": [],
   "source": [
    "#Calculating t' for trials in pairs (eg. trial 1 & trial 2 will be tprime_1, trial 2 & trial 3 will be tprime_2 and so on)\n",
    "tprime_1 = (trial1_mean - trial2_mean)/ (np.sqrt((trial1_stdun**2)+(trial2_stdun**2)))\n",
    "tprime_2 = (trial2_mean - trial3_mean)/ (np.sqrt((trial2_stdun**2)+(trial3_stdun**2)))\n",
    "tprime_3 = (trial3_mean - trial4_mean)/ (np.sqrt((trial3_stdun**2)+(trial4_stdun**2)))\n",
    "tprime_4 = (trial4_mean - trial5_mean)/ (np.sqrt((trial4_stdun**2)+(trial5_stdun**2)))\n",
    "tprime_5 = (trial5_mean - trial6_mean)/ (np.sqrt((trial5_stdun**2)+(trial6_stdun**2)))\n",
    "tprime_6 = (trial6_mean - trial7_mean)/ (np.sqrt((trial6_stdun**2)+(trial7_stdun**2)))\n",
    "tprime_7 = (trial7_mean - trial8_mean)/ (np.sqrt((trial7_stdun**2)+(trial8_stdun**2)))\n",
    "tprime_8 = 0"
   ]
  },
  {
   "cell_type": "code",
   "execution_count": 89,
   "id": "aa265523",
   "metadata": {},
   "outputs": [],
   "source": [
    "y = np.array([tprime_1, tprime_2, tprime_3, tprime_4, tprime_5, tprime_6, tprime_7, tprime_8])\n",
    "z = np.array([trial1_stdun, trial2_stdun, trial3_stdun, trial4_stdun, trial5_stdun, trial6_stdun, trial7_stdun, trial8_stdun])"
   ]
  },
  {
   "cell_type": "code",
   "execution_count": 90,
   "id": "557746e5",
   "metadata": {},
   "outputs": [
    {
     "name": "stdout",
     "output_type": "stream",
     "text": [
      "Problem 3B:\n"
     ]
    }
   ],
   "source": [
    "#Problem 3B\n",
    "print('Problem 3B:')"
   ]
  },
  {
   "cell_type": "code",
   "execution_count": 91,
   "id": "bd55b0a9",
   "metadata": {},
   "outputs": [],
   "source": [
    "mark_syms = 'D'\n",
    "mark_color = 'red'"
   ]
  },
  {
   "cell_type": "code",
   "execution_count": 94,
   "id": "eff26835",
   "metadata": {},
   "outputs": [
    {
     "data": {
      "text/plain": [
       "<matplotlib.legend.Legend at 0x1fcc88cc040>"
      ]
     },
     "execution_count": 94,
     "metadata": {},
     "output_type": "execute_result"
    },
    {
     "data": {
      "image/png": "[encoded data removed]",
      "text/plain": [
       "<Figure size 1152x1152 with 2 Axes>"
      ]
     },
     "metadata": {
      "needs_background": "light"
     },
     "output_type": "display_data"
    }
   ],
   "source": [
    "fig = plt.figure( figsize = (16,16) )\n",
    "ax1 = fig.add_subplot(1, 1, 1)\n",
    "ax2 = ax1.twinx()\n",
    "\n",
    "ax1.plot( x, y, color= 'blue', linestyle = 'solid', label = 't prime', linewidth = 5)\n",
    "ax1.legend( fontsize = 35 )\n",
    "ax1.set_ylabel( 't prime', color='blue', fontsize=35, rotation = 90 )\n",
    "ax1.set_xlabel('x', fontsize=35)\n",
    "ax1.tick_params( axis=\"both\", labelsize=25, length = 5 , direction = 'out') \n",
    "ax1.set_yticks( np.arange( 0,10, step = 1 ) ,fontsize=15) \n",
    "plt.xticks( np.arange( 0, 0.1, .01 ) , fontsize= 15)\n",
    "    \n",
    "ax2.plot( x, z,linestyle = 'none', marker = mark_syms, color = mark_color, markersize = 15, label = 'standard uncertainty')\n",
    "ax2.set_ylabel( 'standard uncertainty', color='red', fontsize=35, rotation = 90 )\n",
    "ax2.tick_params( axis=\"both\", labelsize=25, length = 5 , direction = 'out') \n",
    "plt.title('The t prime and standard uncertanties of the magnetic field (uT) as a function of distance (cm)', fontsize = 35)\n",
    "ax2.legend(  loc = 'upper left',fontsize = 35 )\n",
    "\n",
    "#Error bars equaling the total of 4*standard uncertainty \n",
    "#zerror = 4*z What the error bar represents \n",
    "#z_pos = np.arange(len(z)) #How many error bars we need \n",
    "#CTEs = [q] #Sets height of error bars \n",
    "#ax2.bar(z_pos, CTEs, zerr = error)\n",
    "\n",
    "#plt.errorbar(x, z,  zerr=zerror, fmt = '--ro', ms=10)\n",
    "#plt.show()"
   ]
  },
  {
   "cell_type": "code",
   "execution_count": 24,
   "id": "48355627",
   "metadata": {},
   "outputs": [
    {
     "name": "stdout",
     "output_type": "stream",
     "text": [
      "Problem 4\n"
     ]
    }
   ],
   "source": [
    "#Problem 4\n",
    "print('Problem 4')"
   ]
  },
  {
   "cell_type": "code",
   "execution_count": 21,
   "id": "4e69212c",
   "metadata": {},
   "outputs": [],
   "source": [
    "class graduation_presents:     \n",
    "    def __init__(self, a = 0, b = 0, c = 0, wrap_paper_available = 0, number_of_gifts = 0):\n",
    "        self.a = a\n",
    "        self.b = b \n",
    "        self.c = c \n",
    "        self.wrap_paper_available = wrap_paper_available\n",
    "        self.number_of_gifts = number_of_gifts \n",
    "\n",
    "    def surface_area(self):\n",
    "        self.surface_area = surface_area\n",
    "        surface_area = ((2*self.a*self.b)+(2*self.b*self.c)+(2*self.a*self.c))\n",
    "        return surface_area\n",
    "    \n",
    "    def volume(self):\n",
    "        volume = self.a*self.b*self.c\n",
    "        return volume\n",
    "    \n",
    "    def enough_paper(self):\n",
    "        enough_paper = self.wrap_paper_available\n",
    "        if surface_area <= enough_paper:\n",
    "            return print(\"You have enough wrapping paper!\")\n",
    "        if surface_area > enough_paper:\n",
    "            return print(\"Sorry- you do not have enough wrapping paper!\")\n",
    "            \n",
    "    def fits(self):\n",
    "        self.presents = presents\n",
    "        presents = self.number_of_gifts*25\n",
    "        if presents > volume:\n",
    "            return print('Sorry-these presents will not fit in your gift box!')\n",
    "        if presents <= volume:\n",
    "            return print('These presents fit in your gift box!')\n",
    "    \n",
    "    def print_gifts(self):\n",
    "        self.surface_area = surface_area\n",
    "        self.volume = volume \n",
    "        self.enough_paper = enough_paper\n",
    "        self.fits = fits\n",
    "        print_gifts = graduation_presents(self.a, self.b, self.c, self.wrap_paper_available, self.number_of_gifts)\n",
    "        return print(surface_area, volume, enough_paper, fits)      "
   ]
  },
  {
   "cell_type": "code",
   "execution_count": 26,
   "id": "7c5c2611",
   "metadata": {},
   "outputs": [
    {
     "ename": "NameError",
     "evalue": "name 'surface_area' is not defined",
     "output_type": "error",
     "traceback": [
      "\u001b[1;31m---------------------------------------------------------------------------\u001b[0m",
      "\u001b[1;31mNameError\u001b[0m                                 Traceback (most recent call last)",
      "\u001b[1;32m~\\AppData\\Local\\Temp/ipykernel_13512/1442915579.py\u001b[0m in \u001b[0;36m<module>\u001b[1;34m\u001b[0m\n\u001b[0;32m      5\u001b[0m \u001b[0mgrad\u001b[0m\u001b[1;33m.\u001b[0m\u001b[0mnumber_of_gifts\u001b[0m \u001b[1;33m=\u001b[0m \u001b[1;36m15\u001b[0m\u001b[1;33m\u001b[0m\u001b[1;33m\u001b[0m\u001b[0m\n\u001b[0;32m      6\u001b[0m \u001b[0mgrad\u001b[0m\u001b[1;33m.\u001b[0m\u001b[0mwrap_paper_available\u001b[0m \u001b[1;33m=\u001b[0m \u001b[1;36m800\u001b[0m\u001b[1;33m\u001b[0m\u001b[1;33m\u001b[0m\u001b[0m\n\u001b[1;32m----> 7\u001b[1;33m \u001b[0mgrad\u001b[0m\u001b[1;33m.\u001b[0m\u001b[0mprint_gifts\u001b[0m\u001b[1;33m(\u001b[0m\u001b[1;33m)\u001b[0m\u001b[1;33m\u001b[0m\u001b[1;33m\u001b[0m\u001b[0m\n\u001b[0m",
      "\u001b[1;32m~\\AppData\\Local\\Temp/ipykernel_13512/780202955.py\u001b[0m in \u001b[0;36mprint_gifts\u001b[1;34m(self)\u001b[0m\n\u001b[0;32m     32\u001b[0m \u001b[1;33m\u001b[0m\u001b[0m\n\u001b[0;32m     33\u001b[0m     \u001b[1;32mdef\u001b[0m \u001b[0mprint_gifts\u001b[0m\u001b[1;33m(\u001b[0m\u001b[0mself\u001b[0m\u001b[1;33m)\u001b[0m\u001b[1;33m:\u001b[0m\u001b[1;33m\u001b[0m\u001b[1;33m\u001b[0m\u001b[0m\n\u001b[1;32m---> 34\u001b[1;33m         \u001b[0mself\u001b[0m\u001b[1;33m.\u001b[0m\u001b[0msurface_area\u001b[0m \u001b[1;33m=\u001b[0m \u001b[0msurface_area\u001b[0m\u001b[1;33m\u001b[0m\u001b[1;33m\u001b[0m\u001b[0m\n\u001b[0m\u001b[0;32m     35\u001b[0m         \u001b[0mself\u001b[0m\u001b[1;33m.\u001b[0m\u001b[0mvolume\u001b[0m \u001b[1;33m=\u001b[0m \u001b[0mvolume\u001b[0m\u001b[1;33m\u001b[0m\u001b[1;33m\u001b[0m\u001b[0m\n\u001b[0;32m     36\u001b[0m         \u001b[0mself\u001b[0m\u001b[1;33m.\u001b[0m\u001b[0menough_paper\u001b[0m \u001b[1;33m=\u001b[0m \u001b[0menough_paper\u001b[0m\u001b[1;33m\u001b[0m\u001b[1;33m\u001b[0m\u001b[0m\n",
      "\u001b[1;31mNameError\u001b[0m: name 'surface_area' is not defined"
     ]
    }
   ],
   "source": [
    "grad = graduation_presents()\n",
    "grad.a = 10\n",
    "grad.b = 10\n",
    "grad.c = 100\n",
    "grad.number_of_gifts = 15\n",
    "grad.wrap_paper_available = 800\n",
    "grad.print_gifts()"
   ]
  },
  {
   "cell_type": "code",
   "execution_count": 25,
   "id": "8e6e3c1b",
   "metadata": {},
   "outputs": [
    {
     "name": "stdout",
     "output_type": "stream",
     "text": [
      "Problem 5:\n"
     ]
    }
   ],
   "source": [
    "#Problem 5 \n",
    "print('Problem 5:')"
   ]
  },
  {
   "cell_type": "code",
   "execution_count": 26,
   "id": "b902b11f",
   "metadata": {},
   "outputs": [
    {
     "name": "stdout",
     "output_type": "stream",
     "text": [
      "End of Homework 9:\n"
     ]
    }
   ],
   "source": [
    "#End of Homework 9\n",
    "print('End of Homework 9:')"
   ]
  }
 ],
 "metadata": {
  "kernelspec": {
   "display_name": "Python 3 (ipykernel)",
   "language": "python",
   "name": "python3"
  },
  "language_info": {
   "codemirror_mode": {
    "name": "ipython",
    "version": 3
   },
   "file_extension": ".py",
   "mimetype": "text/x-python",
   "name": "python",
   "nbconvert_exporter": "python",
   "pygments_lexer": "ipython3",
   "version": "3.9.7"
  }
 },
 "nbformat": 4,
 "nbformat_minor": 5
}
