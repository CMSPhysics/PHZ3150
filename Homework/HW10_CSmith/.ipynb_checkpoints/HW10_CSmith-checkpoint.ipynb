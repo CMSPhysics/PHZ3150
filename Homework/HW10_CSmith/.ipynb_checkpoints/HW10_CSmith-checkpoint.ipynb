{
 "cells": [
  {
   "cell_type": "code",
   "execution_count": 1,
   "id": "6047ed80",
   "metadata": {},
   "outputs": [
    {
     "name": "stdout",
     "output_type": "stream",
     "text": [
      "Start of Homework 10\n"
     ]
    }
   ],
   "source": [
    "#Corine Smith, Homework 10, Mar 25 14:19:27 EST 2022\n",
    "print( \"Start of Homework 10\")"
   ]
  },
  {
   "cell_type": "code",
   "execution_count": 2,
   "id": "0d3d11d9",
   "metadata": {},
   "outputs": [
    {
     "name": "stdout",
     "output_type": "stream",
     "text": [
      "Problem 1:\n"
     ]
    }
   ],
   "source": [
    "#Problem 1:\n",
    "print(\"Problem 1:\")"
   ]
  },
  {
   "cell_type": "code",
   "execution_count": 3,
   "id": "9fa978a1",
   "metadata": {},
   "outputs": [],
   "source": [
    "import numpy as np\n",
    "import math \n",
    "import matplotlib.pyplot as plt \n",
    "import pdb"
   ]
  },
  {
   "cell_type": "code",
   "execution_count": 4,
   "id": "7b7a8943",
   "metadata": {},
   "outputs": [
    {
     "name": "stdout",
     "output_type": "stream",
     "text": [
      "Problem 2:\n"
     ]
    }
   ],
   "source": [
    "#Problem 2:\n",
    "print(\"Problem 2:\")"
   ]
  },
  {
   "cell_type": "code",
   "execution_count": 5,
   "id": "ecb72260",
   "metadata": {},
   "outputs": [],
   "source": [
    "# get the data from the experiments:\n",
    "my_data = np.array( ( [12, 34, -3, 27, 28, -17 ], \n",
    "                    [ 6, 52, 37, -22, -67, 12 ], \n",
    "                    [29, -124, 8, -45, -44, 50 ], \n",
    "                    [ 3, 18, -69, 32, 48, 284 ] ) )\n",
    "\n",
    "my_control_data = np.array( ( [12, 442, -12, 22, 21, 17 ], \n",
    "                    [ 0, -32, 32, -22, -61, -2 ], \n",
    "                    [22, -14, 8, 35, -41, 45 ], \n",
    "                    [ 33, 21, -62, 132, 47, 34 ] ) )"
   ]
  },
  {
   "cell_type": "code",
   "execution_count": 6,
   "id": "0ec55e41",
   "metadata": {},
   "outputs": [
    {
     "name": "stderr",
     "output_type": "stream",
     "text": [
      "C:\\Users\\3daye\\AppData\\Local\\Temp/ipykernel_23456/1508146613.py:13: RuntimeWarning: divide by zero encountered in long_scalars\n",
      "  rel_dif = (my_data[ i, j ] - my_control_data[ i, j ])/ my_control_data[ i, j ]\n"
     ]
    }
   ],
   "source": [
    "#make mask data control array equal to 3:\n",
    "data_control = (0 * my_data) + 3\n",
    "#print(data_control)\n",
    "\n",
    "#loop over arrays and check values:\n",
    "for i in range(len(my_control_data)):\n",
    "    for j in range(len(my_control_data)):\n",
    "        #print(l1, l2) -- looping through my_control_data\n",
    "        for i in range(len(my_data)): \n",
    "            for j in range(len(my_data)):\n",
    "                #print(my_data[i, j])\n",
    "                #calculate the relative error\n",
    "                rel_dif = (my_data[ i, j ] - my_control_data[ i, j ])/ my_control_data[ i, j ] \n",
    "                #print(rel_dif)\n",
    "                #check it in comparison to the known limits and flag the mask accordingly\n",
    "                if (rel_dif > 0 and rel_dif <= 0.15):\n",
    "                    data_control[ i, j] = 1\n",
    "                    #print(data_control[i,j])\n",
    "                    #print(rel_dif <= 0.15)\n",
    "                elif (rel_dif > 0.15 and rel_dif <= 0.25 ):\n",
    "                    data_control[ i, j] = 2\n",
    "                    #print(data_control[i,j])\n",
    "                    #print(rel_dif > 0.15 and rel_dif <= 0.25)\n",
    "                elif rel_dif >0.25:\n",
    "                    data_control[i,j] = 3\n",
    "                    #print(data_control[i,j])\n",
    "                    #print(rel_dif > 0.25)\n",
    "                elif rel_dif <= 0: \n",
    "                    #(my_data[ i, j ] > 0 and my_control_data[ i, j ] < 0) or (my_data[ i, j ] < 0 and my_control_data[ i, j ] < 0) :\n",
    "                    data_control[ i, j ] = 4 "
   ]
  },
  {
   "cell_type": "code",
   "execution_count": 7,
   "id": "680b3dcb",
   "metadata": {},
   "outputs": [
    {
     "name": "stdout",
     "output_type": "stream",
     "text": [
      "Comments for debugging code:\n"
     ]
    }
   ],
   "source": [
    "#Comments for debugging in code\n",
    "print('Comments for debugging code:')"
   ]
  },
  {
   "cell_type": "code",
   "execution_count": 8,
   "id": "f72efc8c",
   "metadata": {},
   "outputs": [],
   "source": [
    "#I removed the period behind the 0 in the mask data_control. If wasnt a bug just unnessecary for the code since the output are all supposed to be single digit integers\n",
    "#I inserted brackets around the multiplication of (0*my_data) to ensure correct arthematic order of operations was followed \n",
    "#I changed the first loop to range(len(my_control_data)) to be clear on what data set is exactly being looped over \n",
    "#I had to define what i and j meant for my_data, and in order to achieve all possible combinations of i and j, I wrote in a for loop for i an j in range(len(my_data))\n",
    "#I changed the variables from l1 and l2 to i and j, so that in the loops that are masking the values of the relative errors it is consistent\n",
    "#I checked that the results were reasonable by printing print(rel_dif) and print(data_control) to check that the loops worked as they should\n",
    "#I checked using a print(my_data[i,j]) to check that the masking worked correctly, and initally it did not it printed results not within the set parameters. \n",
    "#I changed the first data mask from rel_dif <= .15 which as it is written also includes negative values which is not what was meant, to rel_dif > 0 and rel_dif <= 0.15\n",
    "#There was a coding error in which the programmer forgot to add in the elif statement checking for data that is above 25% relative error.  I added this elif statement in. \n",
    "#I changed the last loop in the masking of rel_div to simply read if rel_dif <= 0, as we are not interested in relative differences that are negative (sign flip), and the = will classify any data points in the sets that are 0"
   ]
  },
  {
   "cell_type": "code",
   "execution_count": null,
   "id": "4a01bfd6",
   "metadata": {},
   "outputs": [],
   "source": [
    "#While the code does run, I am not certain that it is running completely correctly and that I have addressed all the bugs as it only returns one value as being within the standards of good data (1)"
   ]
  },
  {
   "cell_type": "code",
   "execution_count": 9,
   "id": "f21ef903",
   "metadata": {},
   "outputs": [
    {
     "name": "stdout",
     "output_type": "stream",
     "text": [
      "[[4 4 4 2 3 3]\n",
      " [3 4 2 4 3 3]\n",
      " [3 3 4 4 3 3]\n",
      " [4 4 1 4 3 3]]\n"
     ]
    }
   ],
   "source": [
    "#check the output:\n",
    "print( data_control )"
   ]
  },
  {
   "cell_type": "code",
   "execution_count": 11,
   "id": "a63a58dd",
   "metadata": {},
   "outputs": [
    {
     "data": {
      "image/png": "[encoded data removed]",
      "text/plain": [
       "<Figure size 576x576 with 1 Axes>"
      ]
     },
     "metadata": {
      "needs_background": "light"
     },
     "output_type": "display_data"
    }
   ],
   "source": [
    "#visualize your results:\n",
    "#plot the datasets using a different color for the different flags: 1= red, 2 = blue, 3 = gray, 4 = orange\n",
    "# also use different symbols: 1 = circles, 2 = squares, 3 = diamonds, 4 = stars\n",
    "\n",
    "#get edges of plot:\n",
    "min_xy = np.min( [np.min( my_data ), np.min( my_control_data ) ] )\n",
    "max_xy = np.max( [np.max( my_data ), np.max( my_control_data ) ] )\n",
    "#print(min_xy)\n",
    "#print(max_xy)\n",
    "\n",
    "\n",
    "#set up the plot\n",
    "plt.figure( figsize= (8,8) )\n",
    "\n",
    "plt.plot( np.arange( 8 ), np.linspace( min_xy, max_xy, num = 8 )  , linestyle = 'none')\n",
    "\n",
    "n = 0\n",
    "#plot all i,j combinations:\n",
    "for i in range(len(data_control)):\n",
    "    for j in range(len(data_control)):\n",
    "        \n",
    "        if data_control[ i, j ] == 1:\n",
    "            plt.plot( n, my_data[ i,j ], color = 'red', marker = 'o' )\n",
    "            plt.plot( n, my_control_data[ i,j ], color = 'red', marker = 'o' )\n",
    "        if data_control[ i, j ] == 2:\n",
    "            plt.plot( n, my_data[ i,j ], color = 'blue', marker = 's' )\n",
    "            plt.plot( n, my_control_data[ i,j ], color = 'blue', marker = 's' )\n",
    "        if data_control[ i, j ] == 3: \n",
    "            plt.plot( n, my_data[ i,j ], color = 'gray', marker = 'd' )\n",
    "            plt.plot( n, my_control_data[ i,j ], color = 'gray', marker = 'd' )\n",
    "        if data_control[ i, j ] == 4:\n",
    "            plt.plot( n, my_data[ i,j ], color = 'orange', marker = '*' )\n",
    "            plt.plot( n, my_control_data[ i,j ], color = 'orange', marker = '*' )\n",
    "\n",
    "    n = n +1"
   ]
  },
  {
   "cell_type": "code",
   "execution_count": 68,
   "id": "2909053f",
   "metadata": {},
   "outputs": [
    {
     "name": "stdout",
     "output_type": "stream",
     "text": [
      "Comments on debugging:\n"
     ]
    }
   ],
   "source": [
    "#Comments on debugging\n",
    "print('Comments on debugging:')"
   ]
  },
  {
   "cell_type": "code",
   "execution_count": 10,
   "id": "a2e8dff0",
   "metadata": {},
   "outputs": [],
   "source": [
    "#Added second = in loop 3 to make it a logical statement ( if data_control[i,j] == 3)\n",
    "#In the fourth loop the marker and color was not added if data_control[i,j]==4\n",
    "#I checked that the axis were correct using print statements for the max_xy and min_xy values \n",
    "#I changed loop to read range(len(data_control))\n",
    "#I changed the step size of the x and y axis to make the graph more reader friendly "
   ]
  },
  {
   "cell_type": "code",
   "execution_count": null,
   "id": "38536d25",
   "metadata": {},
   "outputs": [],
   "source": [
    "#The plot appears to have plotted the values correctly from data_control, I am not certain what exactly the x-axis should be labeled or what values it should have to make more sense in this circumstance"
   ]
  },
  {
   "cell_type": "code",
   "execution_count": 11,
   "id": "337d704c",
   "metadata": {},
   "outputs": [
    {
     "name": "stdout",
     "output_type": "stream",
     "text": [
      "Problem 3:\n"
     ]
    }
   ],
   "source": [
    "#Problem3\n",
    "print(\"Problem 3:\")"
   ]
  },
  {
   "cell_type": "code",
   "execution_count": 12,
   "id": "9b8dbfcb",
   "metadata": {},
   "outputs": [],
   "source": [
    "def my_circuit(configuration, resistors, resistances,circuit):\n",
    "    \"\"\"Function takes in input about choice of circuit (series or parallel), number of resistors, and array of resistances, and the voltage.\n",
    "    Input: configuration(series or parallel), resistors(#), resistances(ohms), circuit(V or I)\n",
    "    Output: total resistance(ohms), total voltage if series (V) or total current if parallel (A)\"\"\"\n",
    "    \n",
    "    configurations_available = ['series', 'parallel']\n",
    "    \n",
    "    for i in configurations_available:\n",
    "        if i == configuration:\n",
    "            if configuration == 'parallel':\n",
    "                resistor = resistors[0]\n",
    "                resistance = resistances[1,:]\n",
    "                V = circuit[1]\n",
    "                R = np.round((np.power(((1/resistance[0])+(1/resistance[1])+(1/resistance[2])), -1)), 2)\n",
    "                I = np.round((V / R) , 2)\n",
    "                print('For a parallel circuit, the total resistance with', resistor ,'resistors that you chose is', R, 'Ohms, and with', V, ' Volts voltage, the total current is', I, 'Amperes!')\n",
    "                return    \n",
    "            else:\n",
    "                resistors = resistors[1]\n",
    "                resistance = resistances[0,:]\n",
    "                R = np.sum(resistance)\n",
    "                I = circuit[0]\n",
    "                V = I*R\n",
    "                print('For a series circuit the total resistance with the', resistors, 'resistors that you chose is', R, 'Ohms, and with', I, 'Amperes current, the total voltage is', V, 'Volts!')\n",
    "                return "
   ]
  },
  {
   "cell_type": "code",
   "execution_count": 16,
   "id": "d9cbc469",
   "metadata": {},
   "outputs": [
    {
     "name": "stdout",
     "output_type": "stream",
     "text": [
      "What type of circuit are you building?parallel\n"
     ]
    }
   ],
   "source": [
    "configuration = input(\"What type of circuit are you building?\")\n",
    "resistances = np.array(([5.0,2.0,7.0],[12.0,5.0,20.0]))\n",
    "resistors = ['3','3']\n",
    "circuit = [10.0, 15.0]"
   ]
  },
  {
   "cell_type": "code",
   "execution_count": 17,
   "id": "4e39233b",
   "metadata": {},
   "outputs": [
    {
     "name": "stdout",
     "output_type": "stream",
     "text": [
      "For a parallel circuit, the total resistance with 3 resistors that you chose is 3.0 Ohms, and with 15.0  Volts voltage, the total current is 5.0 Amperes!\n"
     ]
    }
   ],
   "source": [
    "#series or parallel as you wish\n",
    "x = my_circuit(configuration, resistors, resistances,circuit)"
   ]
  },
  {
   "cell_type": "code",
   "execution_count": 18,
   "id": "026c577c",
   "metadata": {},
   "outputs": [
    {
     "name": "stdout",
     "output_type": "stream",
     "text": [
      "What type of circuit are you building?series\n"
     ]
    }
   ],
   "source": [
    "configuration = input(\"What type of circuit are you building?\")\n",
    "resistances = np.array(([5.0,2.0,7.0],[12.0,5.0,20.0]))\n",
    "resistors = ['3','3']\n",
    "circuit = [10.0, 15.0]"
   ]
  },
  {
   "cell_type": "code",
   "execution_count": 19,
   "id": "4c2a0f52",
   "metadata": {},
   "outputs": [
    {
     "name": "stdout",
     "output_type": "stream",
     "text": [
      "For a series circuit the total resistance with the 3 resistors that you chose is 14.0 Ohms, and with 10.0 Amperes current, the total voltage is 140.0 Volts!\n"
     ]
    }
   ],
   "source": [
    "#series or parallel as you wish\n",
    "x = my_circuit(configuration, resistors, resistances,circuit)"
   ]
  },
  {
   "cell_type": "code",
   "execution_count": 46,
   "id": "7cf8da34",
   "metadata": {},
   "outputs": [
    {
     "name": "stdout",
     "output_type": "stream",
     "text": [
      "Problem 4:\n"
     ]
    }
   ],
   "source": [
    "#Problem 4\n",
    "print('Problem 4:')"
   ]
  },
  {
   "cell_type": "code",
   "execution_count": 22,
   "id": "16b1c703",
   "metadata": {},
   "outputs": [],
   "source": [
    "planets = {'Mercury':0.39, 'Venus':0.72, 'Earth':1, 'Mars':1.52, 'Jupiter':5.2, 'Saturn':9.54, 'Uranus':19.2, 'Neptune':30.06}"
   ]
  },
  {
   "cell_type": "code",
   "execution_count": 23,
   "id": "edf24e8d",
   "metadata": {},
   "outputs": [
    {
     "name": "stdout",
     "output_type": "stream",
     "text": [
      "Problem 4A:\n"
     ]
    }
   ],
   "source": [
    "#Problem 4:\n",
    "print('Problem 4A:')"
   ]
  },
  {
   "cell_type": "code",
   "execution_count": 24,
   "id": "61270213",
   "metadata": {},
   "outputs": [],
   "source": [
    "def period(name):\n",
    "    \"\"\"Calculates the rotational period of a planet when its average orbital distance a  is known using Kepler's 3rd law\n",
    "    Input: average distance from sun (a) in AU\n",
    "    Ouput: orbital period (p).\"\"\"\n",
    "    \n",
    "    a = planets[name]\n",
    "    \n",
    "    p = np.round(np.sqrt(a**3), 2)\n",
    "    \n",
    "    return p\n"
   ]
  },
  {
   "cell_type": "code",
   "execution_count": 25,
   "id": "79ea6859",
   "metadata": {},
   "outputs": [
    {
     "name": "stdout",
     "output_type": "stream",
     "text": [
      "0.24\n",
      "0.61\n",
      "1.0\n",
      "1.87\n",
      "11.86\n",
      "29.47\n",
      "84.13\n",
      "164.81\n"
     ]
    }
   ],
   "source": [
    "r1 = period('Mercury')\n",
    "print(r1)\n",
    "r2 = period('Venus')\n",
    "print(r2)\n",
    "r3 = period('Earth')\n",
    "print(r3)\n",
    "r4 = period('Mars')\n",
    "print(r4)\n",
    "r5 = period('Jupiter')\n",
    "print(r5)\n",
    "r6 = period('Saturn')\n",
    "print(r6)\n",
    "r7 = period('Uranus')\n",
    "print(r7)\n",
    "r8 = period('Neptune')\n",
    "print(r8)"
   ]
  },
  {
   "cell_type": "code",
   "execution_count": 51,
   "id": "b2e81931",
   "metadata": {},
   "outputs": [
    {
     "data": {
      "image/png": "[encoded data removed]",
      "text/plain": [
       "<Figure size 1152x1152 with 1 Axes>"
      ]
     },
     "metadata": {
      "needs_background": "light"
     },
     "output_type": "display_data"
    }
   ],
   "source": [
    "radius_Mercury = 0.39\n",
    "n = 1000\n",
    "phi =np.linspace(0,2*np.pi,n)\n",
    "theta = np.zeros([n])\n",
    "x1 = np.zeros([n])\n",
    "y1 = np.zeros([n])\n",
    "for i in range(0,n):\n",
    "    x1[i] = radius_Mercury*np.cos(phi[i])\n",
    "for i in range(0,n):\n",
    "    y1[i] = radius_Mercury*np.sin(phi[i])\n",
    "    #print(x,y)   \n",
    "radius_Venus = 0.72\n",
    "n = 1000\n",
    "phi =np.linspace(0,2*np.pi,n)\n",
    "theta = np.zeros([n])\n",
    "x2 = np.zeros([n])\n",
    "y2 = np.zeros([n])\n",
    "for i in range(0,n):\n",
    "    x2[i] = radius_Venus*np.cos(phi[i])\n",
    "for i in range(0,n):\n",
    "    y2[i] = radius_Venus*np.sin(phi[i])\n",
    "    #print(x2,y2)\n",
    "\n",
    "radius_Earth = 1\n",
    "n = 1000\n",
    "phi =np.linspace(0,2*np.pi,n)\n",
    "theta = np.zeros([n])\n",
    "x3 = np.zeros([n])\n",
    "y3 = np.zeros([n])\n",
    "for i in range(0,n):\n",
    "    x3[i] = radius_Earth*np.cos(phi[i])\n",
    "for i in range(0,n):\n",
    "    y3[i] = radius_Earth*np.sin(phi[i])\n",
    "    #print(x3,y3)\n",
    "radius_Mars = 1.52\n",
    "n = 1000\n",
    "phi =np.linspace(0,2*np.pi,n)\n",
    "theta = np.zeros([n])\n",
    "x4 = np.zeros([n])\n",
    "y4 = np.zeros([n])\n",
    "for i in range(0,n):\n",
    "    x4[i] = radius_Mars*np.cos(phi[i])\n",
    "for i in range(0,n):\n",
    "    y4[i] = radius_Mars*np.sin(phi[i])\n",
    "    #print(x4,y4) \n",
    "radius_Jupiter = 5.2\n",
    "n = 1000\n",
    "phi =np.linspace(0,2*np.pi,n)\n",
    "theta = np.zeros([n])\n",
    "x5 = np.zeros([n])\n",
    "y5 = np.zeros([n])\n",
    "for i in range(0,n):\n",
    "    x5[i] = radius_Jupiter*np.cos(phi[i])\n",
    "for i in range(0,n):\n",
    "    y5[i] = radius_Jupiter*np.sin(phi[i])\n",
    "    #print(x5,y5)\n",
    "radius_Saturn = 9.54\n",
    "n = 1000\n",
    "phi =np.linspace(0,2*np.pi,n)\n",
    "theta = np.zeros([n])\n",
    "x6 = np.zeros([n])\n",
    "y6 = np.zeros([n])\n",
    "for i in range(0,n):\n",
    "    x6[i] = radius_Saturn*np.cos(phi[i])\n",
    "for i in range(0,n):\n",
    "    y6[i] = radius_Saturn*np.sin(phi[i])\n",
    "    #print(x6,y6)\n",
    "radius_Uranus = 19.2\n",
    "n = 1000\n",
    "phi =np.linspace(0,2*np.pi,n)\n",
    "theta = np.zeros([n])\n",
    "x7 = np.zeros([n])\n",
    "y7 = np.zeros([n])\n",
    "for i in range(0,n):\n",
    "    x7[i] = radius_Uranus*np.cos(phi[i])\n",
    "for i in range(0,n):\n",
    "    y7[i] = radius_Uranus*np.sin(phi[i])\n",
    "    #print(x7,y7)\n",
    "radius_Neptune = 30.06\n",
    "n = 1000\n",
    "phi =np.linspace(0,2*np.pi,n)\n",
    "theta = np.zeros([n])\n",
    "x8 = np.zeros([n])\n",
    "y8 = np.zeros([n])\n",
    "for i in range(0,n):\n",
    "    x8[i] = radius_Neptune*np.cos(phi[i])\n",
    "for i in range(0,n):\n",
    "    y8[i] = radius_Neptune*np.sin(phi[i])\n",
    "    #print(x8,y8)\n",
    "\n",
    "plt.figure( figsize = (16, 16 ) )\n",
    "plt.xlabel( 'Distance in AU', fontsize = 30 )\n",
    "plt.ylabel( 'Distance in AU', fontsize = 30 )\n",
    "plt.title( 'Solar System Orbits' , fontsize = 40 )\n",
    "plt.yticks( fontsize = 25 )\n",
    "plt.xticks( fontsize = 25 )\n",
    "plt.xlim( -50, 50 )\n",
    "plt.ylim(-50,50)\n",
    "plt.tick_params(axis='both',which='major',length=12, width=4,direction='out')\n",
    "\n",
    "\n",
    "plt.plot( 0, 0, linestyle = 'none', color = 'black', marker = 'o', label = 'Sun') #Sun centered at (0,0)\n",
    "plt.plot(x1,y1, label = 'Mercury')\n",
    "plt.plot(x2,y2, label = 'Venus')\n",
    "plt.plot(x3,y3, label = 'Earth')\n",
    "plt.plot(x4,y4, label = 'Mars')\n",
    "plt.plot(x5,y5, label = 'Jupiter')\n",
    "plt.plot(x6,y6, label = \"Saturn\")\n",
    "plt.plot(x7,y7, label = 'Uranus')\n",
    "plt.plot(x8,y8, label = 'Neptune')\n",
    "\n",
    "plt.legend(['Sun','Mercury', 'Venus', 'Earth', 'Mars', 'Jupiter', 'Saturn','Uranus', 'Neptune'], fontsize = 22)\n",
    "\n",
    "plt.savefig( 'hw10_CSmith.png', format = 'png', dpi = 100, bbox_inches = 'tight', pad_inches = 0.3 )\n",
    "\n",
    "plt.show()"
   ]
  },
  {
   "cell_type": "code",
   "execution_count": 23,
   "id": "2b2a414b",
   "metadata": {},
   "outputs": [
    {
     "name": "stdout",
     "output_type": "stream",
     "text": [
      "Problem 4B:\n"
     ]
    }
   ],
   "source": [
    "#Problem 4B:\n",
    "print('Problem 4B:')"
   ]
  },
  {
   "cell_type": "code",
   "execution_count": 44,
   "id": "a9674242",
   "metadata": {},
   "outputs": [],
   "source": [
    "#I am presenting at OUR research week and didnt have time to complete the extra credit problem this week "
   ]
  },
  {
   "cell_type": "code",
   "execution_count": 25,
   "id": "d3485ea2",
   "metadata": {},
   "outputs": [
    {
     "name": "stdout",
     "output_type": "stream",
     "text": [
      "End of Homework 10:\n"
     ]
    }
   ],
   "source": [
    "#End of Homework 10\n",
    "print('End of Homework 10:')"
   ]
  }
 ],
 "metadata": {
  "kernelspec": {
   "display_name": "Python 3 (ipykernel)",
   "language": "python",
   "name": "python3"
  },
  "language_info": {
   "codemirror_mode": {
    "name": "ipython",
    "version": 3
   },
   "file_extension": ".py",
   "mimetype": "text/x-python",
   "name": "python",
   "nbconvert_exporter": "python",
   "pygments_lexer": "ipython3",
   "version": "3.9.7"
  }
 },
 "nbformat": 4,
 "nbformat_minor": 5
}
