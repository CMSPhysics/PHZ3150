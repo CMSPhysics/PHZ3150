{
 "cells": [
  {
   "cell_type": "code",
   "execution_count": 1,
   "id": "6aeb6520",
   "metadata": {},
   "outputs": [
    {
     "name": "stdout",
     "output_type": "stream",
     "text": [
      "Start of Homework 7\n"
     ]
    }
   ],
   "source": [
    "#Corine Smith, Homework 7, Feb 17 16:06:17 EST 2022\n",
    "print( \"Start of Homework 7\")"
   ]
  },
  {
   "cell_type": "code",
   "execution_count": 2,
   "id": "7aa1ddfe",
   "metadata": {},
   "outputs": [
    {
     "name": "stdout",
     "output_type": "stream",
     "text": [
      "Problem 1:\n"
     ]
    }
   ],
   "source": [
    "#Problem 1\n",
    "print('Problem 1:')"
   ]
  },
  {
   "cell_type": "code",
   "execution_count": 3,
   "id": "1944de4a",
   "metadata": {},
   "outputs": [],
   "source": [
    "import numpy as np"
   ]
  },
  {
   "cell_type": "code",
   "execution_count": 4,
   "id": "755dae13",
   "metadata": {},
   "outputs": [
    {
     "name": "stdout",
     "output_type": "stream",
     "text": [
      "Problem 2:\n"
     ]
    }
   ],
   "source": [
    "#Problem 1\n",
    "print('Problem 2:')"
   ]
  },
  {
   "cell_type": "code",
   "execution_count": 23,
   "id": "eaf9d102",
   "metadata": {},
   "outputs": [
    {
     "name": "stdout",
     "output_type": "stream",
     "text": [
      "Deleting\n",
      "an\n",
      "item\n",
      "from\n",
      "a\n",
      "list\n",
      "or\n",
      "array\n",
      "while\n",
      "iterating\n",
      "over\n",
      "it\n",
      "is\n",
      "a\n",
      "Python\n",
      "problem\n",
      "that\n",
      "is\n",
      "well\n",
      "known\n",
      "to\n",
      "any\n",
      "experienced\n",
      "software\n",
      "developer\n"
     ]
    }
   ],
   "source": [
    "sentence = 'Deleting an item from a list or array while iterating over it is a Python problem that is well known to any experienced software developer'\n",
    "word_list = sentence.split()\n",
    "for i in word_list:\n",
    "    print(i)"
   ]
  },
  {
   "cell_type": "code",
   "execution_count": 24,
   "id": "5ba7a9f3",
   "metadata": {},
   "outputs": [
    {
     "name": "stdout",
     "output_type": "stream",
     "text": [
      "The word with the maximum length in word_list is: experienced\n"
     ]
    }
   ],
   "source": [
    "max_word = word_list[ 0 ]\n",
    "\n",
    "for words in word_list: \n",
    "    if len( words ) > len(max_word):\n",
    "        max_word = words\n",
    "print(\"The word with the maximum length in word_list is:\", max_word)"
   ]
  },
  {
   "cell_type": "code",
   "execution_count": 25,
   "id": "65e2b0b8",
   "metadata": {},
   "outputs": [
    {
     "name": "stdout",
     "output_type": "stream",
     "text": [
      "The word with the maximum length in word_list is: experienced\n"
     ]
    }
   ],
   "source": [
    "i = 0\n",
    "while len(max_word) > len(word_list[i]):\n",
    "    i += 1\n",
    "    \n",
    "print(\"The word with the maximum length in word_list is:\",max_word)"
   ]
  },
  {
   "cell_type": "code",
   "execution_count": 26,
   "id": "6aa0eb1a",
   "metadata": {},
   "outputs": [
    {
     "name": "stdout",
     "output_type": "stream",
     "text": [
      "The unique letters in the first six words of word_list are:\n",
      "Dgfros"
     ]
    }
   ],
   "source": [
    "new_word_list = word_list[0:6]\n",
    "s = ''.join(new_word_list)\n",
    "\n",
    "print(\"The unique letters in the first six words of word_list are:\")\n",
    "\n",
    "for i in range(0,len(s)):\n",
    "    flag = 0 \n",
    "    for j in range(0,len(s)):\n",
    "        if (s[i]==s[j] and i != j):\n",
    "            flag = 1\n",
    "            break\n",
    "    if(flag == 0):\n",
    "        print(s[i], end=\"\")"
   ]
  },
  {
   "cell_type": "code",
   "execution_count": 27,
   "id": "c034203d",
   "metadata": {},
   "outputs": [
    {
     "name": "stdout",
     "output_type": "stream",
     "text": [
      "Problem 3:\n"
     ]
    }
   ],
   "source": [
    "#Problem 3\n",
    "print('Problem 3:')"
   ]
  },
  {
   "cell_type": "code",
   "execution_count": 28,
   "id": "04d49c5d",
   "metadata": {},
   "outputs": [],
   "source": [
    "from HW7_support_function import circle "
   ]
  },
  {
   "cell_type": "code",
   "execution_count": 29,
   "id": "9cca86ff",
   "metadata": {},
   "outputs": [
    {
     "name": "stdout",
     "output_type": "stream",
     "text": [
      "[array([ 2.        ,  0.5893264 ,  0.01002513, -0.43104916, -0.8       ,\n",
      "       -1.122499  , -1.41174442, -1.67559519, -1.91918359, -2.14608249,\n",
      "       -2.35889894, -2.55960525, -2.74973683, -2.93051721, -3.10294033,\n",
      "       -3.26782688, -3.42586399, -3.57763391, -3.72363521, -3.86429876,\n",
      "       -4.        , -4.13106842, -4.25779514, -4.38043886, -4.49923072,\n",
      "       -4.61437828, -4.72606869, -4.83447145, -4.93974063, -5.04201676,\n",
      "       -5.14142843, -5.23809367, -5.33212111, -5.42361098, -5.51265599,\n",
      "       -5.59934208, -5.68374908, -5.76595133, -5.8460181 , -5.92401413,\n",
      "       -6.        , -6.07403245, -6.14616474, -6.21644692, -6.28492607,\n",
      "       -6.35164654, -6.41665017, -6.47997642, -6.5416626 , -6.60174401,\n",
      "       -6.66025404, -6.71722433, -6.77268488, -6.82666415, -6.87918915,\n",
      "       -6.93028555, -6.97997773, -7.02828887, -7.07524104, -7.12085522,\n",
      "       -7.16515139, -7.20814857, -7.24986486, -7.29031754, -7.32952303,\n",
      "       -7.367497  , -7.40425436, -7.43980932, -7.47417543, -7.50736557,\n",
      "       -7.53939201, -7.57026645, -7.6       , -7.62860322, -7.65608616,\n",
      "       -7.68245837, -7.70772888, -7.73190629, -7.75499872, -7.77701386,\n",
      "       -7.79795897, -7.8178409 , -7.8366661 , -7.85444062, -7.87117014,\n",
      "       -7.88685997, -7.90151504, -7.91513994, -7.92773892, -7.93931587,\n",
      "       -7.94987437, -7.95941765, -7.96794864, -7.97546991, -7.98198377,\n",
      "       -7.98749218, -7.9919968 , -7.99549899, -7.9979998 , -7.99949999,\n",
      "       -8.        , -7.99949999, -7.9979998 , -7.99549899, -7.9919968 ,\n",
      "       -7.98749218, -7.98198377, -7.97546991, -7.96794864, -7.95941765,\n",
      "       -7.94987437, -7.93931587, -7.92773892, -7.91513994, -7.90151504,\n",
      "       -7.88685997, -7.87117014, -7.85444062, -7.8366661 , -7.8178409 ,\n",
      "       -7.79795897, -7.77701386, -7.75499872, -7.73190629, -7.70772888,\n",
      "       -7.68245837, -7.65608616, -7.62860322, -7.6       , -7.57026645,\n",
      "       -7.53939201, -7.50736557, -7.47417543, -7.43980932, -7.40425436,\n",
      "       -7.367497  , -7.32952303, -7.29031754, -7.24986486, -7.20814857,\n",
      "       -7.16515139, -7.12085522, -7.07524104, -7.02828887, -6.97997773,\n",
      "       -6.93028555, -6.87918915, -6.82666415, -6.77268488, -6.71722433,\n",
      "       -6.66025404, -6.60174401, -6.5416626 , -6.47997642, -6.41665017,\n",
      "       -6.35164654, -6.28492607, -6.21644692, -6.14616474, -6.07403245,\n",
      "       -6.        , -5.92401413, -5.8460181 , -5.76595133, -5.68374908,\n",
      "       -5.59934208, -5.51265599, -5.42361098, -5.33212111, -5.23809367,\n",
      "       -5.14142843, -5.04201676, -4.93974063, -4.83447145, -4.72606869,\n",
      "       -4.61437828, -4.49923072, -4.38043886, -4.25779514, -4.13106842,\n",
      "       -4.        , -3.86429876, -3.72363521, -3.57763391, -3.42586399,\n",
      "       -3.26782688, -3.10294033, -2.93051721, -2.74973683, -2.55960525,\n",
      "       -2.35889894, -2.14608249, -1.91918359, -1.67559519, -1.41174442,\n",
      "       -1.122499  , -0.8       , -0.43104916,  0.01002513,  0.5893264 ,\n",
      "        2.        ,         nan,         nan,         nan,         nan,\n",
      "               nan,         nan,         nan,         nan,         nan,\n",
      "               nan,         nan,         nan,         nan,         nan,\n",
      "               nan,         nan,         nan,         nan,         nan]), array([ 2.        ,  3.4106736 ,  3.98997487,  4.43104916,  4.8       ,\n",
      "        5.122499  ,  5.41174442,  5.67559519,  5.91918359,  6.14608249,\n",
      "        6.35889894,  6.55960525,  6.74973683,  6.93051721,  7.10294033,\n",
      "        7.26782688,  7.42586399,  7.57763391,  7.72363521,  7.86429876,\n",
      "        8.        ,  8.13106842,  8.25779514,  8.38043886,  8.49923072,\n",
      "        8.61437828,  8.72606869,  8.83447145,  8.93974063,  9.04201676,\n",
      "        9.14142843,  9.23809367,  9.33212111,  9.42361098,  9.51265599,\n",
      "        9.59934208,  9.68374908,  9.76595133,  9.8460181 ,  9.92401413,\n",
      "       10.        , 10.07403245, 10.14616474, 10.21644692, 10.28492607,\n",
      "       10.35164654, 10.41665017, 10.47997642, 10.5416626 , 10.60174401,\n",
      "       10.66025404, 10.71722433, 10.77268488, 10.82666415, 10.87918915,\n",
      "       10.93028555, 10.97997773, 11.02828887, 11.07524104, 11.12085522,\n",
      "       11.16515139, 11.20814857, 11.24986486, 11.29031754, 11.32952303,\n",
      "       11.367497  , 11.40425436, 11.43980932, 11.47417543, 11.50736557,\n",
      "       11.53939201, 11.57026645, 11.6       , 11.62860322, 11.65608616,\n",
      "       11.68245837, 11.70772888, 11.73190629, 11.75499872, 11.77701386,\n",
      "       11.79795897, 11.8178409 , 11.8366661 , 11.85444062, 11.87117014,\n",
      "       11.88685997, 11.90151504, 11.91513994, 11.92773892, 11.93931587,\n",
      "       11.94987437, 11.95941765, 11.96794864, 11.97546991, 11.98198377,\n",
      "       11.98749218, 11.9919968 , 11.99549899, 11.9979998 , 11.99949999,\n",
      "       12.        , 11.99949999, 11.9979998 , 11.99549899, 11.9919968 ,\n",
      "       11.98749218, 11.98198377, 11.97546991, 11.96794864, 11.95941765,\n",
      "       11.94987437, 11.93931587, 11.92773892, 11.91513994, 11.90151504,\n",
      "       11.88685997, 11.87117014, 11.85444062, 11.8366661 , 11.8178409 ,\n",
      "       11.79795897, 11.77701386, 11.75499872, 11.73190629, 11.70772888,\n",
      "       11.68245837, 11.65608616, 11.62860322, 11.6       , 11.57026645,\n",
      "       11.53939201, 11.50736557, 11.47417543, 11.43980932, 11.40425436,\n",
      "       11.367497  , 11.32952303, 11.29031754, 11.24986486, 11.20814857,\n",
      "       11.16515139, 11.12085522, 11.07524104, 11.02828887, 10.97997773,\n",
      "       10.93028555, 10.87918915, 10.82666415, 10.77268488, 10.71722433,\n",
      "       10.66025404, 10.60174401, 10.5416626 , 10.47997642, 10.41665017,\n",
      "       10.35164654, 10.28492607, 10.21644692, 10.14616474, 10.07403245,\n",
      "       10.        ,  9.92401413,  9.8460181 ,  9.76595133,  9.68374908,\n",
      "        9.59934208,  9.51265599,  9.42361098,  9.33212111,  9.23809367,\n",
      "        9.14142843,  9.04201676,  8.93974063,  8.83447145,  8.72606869,\n",
      "        8.61437828,  8.49923072,  8.38043886,  8.25779514,  8.13106842,\n",
      "        8.        ,  7.86429876,  7.72363521,  7.57763391,  7.42586399,\n",
      "        7.26782688,  7.10294033,  6.93051721,  6.74973683,  6.55960525,\n",
      "        6.35889894,  6.14608249,  5.91918359,  5.67559519,  5.41174442,\n",
      "        5.122499  ,  4.8       ,  4.43104916,  3.98997487,  3.4106736 ,\n",
      "        2.        ,         nan,         nan,         nan,         nan,\n",
      "               nan,         nan,         nan,         nan,         nan,\n",
      "               nan,         nan,         nan,         nan,         nan,\n",
      "               nan,         nan,         nan,         nan,         nan])]\n"
     ]
    },
    {
     "name": "stderr",
     "output_type": "stream",
     "text": [
      "C:\\Users\\3daye\\OneDrive\\Desktop\\PHZ3150\\Homework\\HW7_CSmith\\HW7_support_function.py:8: RuntimeWarning: invalid value encountered in sqrt\n",
      "  y1 = y0-np.sqrt((r**2)-(x-x0)**2)\n",
      "C:\\Users\\3daye\\OneDrive\\Desktop\\PHZ3150\\Homework\\HW7_CSmith\\HW7_support_function.py:9: RuntimeWarning: invalid value encountered in sqrt\n",
      "  y2 = y0+np.sqrt((r**2)-(x-x0)**2)\n"
     ]
    }
   ],
   "source": [
    "x0 = 2\n",
    "y0 = 2\n",
    "x = -8.+0.1*np.arange(220)\n",
    "r = 10\n",
    "y_values = circle(x,x0,y0,r)\n",
    "\n",
    "print(y_values)"
   ]
  },
  {
   "cell_type": "code",
   "execution_count": 30,
   "id": "c0a63123",
   "metadata": {},
   "outputs": [],
   "source": [
    "import matplotlib.pyplot as plt "
   ]
  },
  {
   "cell_type": "code",
   "execution_count": 31,
   "id": "12e64289",
   "metadata": {},
   "outputs": [],
   "source": [
    "y = y_values"
   ]
  },
  {
   "cell_type": "code",
   "execution_count": 32,
   "id": "320add47",
   "metadata": {},
   "outputs": [
    {
     "data": {
      "text/plain": [
       "(array([-10. ,  -7.5,  -5. ,  -2.5,   0. ,   2.5,   5. ,   7.5,  10. ,\n",
       "         12.5,  15. ]),\n",
       " [Text(0, 0, ''),\n",
       "  Text(0, 0, ''),\n",
       "  Text(0, 0, ''),\n",
       "  Text(0, 0, ''),\n",
       "  Text(0, 0, ''),\n",
       "  Text(0, 0, ''),\n",
       "  Text(0, 0, ''),\n",
       "  Text(0, 0, ''),\n",
       "  Text(0, 0, ''),\n",
       "  Text(0, 0, ''),\n",
       "  Text(0, 0, '')])"
      ]
     },
     "execution_count": 32,
     "metadata": {},
     "output_type": "execute_result"
    },
    {
     "data": {
      "image/png": "[encoded data removed]",
      "text/plain": [
       "<Figure size 576x576 with 1 Axes>"
      ]
     },
     "metadata": {
      "needs_background": "light"
     },
     "output_type": "display_data"
    }
   ],
   "source": [
    "plt.figure( figsize = (8, 8 ) )\n",
    "plt.plot  ( x, y[0],color = 'red' , linestyle = '-', linewidth = 4) \n",
    "plt.plot  ( x, y[1],color = 'red' , linestyle = '-', linewidth = 4) \n",
    "plt.xlabel( 'x', fontsize = 30 )\n",
    "plt.ylabel( 'y(x)', fontsize = 30 )\n",
    "plt.title( 'Circle' , fontsize = 30 )\n",
    "plt.yticks( fontsize = 30 )\n",
    "plt.xticks( fontsize = 20 )"
   ]
  },
  {
   "cell_type": "code",
   "execution_count": 33,
   "id": "14076fd6",
   "metadata": {},
   "outputs": [],
   "source": [
    "#Initially my function printed out a semi circle not a complete circle as it didnt return the negative y values and postive y values. I changed this by creating two seperate equations in the circle function to account for both the negative and postive y values, and then plotted both arrays of y values as a function of x. "
   ]
  },
  {
   "cell_type": "code",
   "execution_count": 34,
   "id": "54e8092e",
   "metadata": {},
   "outputs": [
    {
     "name": "stdout",
     "output_type": "stream",
     "text": [
      "Problem 4:\n"
     ]
    }
   ],
   "source": [
    "#Problem 4\n",
    "print('Problem 4:')"
   ]
  },
  {
   "cell_type": "code",
   "execution_count": 35,
   "id": "f045675a",
   "metadata": {},
   "outputs": [],
   "source": [
    "from HW7_support_function import order_array"
   ]
  },
  {
   "cell_type": "code",
   "execution_count": 36,
   "id": "73d506d0",
   "metadata": {},
   "outputs": [
    {
     "name": "stdout",
     "output_type": "stream",
     "text": [
      "[ 2  4  5  8 10 12 22 42]\n",
      "None\n"
     ]
    }
   ],
   "source": [
    "input_array = np.array([4,5,2,10,42,22,8,12])\n",
    "print(order_array(input_array))"
   ]
  },
  {
   "cell_type": "code",
   "execution_count": 37,
   "id": "b68e5cda",
   "metadata": {},
   "outputs": [
    {
     "name": "stdout",
     "output_type": "stream",
     "text": [
      "[ 2  4  5  8 10 12 22 42]\n"
     ]
    }
   ],
   "source": [
    "#Verification that order_array code functions correctly \n",
    "print(np.sort(input_array))"
   ]
  },
  {
   "cell_type": "code",
   "execution_count": 38,
   "id": "654428f8",
   "metadata": {},
   "outputs": [
    {
     "name": "stdout",
     "output_type": "stream",
     "text": [
      "Bonus Problem:\n"
     ]
    }
   ],
   "source": [
    "#Bonus Problem \n",
    "print('Bonus Problem:')"
   ]
  },
  {
   "cell_type": "code",
   "execution_count": 39,
   "id": "cf14577c",
   "metadata": {},
   "outputs": [
    {
     "name": "stdout",
     "output_type": "stream",
     "text": [
      "1 \n",
      "1 0 \n",
      "1 0 1 \n",
      "1 0 1 0 \n",
      "1 0 1 0 1 \n",
      "1 0 1 0 1 0 \n",
      "1 0 1 0 1 \n",
      "1 0 1 0 \n",
      "1 0 1 \n",
      "1 0 \n",
      "1 \n"
     ]
    }
   ],
   "source": [
    "for i in range(6):\n",
    "    k=1\n",
    "    for j in range(i+1):\n",
    "        print(k%2, end = \" \")\n",
    "        k += 1\n",
    "    print(\"\")\n",
    "for i in range(5):\n",
    "    k = 1\n",
    "    for j in range(5-i):\n",
    "        print(k%2, end = \" \")\n",
    "        k += 1 \n",
    "    print(\"\")"
   ]
  },
  {
   "cell_type": "code",
   "execution_count": 40,
   "id": "9448f9f3",
   "metadata": {},
   "outputs": [
    {
     "name": "stdout",
     "output_type": "stream",
     "text": [
      "End of homework 7\n"
     ]
    }
   ],
   "source": [
    "\"End of homework 7\"\n",
    "print('End of homework 7')"
   ]
  }
 ],
 "metadata": {
  "kernelspec": {
   "display_name": "Python 3 (ipykernel)",
   "language": "python",
   "name": "python3"
  },
  "language_info": {
   "codemirror_mode": {
    "name": "ipython",
    "version": 3
   },
   "file_extension": ".py",
   "mimetype": "text/x-python",
   "name": "python",
   "nbconvert_exporter": "python",
   "pygments_lexer": "ipython3",
   "version": "3.9.7"
  }
 },
 "nbformat": 4,
 "nbformat_minor": 5
}
