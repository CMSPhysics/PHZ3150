{
 "cells": [
  {
   "cell_type": "code",
   "execution_count": 1,
   "id": "524b6f66",
   "metadata": {},
   "outputs": [
    {
     "name": "stdout",
     "output_type": "stream",
     "text": [
      "Start of Homework 11\n"
     ]
    }
   ],
   "source": [
    "#Corine Smith, Homework 11, April 1 14:12:03 EST 2022\n",
    "print( \"Start of Homework 11\")"
   ]
  },
  {
   "cell_type": "code",
   "execution_count": 2,
   "id": "2645912b",
   "metadata": {},
   "outputs": [
    {
     "name": "stdout",
     "output_type": "stream",
     "text": [
      "Problem 1:\n"
     ]
    }
   ],
   "source": [
    "#Problem 1:\n",
    "print('Problem 1:')"
   ]
  },
  {
   "cell_type": "code",
   "execution_count": 3,
   "id": "cb9d35f7",
   "metadata": {},
   "outputs": [],
   "source": [
    "import numpy as np\n",
    "import math\n",
    "import scipy as sp \n",
    "import matplotlib.pyplot as plt "
   ]
  },
  {
   "cell_type": "code",
   "execution_count": 4,
   "id": "7cdc07ac",
   "metadata": {},
   "outputs": [
    {
     "name": "stdout",
     "output_type": "stream",
     "text": [
      "Problem 2:\n"
     ]
    }
   ],
   "source": [
    "#Problem 2:\n",
    "print('Problem 2:')"
   ]
  },
  {
   "cell_type": "code",
   "execution_count": 5,
   "id": "c5f6481f",
   "metadata": {},
   "outputs": [],
   "source": [
    "x=np.linspace(1,100,40)\n",
    "y=np.array([  7.7,  15.82307692,  23.94615385,  32.06923077, \n",
    "40.19230769, 48.31538462, 56.43846154,  64.56153846, \n",
    "72.68461538, 80.80769231,  88.93076923,  97.05384615, \n",
    "105.17692308, 113.3 , 121.42307692, 129.54615385, 137.66923077, \n",
    "145.79230769, 153.91538462, 162.03846154, 170.16153846, \n",
    "178.28461538, 186.40769231, 194.53076923, 202.65384615, \n",
    "210.77692308, 218.9, 227.02307692, 235.14615385, 243.26923077, \n",
    "251.39230769, 259.51538462, 267.63846154, 275.76153846, \n",
    "283.88461538, 292.00769231, 300.13076923, 308.25384615, \n",
    "316.37692308, 324.5])"
   ]
  },
  {
   "cell_type": "code",
   "execution_count": 6,
   "id": "4d8e6b5e",
   "metadata": {},
   "outputs": [],
   "source": [
    "a = np.arange(0.1,10,0.1)  \n",
    "b = np.arange(0.1,15,0.1)\n",
    "\n",
    "y_mod = a[q[0]]*x+b[q[1]] \n",
    "x_mod = np.linspace(1,100,40) "
   ]
  },
  {
   "cell_type": "code",
   "execution_count": 354,
   "id": "b58c0ecc",
   "metadata": {},
   "outputs": [],
   "source": [
    "r = np.zeros((len(a),len(b)))\n",
    "\n",
    "for i in range(len(a)):\n",
    "    for j in range(len(b)):\n",
    "        y_theory=a[i]*x+b[j]\n",
    "        r[i,j]=np.sum((y-y_theory)**2 /y_theory)\n",
    "\n",
    "q  = np.where(r==np.min(r)) "
   ]
  },
  {
   "cell_type": "code",
   "execution_count": 355,
   "id": "b6a5932c",
   "metadata": {},
   "outputs": [
    {
     "name": "stdout",
     "output_type": "stream",
     "text": [
      "The best fit model parameters for this linear function are, a: [3.2] and b: [4.5]\n"
     ]
    }
   ],
   "source": [
    "print('The best fit model parameters for this linear function are, a:',a[q[0]],'and b:',b[q[1]]) #coefficient values of a and b that best fit function"
   ]
  },
  {
   "cell_type": "code",
   "execution_count": 356,
   "id": "67cab187",
   "metadata": {},
   "outputs": [
    {
     "name": "stdout",
     "output_type": "stream",
     "text": [
      "Problem 3A:\n"
     ]
    }
   ],
   "source": [
    "#Problem 3:\n",
    "print('Problem 3A:')"
   ]
  },
  {
   "cell_type": "code",
   "execution_count": 357,
   "id": "1d7c8cd9",
   "metadata": {},
   "outputs": [],
   "source": [
    "def windchill(temperature,windspeed):\n",
    "    \"\"\"Function calculates the windchill factor by taking the actual temperature(F) and windspeed(mph) and returns the windchill temperature(F).\n",
    "    Input:temperature(F), windspeed(mph)\n",
    "    Output: windchill(F)\"\"\"\n",
    "    \n",
    "    T = temperature \n",
    "    V = windspeed\n",
    "    \n",
    "    windchill =35.74+0.6215*T-35.75*(V**0.16)+0.4275*T*(V**0.16)\n",
    "    WC = np.round(windchill, 2)\n",
    "\n",
    "    return ('If the actual temperature measured in Fahrenheit is',temperature,'and the windspeed in mph is',windspeed, 'then the windchill temperature is',WC,'degrees Fahrenheit!')"
   ]
  },
  {
   "cell_type": "code",
   "execution_count": 358,
   "id": "13875f08",
   "metadata": {},
   "outputs": [
    {
     "name": "stdout",
     "output_type": "stream",
     "text": [
      "('If the actual temperature measured in Fahrenheit is', 20, 'and the windspeed in mph is', 55, 'then the windchill temperature is', -3.47, 'degrees Fahrenheit!')\n"
     ]
    }
   ],
   "source": [
    "temperature = 20\n",
    "windspeed = 55\n",
    "print(windchill(temperature,windspeed))"
   ]
  },
  {
   "cell_type": "code",
   "execution_count": 359,
   "id": "cd4a1be7",
   "metadata": {},
   "outputs": [
    {
     "name": "stdout",
     "output_type": "stream",
     "text": [
      "Problem 3B:\n"
     ]
    }
   ],
   "source": [
    "#Problem 3B:\n",
    "print('Problem 3B:')"
   ]
  },
  {
   "cell_type": "code",
   "execution_count": 360,
   "id": "79eb2917",
   "metadata": {},
   "outputs": [],
   "source": [
    "def parallax_to_distance(dictionary):\n",
    "    \"\"\"Function takes as input a dictionary with information on stars observed (their name and their parallax) and returns a dictionary with the names of the stars and their distances from Earth,\n",
    "    Input: name, parallax(milliarcsec)\n",
    "    Output: name, distance(d)\"\"\"\n",
    "\n",
    "    parallax = list(star_parallax.values())\n",
    "    distance = []\n",
    "    \n",
    "    for i in range(len(parallax)):\n",
    "        distance.append(1/parallax[i])\n",
    "\n",
    "    values = distance\n",
    "    star = star_parallax.keys()\n",
    "    \n",
    "    space_distance = dict(zip(star, values))\n",
    "\n",
    "    return space_distance"
   ]
  },
  {
   "cell_type": "code",
   "execution_count": 361,
   "id": "e5b7e2b0",
   "metadata": {},
   "outputs": [
    {
     "name": "stdout",
     "output_type": "stream",
     "text": [
      "{'Betelgeuse': 0.1310615989515072, 'Antares': 0.16977928692699493, 'Spica': 0.07656967840735068, 'Proxima_Cen': 0.0013020833333333333}\n"
     ]
    }
   ],
   "source": [
    "star_parallax = {'Betelgeuse':7.63, 'Antares':5.89, 'Spica':13.06, 'Proxima_Cen':768}\n",
    "print(parallax_to_distance(star_parallax))\n",
    "#I confirmed these results by graphing calculator "
   ]
  },
  {
   "cell_type": "code",
   "execution_count": 362,
   "id": "7901d118",
   "metadata": {},
   "outputs": [
    {
     "name": "stdout",
     "output_type": "stream",
     "text": [
      "Problem 3C:\n"
     ]
    }
   ],
   "source": [
    "#Problem 3C:\n",
    "print('Problem 3C:')"
   ]
  },
  {
   "cell_type": "code",
   "execution_count": 363,
   "id": "ca748823",
   "metadata": {},
   "outputs": [],
   "source": [
    "def lists_to_dict(list_1, list_2):\n",
    "    \"\"\"Function takes as input two lists and combines them in a dictionary with keys as the words and values as the numbers.\n",
    "    Input: list_1, list_2\n",
    "    Ouput: new_dictionary\"\"\"\n",
    "    \n",
    "    key = []\n",
    "    value = []\n",
    "    \n",
    "    for i in range(len(list_1)):\n",
    "        if type(list_1[i]) == int:\n",
    "            value.append(list_1[i])\n",
    "        else: \n",
    "            key.append(list_1[i])\n",
    "    \n",
    "    for i in range(len(list_2)):\n",
    "        if type(list_2[i]) == int:\n",
    "            value.append(list_2[i])\n",
    "        else: \n",
    "            key.append(list_2[i])\n",
    "\n",
    "    new_dictionary = dict(zip(key, value))\n",
    "    \n",
    "    return new_dictionary"
   ]
  },
  {
   "cell_type": "code",
   "execution_count": 364,
   "id": "ff79579e",
   "metadata": {},
   "outputs": [
    {
     "name": "stdout",
     "output_type": "stream",
     "text": [
      "{'watermelon': 1, 'melon': 3, 'apple': 5, 'strawberries': 10, 'cherries': 12, 'oranges': 14}\n"
     ]
    }
   ],
   "source": [
    "list_1 = [ 1, 3, 5, 10, 12, 14]   \n",
    "list_2 = ['watermelon', 'melon', 'apple', 'strawberries', 'cherries', 'oranges']\n",
    "print(lists_to_dict(list_1, list_2))"
   ]
  },
  {
   "cell_type": "code",
   "execution_count": 365,
   "id": "222575e7",
   "metadata": {},
   "outputs": [
    {
     "name": "stdout",
     "output_type": "stream",
     "text": [
      "{'cars': 200, 'motorcycles': 150, 'bikes': 10, 'skateboards': 67}\n"
     ]
    }
   ],
   "source": [
    "list_1 = ['cars', 'motorcycles', 'bikes', 'skateboards']\n",
    "list_2 = [ 200, 150, 10, 67 ] \n",
    "print(lists_to_dict(list_1, list_2))"
   ]
  },
  {
   "cell_type": "code",
   "execution_count": 63,
   "id": "8625db51",
   "metadata": {},
   "outputs": [
    {
     "name": "stdout",
     "output_type": "stream",
     "text": [
      "Problem 3D:\n"
     ]
    }
   ],
   "source": [
    "#Problem 3D:\n",
    "print('Problem 3D:')"
   ]
  },
  {
   "cell_type": "code",
   "execution_count": 348,
   "id": "19f37686",
   "metadata": {},
   "outputs": [],
   "source": [
    "def matrix_mult(matrix_1,matrix_2):\n",
    "    \"\"\"Function takes as input two matrices and multiplies them, first check if the matrices can be multiplied and if not, the function returns an error message with information about the dimensions of the matrices.\n",
    "    Input: matrix_1, matrix_2\n",
    "    Output: matrix_3\"\"\"\n",
    "    \n",
    "    dimensions1 = np.shape(matrix_1)\n",
    "    dimensions2 = np.shape(matrix_2)\n",
    "    \n",
    "    result = [[0,0],[0,0]]\n",
    "\n",
    "    if dimensions1 != dimensions2:\n",
    "        print('Unable to perform matrix multiplication as matrices are not of equal dimensions')\n",
    "    elif dimensions1 == dimensions2:\n",
    "        for i in range(len(B1)):\n",
    "            for j in range(len(B2[0])):\n",
    "                for k in range(len(B2)):\n",
    "                    result[i][j] += B1[i][k] * B2[k][j]\n",
    "        print('The result of your matrix multiplication is:')\n",
    "        for r in result:\n",
    "            print(r) "
   ]
  },
  {
   "cell_type": "code",
   "execution_count": 369,
   "id": "fd521477",
   "metadata": {},
   "outputs": [
    {
     "name": "stdout",
     "output_type": "stream",
     "text": [
      "Unable to perform matrix multiplication as matrices are not of equal dimensions\n",
      "None\n"
     ]
    }
   ],
   "source": [
    "A1 = np.array([[1,2,3],[4,5,6]]) \n",
    "A2 = np.array([[2,3],[2,2]]) \n",
    "matrix_1 = A1\n",
    "matrix_2 = A2\n",
    "print(matrix_mult(matrix_1, matrix_2))\n",
    "#print(np.matmul(A1,A2)) Checking that function returns error statement as dimensions are not matching "
   ]
  },
  {
   "cell_type": "code",
   "execution_count": 367,
   "id": "bd641b38",
   "metadata": {},
   "outputs": [
    {
     "name": "stdout",
     "output_type": "stream",
     "text": [
      "The result of your matrix multiplication is:\n",
      "[4, 1]\n",
      "[2, 1]\n",
      "None\n",
      "[[4 1]\n",
      " [2 1]]\n"
     ]
    }
   ],
   "source": [
    "B1 = np.array([[1,0],[0,1]]) \n",
    "B2 = np.array([[4,1],[2,1]])\n",
    "matrix_1 = B1\n",
    "matrix_2 = B2\n",
    "print(matrix_mult(matrix_1, matrix_2))\n",
    "print(np.matmul(B1,B2)) #Checking that function output is correct "
   ]
  },
  {
   "cell_type": "code",
   "execution_count": 341,
   "id": "b3c03a90",
   "metadata": {},
   "outputs": [
    {
     "name": "stdout",
     "output_type": "stream",
     "text": [
      "Unable to perform matrix multiplication as matrices are not of equal dimensions\n",
      "None\n"
     ]
    }
   ],
   "source": [
    "C1 = np.array([[1,0,3],[0,1,4],[2,1,8]]) \n",
    "C2 = np.array([4,1,5]) \n",
    "matrix_1 = C1\n",
    "matrix_2 = C2\n",
    "print(matrix_mult(matrix_1,matrix_2))\n",
    "#print(np.matmul(A1,A2)) Checking that function returns error statement as dimensions are not matching "
   ]
  },
  {
   "cell_type": "code",
   "execution_count": 165,
   "id": "a7a7ac1b",
   "metadata": {},
   "outputs": [
    {
     "name": "stdout",
     "output_type": "stream",
     "text": [
      "End of Homework 11\n"
     ]
    }
   ],
   "source": [
    "#End of Homework 11:\n",
    "print(\"End of Homework 11\")"
   ]
  }
 ],
 "metadata": {
  "kernelspec": {
   "display_name": "Python 3 (ipykernel)",
   "language": "python",
   "name": "python3"
  },
  "language_info": {
   "codemirror_mode": {
    "name": "ipython",
    "version": 3
   },
   "file_extension": ".py",
   "mimetype": "text/x-python",
   "name": "python",
   "nbconvert_exporter": "python",
   "pygments_lexer": "ipython3",
   "version": "3.9.7"
  }
 },
 "nbformat": 4,
 "nbformat_minor": 5
}
