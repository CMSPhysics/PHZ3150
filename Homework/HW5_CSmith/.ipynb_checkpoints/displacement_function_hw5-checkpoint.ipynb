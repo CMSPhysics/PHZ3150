{
 "cells": [
  {
   "cell_type": "code",
   "execution_count": 1,
   "id": "95c26bdc",
   "metadata": {},
   "outputs": [],
   "source": [
    "#Corine Smith, Homework 5, Feb 06 12:25:12 EST 2022"
   ]
  },
  {
   "cell_type": "code",
   "execution_count": 2,
   "id": "41d564fd",
   "metadata": {},
   "outputs": [
    {
     "name": "stdout",
     "output_type": "stream",
     "text": [
      "Problem 4\n"
     ]
    }
   ],
   "source": [
    "#Problem 4- displacement function\n",
    "print( 'Problem 4')"
   ]
  },
  {
   "cell_type": "code",
   "execution_count": 3,
   "id": "88078b21",
   "metadata": {},
   "outputs": [],
   "source": [
    "import numpy as np "
   ]
  },
  {
   "cell_type": "code",
   "execution_count": 4,
   "id": "b796b100",
   "metadata": {},
   "outputs": [],
   "source": [
    "def displacement( u_init , a , t ):\n",
    "    \"\"\"Calculates displacement of a body as a function of initial speed[ u_init ] , constant acceleration[ a ] , and time[ t ]\n",
    "    INPUT: initial speed[ u_init ] , acceleration[ a ] , time[ t ] \n",
    "    OUPUT: displacement[ s ]\"\"\"\n",
    "    \n",
    "    s = u_init * t + 0.5 * a * np.power( t , 2 )\n",
    "    \n",
    "    return s "
   ]
  },
  {
   "cell_type": "code",
   "execution_count": null,
   "id": "7bd63eca",
   "metadata": {},
   "outputs": [],
   "source": []
  }
 ],
 "metadata": {
  "kernelspec": {
   "display_name": "Python 3 (ipykernel)",
   "language": "python",
   "name": "python3"
  },
  "language_info": {
   "codemirror_mode": {
    "name": "ipython",
    "version": 3
   },
   "file_extension": ".py",
   "mimetype": "text/x-python",
   "name": "python",
   "nbconvert_exporter": "python",
   "pygments_lexer": "ipython3",
   "version": "3.9.7"
  }
 },
 "nbformat": 4,
 "nbformat_minor": 5
}
