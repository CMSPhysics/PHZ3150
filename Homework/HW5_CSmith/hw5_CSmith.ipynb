{
 "cells": [
  {
   "cell_type": "code",
   "execution_count": 1,
   "id": "e0c25a79",
   "metadata": {},
   "outputs": [],
   "source": [
    "#Corine Smith, Homework 5, Feb 06 12:25:12 EST 2022"
   ]
  },
  {
   "cell_type": "code",
   "execution_count": 2,
   "id": "b4571f92",
   "metadata": {},
   "outputs": [
    {
     "name": "stdout",
     "output_type": "stream",
     "text": [
      " Problem 1 \n"
     ]
    }
   ],
   "source": [
    "#Problem 1\n",
    "print( ' Problem 1 ' )"
   ]
  },
  {
   "cell_type": "code",
   "execution_count": 3,
   "id": "101c619e",
   "metadata": {},
   "outputs": [],
   "source": [
    "import numpy as np"
   ]
  },
  {
   "cell_type": "code",
   "execution_count": 4,
   "id": "fc458774",
   "metadata": {},
   "outputs": [
    {
     "name": "stdout",
     "output_type": "stream",
     "text": [
      " Problem 2 \n"
     ]
    }
   ],
   "source": [
    "#Problem 2\n",
    "print( ' Problem 2 ' )"
   ]
  },
  {
   "cell_type": "code",
   "execution_count": 30,
   "id": "cc416666",
   "metadata": {},
   "outputs": [],
   "source": [
    "def quadratic_roots( a, b, c ):\n",
    "    \"\"\"Calculates roots of polynomial function.\n",
    "    Input: coefficient1 [ a ], coefficient2 [ b ], coefficient3 [ c ]\n",
    "    Output: roots of x as function of y\"\"\"\n",
    "    \n",
    "    #Discriminant calulation \n",
    "    \n",
    "    d = np.power( b, 2 ) - 4 * a * c \n",
    "    \n",
    "    x1 = ( - np.power( b, 2 )  - np.sqrt( d ) ) / 2 * a \n",
    "    x2 = ( - np.power( b, 2 ) + np.sqrt( d ) ) / 2 * a \n",
    "    \n",
    "    print( 'quadratic roots: ' , x1 , x2 )\n",
    "    \n",
    "    return [ x1, x2 ]"
   ]
  },
  {
   "cell_type": "code",
   "execution_count": 31,
   "id": "ae52ede5",
   "metadata": {},
   "outputs": [
    {
     "name": "stdout",
     "output_type": "stream",
     "text": [
      "quadratic roots:  -4.0 3.0\n",
      "[-4.0, 3.0]\n"
     ]
    }
   ],
   "source": [
    "#Caluate the roots of polynomial x^2-x-12=0\n",
    "a = 1\n",
    "b = -1\n",
    "c = -12 \n",
    "x = quadratic_roots( a, b, c )\n",
    "\n",
    "print( x ) "
   ]
  },
  {
   "cell_type": "code",
   "execution_count": 25,
   "id": "fd12f0b1",
   "metadata": {},
   "outputs": [
    {
     "name": "stdout",
     "output_type": "stream",
     "text": [
      " Problem 3 \n"
     ]
    }
   ],
   "source": [
    "#Problem 3 \n",
    "print( ' Problem 3 ' )"
   ]
  },
  {
   "cell_type": "code",
   "execution_count": 26,
   "id": "20304cd3",
   "metadata": {},
   "outputs": [],
   "source": [
    "student_h = ( 5.01, 4.10, 6.02, 5.07,  6.11 )"
   ]
  },
  {
   "cell_type": "code",
   "execution_count": 1,
   "id": "d8be2f9c",
   "metadata": {},
   "outputs": [],
   "source": [
    "def feet_to_meter_centimeter ( ft , In ):\n",
    "    \"\"\"Function that converts feet to meters and centimeters\n",
    "    INPUT: feet [ ft ] , Inches [ In ]\n",
    "    OUTPUT: meters [ m ], centimeters [ cm ] \"\"\"\n",
    "    \n",
    "    m = ( ft * 0.3048 ) + ( In * 0.0254 ) \n",
    "    cm = round( m // 100 )\n",
    "    \n",
    "    \n",
    "    return [ m , cm ]\n",
    "    "
   ]
  },
  {
   "cell_type": "code",
   "execution_count": 2,
   "id": "f3b18523",
   "metadata": {},
   "outputs": [
    {
     "name": "stdout",
     "output_type": "stream",
     "text": [
      "student 1 has height of: [1.5494, 0]\n"
     ]
    }
   ],
   "source": [
    "#student1\n",
    "ft = 5\n",
    "In = 1\n",
    "height =  feet_to_meter_centimeter( ft , In )\n",
    "\n",
    "print ( 'student 1 has height of:' , height )"
   ]
  },
  {
   "cell_type": "code",
   "execution_count": 3,
   "id": "ca45e837",
   "metadata": {},
   "outputs": [
    {
     "name": "stdout",
     "output_type": "stream",
     "text": [
      "student 2 has a height of: [1.4732, 0]\n"
     ]
    }
   ],
   "source": [
    "#student2\n",
    "ft = 4\n",
    "In = 10\n",
    "student_2_height = feet_to_meter_centimeter( ft , In )\n",
    "\n",
    "print( 'student 2 has a height of:' , student_2_height )"
   ]
  },
  {
   "cell_type": "code",
   "execution_count": 4,
   "id": "6a452803",
   "metadata": {},
   "outputs": [
    {
     "name": "stdout",
     "output_type": "stream",
     "text": [
      "student 3 has a height of: [1.8796000000000002, 0]\n"
     ]
    }
   ],
   "source": [
    "#sudent3\n",
    "ft = 6\n",
    "In = 2\n",
    "student_3_height = feet_to_meter_centimeter( ft , In )\n",
    "\n",
    "print( 'student 3 has a height of:' , student_3_height )"
   ]
  },
  {
   "cell_type": "code",
   "execution_count": 5,
   "id": "4ee0ef72",
   "metadata": {},
   "outputs": [
    {
     "name": "stdout",
     "output_type": "stream",
     "text": [
      "student 4 has a height of: [1.7018, 0]\n"
     ]
    }
   ],
   "source": [
    "#student4\n",
    "ft = 5\n",
    "In = 7 \n",
    "student_4_height = feet_to_meter_centimeter( ft , In )\n",
    "\n",
    "print( 'student 4 has a height of:' , student_4_height )"
   ]
  },
  {
   "cell_type": "code",
   "execution_count": 6,
   "id": "c6f3c9cb",
   "metadata": {},
   "outputs": [
    {
     "name": "stdout",
     "output_type": "stream",
     "text": [
      "student 5 has a height of: [2.1082, 0]\n"
     ]
    }
   ],
   "source": [
    "#student5\n",
    "ft = 6\n",
    "In = 11\n",
    "student_5_height = feet_to_meter_centimeter( ft , In )\n",
    "\n",
    "print( 'student 5 has a height of:' , student_5_height )"
   ]
  },
  {
   "cell_type": "code",
   "execution_count": 20,
   "id": "9dba882d",
   "metadata": {},
   "outputs": [],
   "source": [
    "#These calculations have been verified by hand using a graphing calculator "
   ]
  },
  {
   "cell_type": "code",
   "execution_count": 21,
   "id": "dac6926c",
   "metadata": {},
   "outputs": [
    {
     "name": "stdout",
     "output_type": "stream",
     "text": [
      "Problem 4\n"
     ]
    }
   ],
   "source": [
    "#Problem 4 \n",
    "print( 'Problem 4' )"
   ]
  },
  {
   "cell_type": "code",
   "execution_count": 22,
   "id": "b63d4d8a",
   "metadata": {},
   "outputs": [],
   "source": [
    "#Imported displacement_function_hw5.py file from hw5 folder to solve computations for problem 4"
   ]
  },
  {
   "cell_type": "code",
   "execution_count": 23,
   "id": "23c55483",
   "metadata": {},
   "outputs": [
    {
     "name": "stdout",
     "output_type": "stream",
     "text": [
      "Problem 4\n",
      "<function displacement at 0x00000188BA9651F0>\n"
     ]
    }
   ],
   "source": [
    "from displacement_function_hw5 import displacement \n",
    "print( displacement )"
   ]
  },
  {
   "cell_type": "code",
   "execution_count": 24,
   "id": "a342ded3",
   "metadata": {},
   "outputs": [],
   "source": [
    "u_init = [ 0 ]\n",
    "a = [ 10 , 20 , 30 ]\n",
    "t = [ 2 , 4 , 14 ]"
   ]
  },
  {
   "cell_type": "code",
   "execution_count": 25,
   "id": "4c16d3d0",
   "metadata": {},
   "outputs": [
    {
     "name": "stdout",
     "output_type": "stream",
     "text": [
      "20.0\n",
      "160.0\n",
      "2940.0\n"
     ]
    }
   ],
   "source": [
    "print( displacement( u_init[ 0 ] , a[ 0 ] , t[ 0 ] ) )\n",
    "print( displacement( u_init[ 0 ] , a[ 1 ] , t[ 1 ] ) )\n",
    "print( displacement( u_init[ 0 ] , a[ 2 ] , t[ 2 ] ) )"
   ]
  },
  {
   "cell_type": "code",
   "execution_count": 26,
   "id": "611e90fc",
   "metadata": {},
   "outputs": [],
   "source": [
    "#Calculations were verified by computing by hand with graphing calculator "
   ]
  },
  {
   "cell_type": "code",
   "execution_count": null,
   "id": "079e64d7",
   "metadata": {},
   "outputs": [],
   "source": [
    "#Homework 5 complete "
   ]
  }
 ],
 "metadata": {
  "kernelspec": {
   "display_name": "Python 3 (ipykernel)",
   "language": "python",
   "name": "python3"
  },
  "language_info": {
   "codemirror_mode": {
    "name": "ipython",
    "version": 3
   },
   "file_extension": ".py",
   "mimetype": "text/x-python",
   "name": "python",
   "nbconvert_exporter": "python",
   "pygments_lexer": "ipython3",
   "version": "3.9.7"
  }
 },
 "nbformat": 4,
 "nbformat_minor": 5
}
