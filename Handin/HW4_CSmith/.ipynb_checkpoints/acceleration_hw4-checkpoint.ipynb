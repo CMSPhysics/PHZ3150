{
 "cells": [
  {
   "cell_type": "code",
   "execution_count": 1,
   "id": "16df6af4",
   "metadata": {},
   "outputs": [
    {
     "name": "stdout",
     "output_type": "stream",
     "text": [
      "Problem 3\n"
     ]
    }
   ],
   "source": [
    "print( 'Problem 3' )"
   ]
  },
  {
   "cell_type": "code",
   "execution_count": 2,
   "id": "7e5aff47",
   "metadata": {},
   "outputs": [],
   "source": [
    "#acceleration function written to be included in the solution for hw4 problem 3"
   ]
  },
  {
   "cell_type": "code",
   "execution_count": 3,
   "id": "7638ad97",
   "metadata": {},
   "outputs": [],
   "source": [
    "def acceleration( u1, u2, t1, t2 ):\n",
    "    \"\"\"Function for acceleration using the change in speed over the change in time.\n",
    "    INPUT: initial speed u1[m/s], final speed u2[m/s], initial time t1[s], final time t2[s]\n",
    "    OUTPUT: acceleration a[m/s^2]\"\"\"\n",
    "    \n",
    "    a = (u2-u1) / (t2-t1)\n",
    "    \n",
    "    return a "
   ]
  },
  {
   "cell_type": "code",
   "execution_count": null,
   "id": "1d1dbcbb",
   "metadata": {},
   "outputs": [],
   "source": []
  },
  {
   "cell_type": "code",
   "execution_count": null,
   "id": "01bebaba",
   "metadata": {},
   "outputs": [],
   "source": []
  }
 ],
 "metadata": {
  "kernelspec": {
   "display_name": "Python 3 (ipykernel)",
   "language": "python",
   "name": "python3"
  },
  "language_info": {
   "codemirror_mode": {
    "name": "ipython",
    "version": 3
   },
   "file_extension": ".py",
   "mimetype": "text/x-python",
   "name": "python",
   "nbconvert_exporter": "python",
   "pygments_lexer": "ipython3",
   "version": "3.9.7"
  }
 },
 "nbformat": 4,
 "nbformat_minor": 5
}
