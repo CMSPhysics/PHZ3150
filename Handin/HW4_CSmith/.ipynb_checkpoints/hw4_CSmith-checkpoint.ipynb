{
 "cells": [
  {
   "cell_type": "code",
   "execution_count": null,
   "id": "e19b203a",
   "metadata": {},
   "outputs": [],
   "source": [
    "#HW4 Corine Smith Thurs Jan 27 11:33:40 EST 2022"
   ]
  },
  {
   "cell_type": "code",
   "execution_count": null,
   "id": "d9641d1d",
   "metadata": {},
   "outputs": [],
   "source": [
    "print ( 'Problem 2')\n",
    "#Write expression F = m*a\n"
   ]
  }
 ],
 "metadata": {
  "kernelspec": {
   "display_name": "Python 3 (ipykernel)",
   "language": "python",
   "name": "python3"
  },
  "language_info": {
   "codemirror_mode": {
    "name": "ipython",
    "version": 3
   },
   "file_extension": ".py",
   "mimetype": "text/x-python",
   "name": "python",
   "nbconvert_exporter": "python",
   "pygments_lexer": "ipython3",
   "version": "3.9.7"
  }
 },
 "nbformat": 4,
 "nbformat_minor": 5
}
