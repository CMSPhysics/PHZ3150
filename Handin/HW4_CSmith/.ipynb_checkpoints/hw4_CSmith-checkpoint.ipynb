{
 "cells": [
  {
   "cell_type": "code",
   "execution_count": null,
   "id": "e19b203a",
   "metadata": {},
   "outputs": [],
   "source": [
    "#HW4 Corine Smith Thurs Jan 27 11:33:40 EST 2022"
   ]
  },
  {
   "cell_type": "code",
   "execution_count": 1,
   "id": "d9641d1d",
   "metadata": {},
   "outputs": [
    {
     "name": "stdout",
     "output_type": "stream",
     "text": [
      "Problem 2\n"
     ]
    }
   ],
   "source": [
    "print ( 'Problem 2')\n",
    "#Write expression F = m*a\n"
   ]
  },
  {
   "cell_type": "code",
   "execution_count": 24,
   "id": "6a375276",
   "metadata": {},
   "outputs": [],
   "source": [
    "def Force( m , a ):\n",
    "    \"\"\" Function for calculating force F[N] from mass m[Kg] and acceleration a[m/s^2]\n",
    "    INPUT: m[Kg], a[m/s^2]\n",
    "    OUTPUT: F[N]\"\"\"\n",
    "    \n",
    "    Force = m * a\n",
    "    \n",
    "    return Force"
   ]
  },
  {
   "cell_type": "code",
   "execution_count": 25,
   "id": "526ac1b7",
   "metadata": {},
   "outputs": [],
   "source": [
    "mass = [10, 15, 20, 40]\n",
    "acceleration = [5, 10, 5, 3]"
   ]
  },
  {
   "cell_type": "code",
   "execution_count": 27,
   "id": "8be1094f",
   "metadata": {},
   "outputs": [
    {
     "name": "stdout",
     "output_type": "stream",
     "text": [
      "50\n"
     ]
    }
   ],
   "source": [
    "print( Force ( mass[0] , acceleration[0] ) )"
   ]
  },
  {
   "cell_type": "code",
   "execution_count": 28,
   "id": "1e52509b",
   "metadata": {},
   "outputs": [
    {
     "name": "stdout",
     "output_type": "stream",
     "text": [
      "150\n"
     ]
    }
   ],
   "source": [
    "print( Force ( mass[1] , acceleration [1] ) )"
   ]
  },
  {
   "cell_type": "code",
   "execution_count": 29,
   "id": "f2b23ae8",
   "metadata": {},
   "outputs": [
    {
     "name": "stdout",
     "output_type": "stream",
     "text": [
      "100\n"
     ]
    }
   ],
   "source": [
    "print( Force ( mass[2] , acceleration [2] ) )"
   ]
  },
  {
   "cell_type": "code",
   "execution_count": 30,
   "id": "4829c944",
   "metadata": {},
   "outputs": [
    {
     "name": "stdout",
     "output_type": "stream",
     "text": [
      "120\n"
     ]
    }
   ],
   "source": [
    "print( Force ( mass[3] , acceleration [3] ) )"
   ]
  },
  {
   "cell_type": "code",
   "execution_count": 50,
   "id": "bde0999d",
   "metadata": {},
   "outputs": [],
   "source": [
    "def acceleration( Force , m ):\n",
    "    \"\"\"Function for calculating acceleration from Force[N] divided by mass m[Kg].\n",
    "    INPUT: Force[F], mass[Kg] \n",
    "    OUTPUT: acceleration [m/s^2]\"\"\"\n",
    "    \n",
    "    a = Force / m\n",
    "    \n",
    "    return a"
   ]
  },
  {
   "cell_type": "code",
   "execution_count": 51,
   "id": "e8ea53a1",
   "metadata": {},
   "outputs": [],
   "source": [
    "mass = []"
   ]
  },
  {
   "cell_type": "code",
   "execution_count": 52,
   "id": "44e5ff69",
   "metadata": {},
   "outputs": [],
   "source": [
    "mass = [150]\n",
    "Force = [100, 22, 450]"
   ]
  },
  {
   "cell_type": "code",
   "execution_count": 53,
   "id": "415237d0",
   "metadata": {},
   "outputs": [
    {
     "name": "stdout",
     "output_type": "stream",
     "text": [
      "0.6666666666666666\n"
     ]
    }
   ],
   "source": [
    "print( acceleration( Force[0] , mass[0] ) )"
   ]
  },
  {
   "cell_type": "code",
   "execution_count": 55,
   "id": "ffd238c3",
   "metadata": {},
   "outputs": [
    {
     "name": "stdout",
     "output_type": "stream",
     "text": [
      "0.14666666666666667\n"
     ]
    }
   ],
   "source": [
    "print( acceleration( Force[1] , mass[0] ) )"
   ]
  },
  {
   "cell_type": "code",
   "execution_count": 56,
   "id": "ab4c695d",
   "metadata": {},
   "outputs": [
    {
     "name": "stdout",
     "output_type": "stream",
     "text": [
      "3.0\n"
     ]
    }
   ],
   "source": [
    "print( acceleration( Force[2] , mass[0] ) )"
   ]
  },
  {
   "cell_type": "code",
   "execution_count": 4,
   "id": "4476999c",
   "metadata": {},
   "outputs": [
    {
     "name": "stdout",
     "output_type": "stream",
     "text": [
      "Problem 3\n"
     ]
    }
   ],
   "source": [
    "print( 'Problem 3' )"
   ]
  },
  {
   "cell_type": "code",
   "execution_count": 5,
   "id": "85a78c82",
   "metadata": {},
   "outputs": [],
   "source": [
    "#Imported acceleration function from acceleration_hw4.py file to solve problem 3 computations"
   ]
  },
  {
   "cell_type": "code",
   "execution_count": 2,
   "id": "e6b28cfb",
   "metadata": {},
   "outputs": [
    {
     "name": "stdout",
     "output_type": "stream",
     "text": [
      "<function acceleration at 0x000002005F9D2280>\n"
     ]
    }
   ],
   "source": [
    "from acceleration_hw4 import acceleration\n",
    "print( acceleration)"
   ]
  },
  {
   "cell_type": "code",
   "execution_count": 7,
   "id": "495dbf2a",
   "metadata": {},
   "outputs": [],
   "source": [
    "u1 = [10, 15, 32, 42, 20]\n",
    "u2 = [13, 30, 36, 20, 22]\n",
    "t1 = [0, 10, 14, 28, 0]\n",
    "t2 = [2, 14, 16, 32, 10]"
   ]
  },
  {
   "cell_type": "code",
   "execution_count": 10,
   "id": "0dd300e5",
   "metadata": {},
   "outputs": [
    {
     "name": "stdout",
     "output_type": "stream",
     "text": [
      "1.5\n",
      "3.75\n",
      "2.0\n",
      "-5.5\n",
      "0.2\n"
     ]
    }
   ],
   "source": [
    "print( acceleration( u1[0], u2[0], t1[0], t2[0] ) )\n",
    "print( acceleration( u1[1], u2[1], t1[1], t2[1] ) )\n",
    "print( acceleration( u1[2], u2[2], t1[2], t2[2] ) )\n",
    "print( acceleration( u1[3], u2[3], t1[3], t2[3] ) )\n",
    "print( acceleration( u1[4], u2[4], t1[4], t2[4] ) )"
   ]
  },
  {
   "cell_type": "code",
   "execution_count": null,
   "id": "ce3580cc",
   "metadata": {},
   "outputs": [],
   "source": [
    "#I verified these values by computing the problems by hand using a graphing calculator "
   ]
  },
  {
   "cell_type": "code",
   "execution_count": null,
   "id": "38d95254",
   "metadata": {},
   "outputs": [],
   "source": [
    "# 2 tests to use to determine if this codes works as it should would be 1) compute by hand as I have done above and 2) use another program with built in code/functions such as excel to verify results."
   ]
  },
  {
   "cell_type": "code",
   "execution_count": 14,
   "id": "1aa84d64",
   "metadata": {},
   "outputs": [
    {
     "name": "stdout",
     "output_type": "stream",
     "text": [
      "Problem 4\n"
     ]
    }
   ],
   "source": [
    "print( \"Problem 4\" )"
   ]
  },
  {
   "cell_type": "code",
   "execution_count": 15,
   "id": "a2abefe7",
   "metadata": {},
   "outputs": [
    {
     "name": "stdout",
     "output_type": "stream",
     "text": [
      "[0, 10, 20, 30, 40, 50, 60, 70, 80, 90, 100]\n"
     ]
    }
   ],
   "source": [
    "velocity = [0, 10, 20, 30, 40, 50, 60, 70, 80, 90, 100]\n",
    "print( velocity )"
   ]
  },
  {
   "cell_type": "code",
   "execution_count": 16,
   "id": "74bd0681",
   "metadata": {},
   "outputs": [
    {
     "name": "stdout",
     "output_type": "stream",
     "text": [
      "[0, 100, 200, 300, 400, 500, 600, 700, 800, 900, 1000]\n"
     ]
    }
   ],
   "source": [
    "time = [0, 100, 200, 300, 400, 500, 600, 700, 800, 900, 1000]\n",
    "print( time )"
   ]
  },
  {
   "cell_type": "code",
   "execution_count": 17,
   "id": "0e083299",
   "metadata": {},
   "outputs": [
    {
     "name": "stdout",
     "output_type": "stream",
     "text": [
      "[20, 30, 40]\n",
      "80\n"
     ]
    }
   ],
   "source": [
    "print( velocity[ 2 : 5 ] )\n",
    "print( velocity[ 8 ] )"
   ]
  },
  {
   "cell_type": "code",
   "execution_count": 18,
   "id": "7700e150",
   "metadata": {},
   "outputs": [],
   "source": [
    "#Imported acceleration function from acceleration_hw4.py file to solve problem 4 iterations  "
   ]
  },
  {
   "cell_type": "code",
   "execution_count": 19,
   "id": "6c3c76f6",
   "metadata": {},
   "outputs": [
    {
     "name": "stdout",
     "output_type": "stream",
     "text": [
      "<function acceleration at 0x000002005F9D2280>\n"
     ]
    }
   ],
   "source": [
    "from acceleration_hw4 import acceleration\n",
    "print( acceleration)"
   ]
  },
  {
   "cell_type": "code",
   "execution_count": 30,
   "id": "03c6ab8d",
   "metadata": {},
   "outputs": [
    {
     "name": "stdout",
     "output_type": "stream",
     "text": [
      "[0, 10, 20, 30, 90, 50, 60, 70, 80, 90, 100]\n"
     ]
    }
   ],
   "source": [
    "#changed 5th element in velocity list to 90\n",
    "velocity [ 4 ] = 90\n",
    "print( velocity )"
   ]
  },
  {
   "cell_type": "code",
   "execution_count": 20,
   "id": "7fbdcec9",
   "metadata": {},
   "outputs": [
    {
     "ename": "TypeError",
     "evalue": "acceleration() missing 2 required positional arguments: 't1' and 't2'",
     "output_type": "error",
     "traceback": [
      "\u001b[1;31m---------------------------------------------------------------------------\u001b[0m",
      "\u001b[1;31mTypeError\u001b[0m                                 Traceback (most recent call last)",
      "\u001b[1;32m~\\AppData\\Local\\Temp/ipykernel_1076/1439699701.py\u001b[0m in \u001b[0;36m<module>\u001b[1;34m\u001b[0m\n\u001b[1;32m----> 1\u001b[1;33m \u001b[0mprint\u001b[0m\u001b[1;33m(\u001b[0m \u001b[0macceleration\u001b[0m\u001b[1;33m(\u001b[0m \u001b[0mvelocity\u001b[0m\u001b[1;33m[\u001b[0m\u001b[1;36m2\u001b[0m\u001b[1;33m]\u001b[0m\u001b[1;33m,\u001b[0m \u001b[0mtime\u001b[0m\u001b[1;33m[\u001b[0m\u001b[1;36m2\u001b[0m\u001b[1;33m]\u001b[0m \u001b[1;33m)\u001b[0m \u001b[1;33m)\u001b[0m\u001b[1;33m\u001b[0m\u001b[1;33m\u001b[0m\u001b[0m\n\u001b[0m\u001b[0;32m      2\u001b[0m \u001b[0mprint\u001b[0m\u001b[1;33m(\u001b[0m \u001b[0macceleration\u001b[0m\u001b[1;33m(\u001b[0m \u001b[0mvelocity\u001b[0m\u001b[1;33m[\u001b[0m\u001b[1;36m3\u001b[0m\u001b[1;33m]\u001b[0m\u001b[1;33m,\u001b[0m \u001b[0mtime\u001b[0m\u001b[1;33m[\u001b[0m\u001b[1;36m3\u001b[0m\u001b[1;33m]\u001b[0m \u001b[1;33m)\u001b[0m \u001b[1;33m)\u001b[0m\u001b[1;33m\u001b[0m\u001b[1;33m\u001b[0m\u001b[0m\n\u001b[0;32m      3\u001b[0m \u001b[0mprint\u001b[0m\u001b[1;33m(\u001b[0m \u001b[0macceleration\u001b[0m\u001b[1;33m(\u001b[0m \u001b[0mvelocity\u001b[0m\u001b[1;33m[\u001b[0m\u001b[1;36m4\u001b[0m\u001b[1;33m]\u001b[0m\u001b[1;33m,\u001b[0m \u001b[0mtime\u001b[0m\u001b[1;33m[\u001b[0m\u001b[1;36m4\u001b[0m\u001b[1;33m]\u001b[0m \u001b[1;33m)\u001b[0m \u001b[1;33m)\u001b[0m\u001b[1;33m\u001b[0m\u001b[1;33m\u001b[0m\u001b[0m\n\u001b[0;32m      4\u001b[0m \u001b[0mprint\u001b[0m\u001b[1;33m(\u001b[0m \u001b[0macceleration\u001b[0m\u001b[1;33m(\u001b[0m \u001b[0mvelocity\u001b[0m\u001b[1;33m[\u001b[0m\u001b[1;36m5\u001b[0m\u001b[1;33m]\u001b[0m\u001b[1;33m,\u001b[0m \u001b[0mtime\u001b[0m\u001b[1;33m[\u001b[0m\u001b[1;36m5\u001b[0m\u001b[1;33m]\u001b[0m \u001b[1;33m)\u001b[0m \u001b[1;33m)\u001b[0m\u001b[1;33m\u001b[0m\u001b[1;33m\u001b[0m\u001b[0m\n\u001b[0;32m      5\u001b[0m \u001b[0mprint\u001b[0m\u001b[1;33m(\u001b[0m \u001b[0macceleration\u001b[0m\u001b[1;33m(\u001b[0m \u001b[0mvelocity\u001b[0m\u001b[1;33m[\u001b[0m\u001b[1;36m8\u001b[0m\u001b[1;33m]\u001b[0m\u001b[1;33m,\u001b[0m \u001b[0mtime\u001b[0m\u001b[1;33m[\u001b[0m\u001b[1;36m8\u001b[0m\u001b[1;33m]\u001b[0m \u001b[1;33m)\u001b[0m \u001b[1;33m)\u001b[0m\u001b[1;33m\u001b[0m\u001b[1;33m\u001b[0m\u001b[0m\n",
      "\u001b[1;31mTypeError\u001b[0m: acceleration() missing 2 required positional arguments: 't1' and 't2'"
     ]
    }
   ],
   "source": [
    "print( acceleration( velocity[2], time[2] ) )\n",
    "print( acceleration( velocity[3], time[3] ) )\n",
    "print( acceleration( velocity[4], time[4] ) )\n",
    "print( acceleration( velocity[5], time[5] ) )\n",
    "print( acceleration( velocity[8], time[8] ) )"
   ]
  },
  {
   "cell_type": "code",
   "execution_count": null,
   "id": "86a96a81",
   "metadata": {},
   "outputs": [],
   "source": [
    "#Function does not work because the original function was defined for different time variables t1 and t2, speed variables u1 and u2, not for total time and total velocity as was list in problem 4"
   ]
  }
 ],
 "metadata": {
  "kernelspec": {
   "display_name": "Python 3 (ipykernel)",
   "language": "python",
   "name": "python3"
  },
  "language_info": {
   "codemirror_mode": {
    "name": "ipython",
    "version": 3
   },
   "file_extension": ".py",
   "mimetype": "text/x-python",
   "name": "python",
   "nbconvert_exporter": "python",
   "pygments_lexer": "ipython3",
   "version": "3.9.7"
  }
 },
 "nbformat": 4,
 "nbformat_minor": 5
}
