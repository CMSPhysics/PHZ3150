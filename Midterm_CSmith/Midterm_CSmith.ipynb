{
 "cells": [
  {
   "cell_type": "markdown",
   "id": "78ef7241",
   "metadata": {},
   "source": [
    "# The Grand Tour  "
   ]
  },
  {
   "cell_type": "markdown",
   "id": "33bb7242",
   "metadata": {},
   "source": [
    "### The year is 2340. Human kind has colonized the whole Solar system. Travelling between planets, moons and minor bodies with one's spaceship is as easy as driving a car between cities used to be in the 21st century. There are still, however, some extra considerations to take into account as all these bodies evolve around the Sun and one needs to organize their trip carefully, or risk wasting *a lot* of fuel. Your mission is to create a code that will enable navigation through the Solar system and let the user know when is best to travel to their destination.\n",
    "\n",
    "<img src=\"grand_tour_nasa.png\" width=300 height=500 />\n",
    "Credit: NASA"
   ]
  },
  {
   "cell_type": "markdown",
   "id": "4bc8534e",
   "metadata": {},
   "source": [
    "\n"
   ]
  },
  {
   "cell_type": "markdown",
   "id": "62cc8d46",
   "metadata": {},
   "source": [
    "## 1. The setup (10 points total)"
   ]
  },
  {
   "cell_type": "markdown",
   "id": "62505c9c",
   "metadata": {},
   "source": [
    "At this point you should have made a folder named Midterm_yourname and have moved this notebook in there. (**2 points**)\n",
    "\n",
    "Don't forget that a good log is part of a successful mission! Start your log please! (**3 points**)\n",
    "\n",
    "You will need to import the necessary package(s) to do numerical problems. Start by doing all your imports here. (**5 points**)"
   ]
  },
  {
   "cell_type": "code",
   "execution_count": 1,
   "id": "96925522",
   "metadata": {},
   "outputs": [
    {
     "name": "stdout",
     "output_type": "stream",
     "text": [
      "Problem 1:\n"
     ]
    }
   ],
   "source": [
    "print(\"Problem 1:\")"
   ]
  },
  {
   "cell_type": "code",
   "execution_count": 2,
   "id": "b2098202",
   "metadata": {},
   "outputs": [],
   "source": [
    "import numpy as np"
   ]
  },
  {
   "cell_type": "code",
   "execution_count": 3,
   "id": "0911ab24",
   "metadata": {},
   "outputs": [],
   "source": [
    "import math"
   ]
  },
  {
   "cell_type": "code",
   "execution_count": 4,
   "id": "15bfaedf",
   "metadata": {},
   "outputs": [],
   "source": [
    "import pandas as pd "
   ]
  },
  {
   "cell_type": "markdown",
   "id": "94af6418",
   "metadata": {},
   "source": [
    "## 2. Well begun is half done. (30 points total + 2 bonus)"
   ]
  },
  {
   "cell_type": "markdown",
   "id": "5858c395",
   "metadata": {},
   "source": [
    "### We need to ask the user of our code where they travel from/to.\n",
    "\n",
    "A) Make a variable named *start_location* that will hold the information of where the \n",
    "traveler starts from. Make a variable *destination_location* that will hold the information \n",
    "of where the traveler wants to end. Your code should ask for input from the user about \n",
    "where they want to travel to/from and store the input in these variables. (**5 points**) "
   ]
  },
  {
   "cell_type": "code",
   "execution_count": 5,
   "id": "82713502",
   "metadata": {},
   "outputs": [
    {
     "name": "stdout",
     "output_type": "stream",
     "text": [
      "Problem 2:\n"
     ]
    }
   ],
   "source": [
    "print(\"Problem 2:\")"
   ]
  },
  {
   "cell_type": "code",
   "execution_count": 6,
   "id": "9bb619ba",
   "metadata": {},
   "outputs": [
    {
     "name": "stdout",
     "output_type": "stream",
     "text": [
      "Which location are you starting?Jupiter\n"
     ]
    }
   ],
   "source": [
    "start_location = input('Which location are you starting?')"
   ]
  },
  {
   "cell_type": "code",
   "execution_count": 7,
   "id": "0d45f91f",
   "metadata": {},
   "outputs": [
    {
     "name": "stdout",
     "output_type": "stream",
     "text": [
      "Which location are you arriving?Io\n"
     ]
    }
   ],
   "source": [
    "destination_location = input('Which location are you arriving?')"
   ]
  },
  {
   "cell_type": "markdown",
   "id": "5fcb302a",
   "metadata": {},
   "source": [
    "### Now we need to make sure that the traveler gave us valid input. \n",
    "\n",
    "B) Make a list named *planets_and_moons* that contains the names of all possible planets and moons the traveler can travel between. The list should contain only the following bodies: \n",
    "\n",
    "Mercury, Venus, Earth, Moon, Ceres, Mars, Jupiter, Io, Europa, Saturn, Titan, Neptune, Pluto, Charon. (**5 points**) \n",
    "\n"
   ]
  },
  {
   "cell_type": "code",
   "execution_count": 8,
   "id": "8e8d52f8",
   "metadata": {},
   "outputs": [],
   "source": [
    "planets_and_moons = ['Mercury', 'Venus', 'Earth', 'Moon', 'Ceres', 'Mars', 'Jupiter', 'Io', 'Europa', 'Saturn', 'Titan', 'Neptune', 'Pluto', 'Charon']"
   ]
  },
  {
   "cell_type": "markdown",
   "id": "426d0b67",
   "metadata": {},
   "source": [
    "C) Make a code that checks whether the input given from the traveler is available among the allowed locations a trip can be made to/from. (**2 points**) \n",
    "\n",
    "If both are valid inputs the code should print a message to let the traveler know the code will proceed (**3 point**).\n",
    "\n",
    "If any of the inputs are not allowed, the code should let the traveler know that they need to give a new start or destination point, and inform them what options are available. The code should then ask for the corrected start or destination points. (**5 points**)\n",
    "\n",
    "Note: at this point we will assume that the traveler entered a correct location and did not do a mistake a second time. **Bonus 2 points:** what would you need to add to the code to check that this assumption is correct, and let the traveler know they made a new mistake? Add functionality that could account for the user making repeated mistakes entering the locations until they entered it in correctly. Explain with a comment under the code you just wrote. "
   ]
  },
  {
   "cell_type": "code",
   "execution_count": 9,
   "id": "eac0e303",
   "metadata": {},
   "outputs": [
    {
     "name": "stdout",
     "output_type": "stream",
     "text": [
      "Jupiter is an allowed destination please proceed!\n"
     ]
    }
   ],
   "source": [
    "if start_location in planets_and_moons:\n",
    "        print(start_location, 'is an allowed destination please proceed!')\n",
    "if start_location not in planets_and_moons:\n",
    "        print(\"Sorry\",start_location,\"is not a valid starting location. Please choose from the following available starting locations\",planets_and_moons)\n",
    "        start_location = input( \"Please select a valid starting location. \\n\")\n",
    "        if start_location in planets_and_moons:\n",
    "            print(start_location, 'is an allowed destination please proceed!')"
   ]
  },
  {
   "cell_type": "code",
   "execution_count": 10,
   "id": "2f49664e",
   "metadata": {},
   "outputs": [
    {
     "name": "stdout",
     "output_type": "stream",
     "text": [
      "Io is an allowed destination please proceed!\n"
     ]
    }
   ],
   "source": [
    "if destination_location in planets_and_moons:\n",
    "        print(destination_location, 'is an allowed destination please proceed!')\n",
    "if destination_location not in planets_and_moons:\n",
    "        print(\"Sorry\", destination_location, \"is not a valid destination location. Please choose from the following available starting locations\", planets_and_moons)\n",
    "        destination_location = input(\"Please select a valid destination location. \\n\")"
   ]
  },
  {
   "cell_type": "code",
   "execution_count": 11,
   "id": "f50637ab",
   "metadata": {},
   "outputs": [
    {
     "name": "stdout",
     "output_type": "stream",
     "text": [
      "Bonus Problem Code:\n"
     ]
    }
   ],
   "source": [
    "#Bonus Problem Code\n",
    "print(\"Bonus Problem Code:\")"
   ]
  },
  {
   "cell_type": "code",
   "execution_count": 12,
   "id": "f0fd3a3a",
   "metadata": {},
   "outputs": [
    {
     "name": "stdout",
     "output_type": "stream",
     "text": [
      "Which location are you starting?Jupiter\n",
      "Which location are you arriving?Io\n",
      "Jupiter is an allowed destination please proceed! \n",
      " Io is an allowed destination please proceed!\n"
     ]
    }
   ],
   "source": [
    "while True:\n",
    "    start_location = input('Which location are you starting?')\n",
    "    destination_location = input('Which location are you arriving?')\n",
    "    planets_and_moons = ['Mercury', 'Venus', 'Earth', 'Moon', 'Ceres', 'Mars', 'Jupiter', 'Io', 'Europa', 'Saturn', 'Titan', 'Neptune', 'Pluto', 'Charon']\n",
    "    \n",
    "    if start_location and destination_location in planets_and_moons:\n",
    "        print(start_location, 'is an allowed destination please proceed!','\\n', destination_location, 'is an allowed destination please proceed!')\n",
    "        break\n",
    "    if start_location not in planets_and_moons:\n",
    "        print(\"Sorry\",start_location,\"is not a valid starting location. Please choose from the following available starting locations\",planets_and_moons)\n",
    "    if destination_location not in planets_and_moons:\n",
    "        print(\"Sorry\",destination_location,\"is not a valid destination location. Please choose from the following available destination locations\",planets_and_moons)\n",
    "       \n",
    "    \n",
    "    continue \n"
   ]
  },
  {
   "cell_type": "code",
   "execution_count": 13,
   "id": "3d38becc",
   "metadata": {},
   "outputs": [
    {
     "name": "stdout",
     "output_type": "stream",
     "text": [
      "Bonus Problem Comment:\n"
     ]
    }
   ],
   "source": [
    "print(\"Bonus Problem Comment:\")"
   ]
  },
  {
   "cell_type": "code",
   "execution_count": 14,
   "id": "040eaac1",
   "metadata": {},
   "outputs": [],
   "source": [
    "#I used a \"while true\" loop to loop through correct input start and destination locations, with an if/not loop for incorrect locations.  If continued invalid locations are entered it continues to prompt user with inputs for valid locations.  If the correct location is entered, the loop breaks and informs the user that the location chosen is valid. "
   ]
  },
  {
   "cell_type": "markdown",
   "id": "9c700ed6",
   "metadata": {},
   "source": [
    "### Test that your code works.  \n",
    "\n",
    "D-1) Try a trip starting at Demos and destination Io. Run the code so far, and make a screenshot showing that the code warns you that the starting point is not valid. Save the screenshot with the appropriate name to your folder. (**5 points**)\n",
    "\n",
    "D-2) Change the starting point to Jupiter. Make a screenshot showing that the code lets you know you will proceed with the trip. Save the screenshot with the appropriate name to your folder. (**5 points**)\n"
   ]
  },
  {
   "cell_type": "markdown",
   "id": "a656c887",
   "metadata": {},
   "source": [
    "\n",
    "## 3. The solar system nagivation. (20 points total)\n",
    "\n",
    "Now that we know what the traveler wants to do, we need to let them know how long the trip will be and how much time it will take them. \n",
    "\n",
    "A) File solar_system_date_1.dat has information about the distances (in AU) between all bodies on a given date. If you open the file, you will see that it contains a 14 x 14 table (as we have 14 celestial bodies that we can travel between) with the distances between the bodies. The  Nth line and Nth column are a given body, so that the diagonal is zeros (as the distance from A to A is zero). The distance between Earth and the Moon, e.g., is 0.0030 AU so that line 3 (#4 of the file) column 2 of your data (i.e., the distance from the Earth to the Moon) is 0.0030 (note that the same is true for line 2 column 3 as this is the distance from the Moon to the Earth). \n",
    "\n",
    "Use the appropriate numpy function to read the data into variable *space_distances_date1*. (**3 points**)"
   ]
  },
  {
   "cell_type": "code",
   "execution_count": 15,
   "id": "08550709",
   "metadata": {},
   "outputs": [
    {
     "name": "stdout",
     "output_type": "stream",
     "text": [
      "Problem 3:\n"
     ]
    }
   ],
   "source": [
    "print(\"Problem 3:\")"
   ]
  },
  {
   "cell_type": "code",
   "execution_count": 16,
   "id": "b8bf2a67",
   "metadata": {},
   "outputs": [],
   "source": [
    "space_distances_date1 = np.loadtxt('../demos/solar_system_date_1.dat')"
   ]
  },
  {
   "cell_type": "markdown",
   "id": "893fb7b4",
   "metadata": {},
   "source": [
    "B) Next you will need to find which solar system bodies the traveler wants to travel from/to when they give you their navigation start and end points (like above Jupiter/Io). Use your preferred method to get the index of the bodies (name the indexes *start_body_i* and *destination_body_i*) from your planets_and_moons list. (**4 points**) "
   ]
  },
  {
   "cell_type": "code",
   "execution_count": 17,
   "id": "f65f6480",
   "metadata": {},
   "outputs": [],
   "source": [
    "df = pd.DataFrame(space_distances_date1, columns = planets_and_moons, index = planets_and_moons)"
   ]
  },
  {
   "cell_type": "code",
   "execution_count": 18,
   "id": "775a9fa6",
   "metadata": {},
   "outputs": [],
   "source": [
    "start_body_i = start_location\n",
    "destination_body_i = destination_location"
   ]
  },
  {
   "cell_type": "code",
   "execution_count": 19,
   "id": "093b402d",
   "metadata": {},
   "outputs": [],
   "source": [
    "distance_for_traveller = df.loc[start_body_i, destination_body_i]"
   ]
  },
  {
   "cell_type": "markdown",
   "id": "b8846abf",
   "metadata": {},
   "source": [
    "C) Using the space_distances_date1 data and indexes start_body_i and destination_body_i you just calculated, find the distance the traveler will travel. Print an informative statement to let them know what the distance between their start and end points are (e.g., 'You will travel 10AU from the Moon to Calisto' ) (**5 points**)"
   ]
  },
  {
   "cell_type": "code",
   "execution_count": 20,
   "id": "2537ff83",
   "metadata": {},
   "outputs": [
    {
     "name": "stdout",
     "output_type": "stream",
     "text": [
      "You will travel 0.0029 AU if you start from Jupiter and arrive at Io !\n"
     ]
    }
   ],
   "source": [
    "print(\"You will travel\", distance_for_traveller, \"AU if you start from\", start_body_i, \"and arrive at\", destination_body_i,\"!\")"
   ]
  },
  {
   "cell_type": "markdown",
   "id": "918395f3",
   "metadata": {},
   "source": [
    "D) Assume that the traveler can travel at an average speed of 0.001AU/hr. Calculate the average travel time it will take them to go from their start to their destination body. Calculate how many Earth years (travel_time_years; assume 365 days in the year), Earth days (travel_time_days), Earth hours (travel_time_hours) and Earth minutes (travel_time_minutes) the trip will take. </br>\n",
    "Present this result in the format: \"(Earth_Years) years (Earth_Days) days, (Earth_Hours) hours (Earth_Mins) mins\". With the corresponding values in the parentheses, do not include the parentheses in your final answer. Print an informative statement that lets the traveler know how long their trip will take. (**4 points**) "
   ]
  },
  {
   "cell_type": "code",
   "execution_count": 21,
   "id": "9b035918",
   "metadata": {},
   "outputs": [
    {
     "name": "stdout",
     "output_type": "stream",
     "text": [
      "Your trip will take, 0 years, 0 days, 2 hours, and 53 minutes.\n"
     ]
    }
   ],
   "source": [
    "time_total = distance_for_traveller / 0.001\n",
    "\n",
    "time_years = int((time_total / 24)*(1/365))\n",
    "d = (((time_total/365)-time_years)*365)/24\n",
    "time_days = int(d)\n",
    "h = (d-time_days)*24\n",
    "time_hours = int(h)\n",
    "m = (h-time_hours)*60\n",
    "time_minutes = int(m)\n",
    "\n",
    "print(\"Your trip will take,\", time_years, \"years,\", time_days, \"days,\", time_hours, \"hours, and\", time_minutes, \"minutes.\")"
   ]
  },
  {
   "cell_type": "markdown",
   "id": "5dd05430",
   "metadata": {},
   "source": [
    "E) Turn the program you wrote so far into a function *planet_tour* that takes as input the names of the two bodies (start, destination)the traveler wants to travel between, and outputs the necessary information (total distance, travel time). Make sure you include an appropriate informative docstring! Save the function in a separate file. (**2 points**)"
   ]
  },
  {
   "cell_type": "code",
   "execution_count": 22,
   "id": "00352e14",
   "metadata": {},
   "outputs": [],
   "source": [
    "# time_total = shortest_travel_day / 0.001    \n",
    "    #time_years = int((time_total / 24)*(1/365))\n",
    "    #d = (((time_total/365)-time_years)*365)/24\n",
    "    #time_days = int(d)\n",
    "    #h = (d-time_days)*24\n",
    "    #time_hours = int(h)\n",
    "    #m = (h-time_hours)*60\n",
    "    #time_minutes = int(m)"
   ]
  },
  {
   "cell_type": "markdown",
   "id": "81c4913f",
   "metadata": {},
   "source": [
    "\n",
    "+F) Test that your program so far works. Import the function and call it for a trip from the Earth to Mars. Your trip should take 88 days and 1 hour. Note that this is *much* faster than what the trip takes nowadays, where we need the better part of a year (9 months or more) to get there. (**2 points**)\n"
   ]
  },
  {
   "cell_type": "code",
   "execution_count": 23,
   "id": "e0b86849",
   "metadata": {},
   "outputs": [
    {
     "name": "stdout",
     "output_type": "stream",
     "text": [
      "Do you wanna take a grand tour, input Y for yes or N for no.N\n",
      "The shortest distance from Earth to Mars is 2.023 AU and occurs on day . This trip will take 0 Earth years 84 Earth days, 7 Earth hours, and 0 Earth minutes\n",
      "\n",
      "You will require 4 refuelling stops!\n"
     ]
    }
   ],
   "source": [
    "from planet_tour_function import planet_tour\n",
    "z = planet_tour(\"Earth\",\"Mars\")\n"
   ]
  },
  {
   "cell_type": "markdown",
   "id": "65f84181",
   "metadata": {},
   "source": [
    "## 4. Refueling is still a thing. (25 points total)\n",
    "\n",
    "Humans are able to travel through space easily, but refueling is still a thing as we have not discovered ways to use an infinite source of energy. It is important to let people know not only how long their trip will take, but also how much fuel they will need on their trip. The Solar system is full of refueling stations, but as they are in orbit we need to send them messages about where to meet our spaceship and how much fuel we will need. \n",
    "\n",
    "You will need to change the function you just made to include this information and print a statement that you will send the refueling stations.\n",
    "\n",
    "A) Assuming your spaceship needs refueling every 0.65AU calculate how many refueling stops your trip will make. The code should print a message to let the user know how many stops they will need for refueling. Assume you start every trip with a full tank. Remember to round up when needed (1.2 stops doesn't make sense: 2 stops does). ( **5 points**)\n"
   ]
  },
  {
   "cell_type": "code",
   "execution_count": 24,
   "id": "381837b8",
   "metadata": {},
   "outputs": [
    {
     "name": "stdout",
     "output_type": "stream",
     "text": [
      "Problem 4:\n"
     ]
    }
   ],
   "source": [
    "print(\"Problem 4:\")"
   ]
  },
  {
   "cell_type": "code",
   "execution_count": 25,
   "id": "4d6e801f",
   "metadata": {},
   "outputs": [
    {
     "name": "stdout",
     "output_type": "stream",
     "text": [
      "Do you wanna take a grand tour, input Y for yes or N for no.N\n",
      "The shortest distance from Earth to Mars is 2.023 AU and occurs on day . This trip will take 0 Earth years 84 Earth days, 7 Earth hours, and 0 Earth minutes\n",
      "\n",
      "You will require 4 refuelling stops!\n"
     ]
    }
   ],
   "source": [
    "from planet_tour_function import planet_tour\n",
    "z = planet_tour(\"Earth\", \"Mars\")"
   ]
  },
  {
   "cell_type": "markdown",
   "id": "74b764ba",
   "metadata": {},
   "source": [
    "B) If you will need refueling, the code should write a file *message_to_stations.txt* that will be sent to the refueling stations with information about: your start and end point, where they will need to meet with you (e.g., 'My trip starts at Earth and ends at Mars. I will need to encounter stations for a refueling at 0.65AU, 1.3AU and 1.95AU.') (**10 points**) "
   ]
  },
  {
   "cell_type": "code",
   "execution_count": 26,
   "id": "0bc2c3a8",
   "metadata": {},
   "outputs": [],
   "source": [
    "from planet_tour_function import planet_tour"
   ]
  },
  {
   "cell_type": "markdown",
   "id": "aea176d1",
   "metadata": {},
   "source": [
    "C) Import the updated function and run it for a trip from Io to Jupiter and Earth to Venus (**5 points**). \n",
    "\n",
    "Rename the output message to message_to_stations_1.txt (explain why you should only have 1 message here). Then run it for a trip from the Earth to Pluto (**5 points**). Rename the output message to message_to_stations_2.txt "
   ]
  },
  {
   "cell_type": "code",
   "execution_count": 27,
   "id": "2202b2ba",
   "metadata": {},
   "outputs": [],
   "source": [
    "#I only have one message in the file, as I didnt append the message and because I kept it in write mode \"w\", the new text overwrote the previous message. "
   ]
  },
  {
   "cell_type": "code",
   "execution_count": 28,
   "id": "f7162b58",
   "metadata": {},
   "outputs": [
    {
     "name": "stdout",
     "output_type": "stream",
     "text": [
      "Do you wanna take a grand tour, input Y for yes or N for no.N\n",
      "The shortest distance from Io to Jupiter is 0.0018 AU and occurs on day . This trip will take 0 Earth years 0 Earth days, 1 Earth hours, and 47 Earth minutes\n",
      "\n",
      "You will require 1 refuelling stops!\n"
     ]
    }
   ],
   "source": [
    "from planet_tour_function import planet_tour\n",
    "a = planet_tour(\"Io\", \"Jupiter\")"
   ]
  },
  {
   "cell_type": "code",
   "execution_count": 29,
   "id": "9863ee93",
   "metadata": {},
   "outputs": [
    {
     "name": "stdout",
     "output_type": "stream",
     "text": [
      "Do you wanna take a grand tour, input Y for yes or N for no.N\n",
      "The shortest distance from Earth to Venus is 0.3915 AU and occurs on day . This trip will take 0 Earth years 16 Earth days, 7 Earth hours, and 30 Earth minutes\n",
      "\n",
      "You will require 1 refuelling stops!\n"
     ]
    }
   ],
   "source": [
    "from planet_tour_function import planet_tour \n",
    "b = planet_tour(\"Earth\", \"Venus\")"
   ]
  },
  {
   "cell_type": "markdown",
   "id": "14134320",
   "metadata": {},
   "source": [
    "## 5. On the dot. ( 20 points total)\n",
    "\n",
    "Traveling in the 21st century from A to B with your car, truck or motorcycle was relatively simple. You just needed to know when you have time to go, and you could have many alternatives to the when that would be. Places A and B would always be there....In 2340 though, traveling is a little bit more complex. Locations A and B are on different bodies of the Solar system that orbit the Sun with different speeds. For example, a trip from Mars to the Earth may only be 33,900,000 miles long on day_1, and on day_2 more than 250,000,000 miles long! *A lot* more time and fuel can be needed for your trip if you pick the wrong date to travel. Let's make the needed updates to the function to make the user's trip as efficient as possible."
   ]
  },
  {
   "cell_type": "code",
   "execution_count": 30,
   "id": "f421f011",
   "metadata": {},
   "outputs": [
    {
     "name": "stdout",
     "output_type": "stream",
     "text": [
      "Problem 5:\n"
     ]
    }
   ],
   "source": [
    "print(\"Problem 5:\")"
   ]
  },
  {
   "cell_type": "code",
   "execution_count": 31,
   "id": "d16a561b",
   "metadata": {},
   "outputs": [],
   "source": [
    "from planet_tour_function import planet_tour"
   ]
  },
  {
   "cell_type": "markdown",
   "id": "0cb647d4",
   "metadata": {},
   "source": [
    "A) Update the function you created to read in the files for all possible travel dates. The code should then compare the distance (or time) it takes to do the trip at different dates. The code should print a statement letting the user know when it is the best time to travel and only print the distance and refueling information needed for that best-case trip. (**10 points**)"
   ]
  },
  {
   "cell_type": "code",
   "execution_count": 32,
   "id": "6cb63377",
   "metadata": {},
   "outputs": [],
   "source": [
    "#travel_dates = [distance_for_traveller1, distance_for_traveller2, distance_for_traveller3]\n",
    "    \n",
    "    #shortest_travel_day = travel_dates[0]\n",
    "    \n",
    "    #for i in range( 1, len(travel_dates)):\n",
    "        #if travel_dates[i] < shortest_travel_day:\n",
    "            #shortest_travel_day = travel_dates[i]"
   ]
  },
  {
   "cell_type": "markdown",
   "id": "4638bca9",
   "metadata": {},
   "source": [
    "B) Now that we are ready to do interplanetary trips we also need our mesages to the refueling stations to be more streamlined. Change the function to ensure that the output distances are formated with a 4 digit accuracy (so 0.6500 AU not 0.65 and not 0.65000001) (**5 points**)\n"
   ]
  },
  {
   "cell_type": "code",
   "execution_count": 33,
   "id": "a958d68e",
   "metadata": {},
   "outputs": [],
   "source": [
    "# df_t = open('message_to_stations.2txt', 'w')\n",
    "#df_t.write('my trip starts at')\n",
    "#df_t.write(start_location)\n",
    "#df_t.write('and ends at')\n",
    "#df_t.write(destination_location)\n",
    "#df_t.write('I will need to encounter stations for \\n a refueling at \\n')\n",
    "#for x in range(1, refuel_stops):\n",
    "#-->>>>> y = round(0.65*x, 4)\n",
    "#df_t.write(str(y))\n",
    "#df_t.write('AU')\n",
    "#df_t.write('\\n')\n",
    "#df_t.close()"
   ]
  },
  {
   "cell_type": "markdown",
   "id": "4ab273a6",
   "metadata": {},
   "source": [
    "C) Test the changes you made for a trip from Earth to Neptune. Rename the output message to message_to_stations_3.txt and save it to your handin folder. (**5 points**)"
   ]
  },
  {
   "cell_type": "code",
   "execution_count": 40,
   "id": "d3e67202",
   "metadata": {},
   "outputs": [],
   "source": [
    "from planet_tour_function import planet_tour"
   ]
  },
  {
   "cell_type": "code",
   "execution_count": 41,
   "id": "3cc95f23",
   "metadata": {},
   "outputs": [
    {
     "name": "stdout",
     "output_type": "stream",
     "text": [
      "Do you wanna take a grand tour, input Y for yes or N for no.N\n",
      "The shortest distance from Earth to Neptune is 28.861 AU and occurs on day . This trip will take 3 Earth years 1156 Earth days, 22 Earth hours, and 0 Earth minutes\n",
      "\n",
      "You will require 45 refuelling stops!\n"
     ]
    }
   ],
   "source": [
    "Earth_to_Neptune = planet_tour(\"Earth\", \"Neptune\")"
   ]
  },
  {
   "cell_type": "markdown",
   "id": "0525d8b5",
   "metadata": {},
   "source": [
    "## 6. The grand tour ( 35 points total)"
   ]
  },
  {
   "cell_type": "markdown",
   "id": "27909b48",
   "metadata": {},
   "source": [
    "A grand tour wouldn't be a *grand* tour without a stop or two on the way. As planets rotate around the Sun, the 'best' stop might not always be trivial (e.g., going from Ceres to Venus sometimes the best stop is Mars, sometimes it can be Earth, as Mars (or Earth) is in on the opposite side of their orbit). In this last task you will make the necessary changes to the code to let the user do a grand tour with one stop along the way."
   ]
  },
  {
   "cell_type": "code",
   "execution_count": 30,
   "id": "f14a0bc0",
   "metadata": {},
   "outputs": [
    {
     "name": "stdout",
     "output_type": "stream",
     "text": [
      "Problem 6:\n"
     ]
    }
   ],
   "source": [
    "print(\"Problem 6:\")"
   ]
  },
  {
   "cell_type": "code",
   "execution_count": null,
   "id": "a6843ecb",
   "metadata": {},
   "outputs": [],
   "source": [
    "#gt = input('Do you wanna take a grand tour, input Y for yes or N for no.')\n",
    "\n",
    "    #for x in gt:\n",
    "        #if x == 'N':\n",
    "            #break\n",
    "        #elif x == 'Y':\n",
    "\n",
    "            #print('You have chosen to take a GRAND TOUR!')"
   ]
  },
  {
   "cell_type": "markdown",
   "id": "c544b1f3",
   "metadata": {},
   "source": [
    "A) Update the function to allow for one stop along the way. To do this, the function will get the start and end point of the trip and ask the user if they want to do a tour (input should be Y/N or Yes/No). (**2 points**)\n",
    "\n",
    "\n",
    "A1) If the user replies 'N' or 'No' the function should work as above and print the best date to travel from A to B etc. (**5 points**)\n",
    "\n",
    "\n",
    "\n",
    "A2) If the user replies 'Yes' or 'Y', the function will then check for all dates what a possible stop would be. (**13 points**) \n",
    "\n",
    "A stop that makes sense needs to have the smallest possible extra distance in comparison to the direct trip from A to B. E.g., going from Mars to Ceres on date 1 the stop the traveler would do is on Mercury adding 'just' 1.3 AU to the trip (because Venus and the Earth are on the 'wrong side' of their orbits). \n",
    "\n",
    "The function will then print out the information for the user to see:\n",
    "\n",
    "    1) on what date can they do, what stop, and \n",
    "\n",
    "    2) at what cost in milage and \n",
    "\n",
    "    3) number of refueling stops. \n",
    "    \n",
    "Don't save a message for the refueling stations for each of these stops. We will adapt this part later on."
   ]
  },
  {
   "cell_type": "code",
   "execution_count": null,
   "id": "a2f0590b",
   "metadata": {},
   "outputs": [],
   "source": []
  },
  {
   "cell_type": "markdown",
   "id": "9b0627cf",
   "metadata": {},
   "source": [
    "B) Test the updates you did for a trip from Mars to Ceres. (5 points)"
   ]
  },
  {
   "cell_type": "code",
   "execution_count": 44,
   "id": "24881fce",
   "metadata": {},
   "outputs": [
    {
     "name": "stdout",
     "output_type": "stream",
     "text": [
      "Do you wanna take a grand tour, input Y for yes or N for no.Y\n",
      "You have chosen to take a GRAND TOUR!\n",
      "You have chosen to take a GRAND TOUR!\n",
      "You have chosen to take a GRAND TOUR!\n",
      "You have chosen to take a GRAND TOUR!\n",
      "You have chosen to take a GRAND TOUR!\n",
      "You have chosen to take a GRAND TOUR!\n",
      "You have chosen to take a GRAND TOUR!\n",
      "You have chosen to take a GRAND TOUR!\n",
      "You have chosen to take a GRAND TOUR!\n",
      "You have chosen to take a GRAND TOUR!\n",
      "You have chosen to take a GRAND TOUR!\n",
      "You have chosen to take a GRAND TOUR!\n",
      "You have chosen to take a GRAND TOUR!\n",
      "You have chosen to take a GRAND TOUR!\n",
      "The shortest distance from Mars to Ceres is 4.1647 AU and occurs on day . This trip will take 0 Earth years 173 Earth days, 12 Earth hours, and 42 Earth minutes\n",
      "\n",
      "You will require 7 refuelling stops!\n"
     ]
    }
   ],
   "source": [
    "from planet_tour_function import planet_tour \n",
    "grand_tour_Mars_to_Ceres = planet_tour(\"Mars\", \"Ceres\")"
   ]
  },
  {
   "cell_type": "code",
   "execution_count": null,
   "id": "47e59f5d",
   "metadata": {},
   "outputs": [],
   "source": []
  },
  {
   "cell_type": "markdown",
   "id": "5deb49e0",
   "metadata": {},
   "source": [
    "C) The code should now let the user choose which is their prefered stop. \n",
    "\n",
    "After getting the available stops per date, store them in a dictionary named stops_for_date. The keys should be the name of the stop (ordered for date 1, 2 and 3: e.g., 'Mercury' 'Mercury' 'Venus'), and the values should be the corresponding total distance of the trip (e.g., 4.2058, 4.5132, 4.5077 ). If more than one dates return the same stop make sure to adapt the key accordingly ('Mercury_1', 'Mercury_2' ). Use an If/else if/else structure to do this. **(6 points)**\n",
    "\n",
    "What would happen if you fogot to do this name change? Explain with a comment in your code. **(2 points)**\n",
    "\n",
    "The code will then ask the user which is their prefered stop. If more than one dates return the same stop then the code will let the user know when they should travel (the date with the least travel time/miles). **(5 point)** \n",
    "<br>(in the above example if the user wanted to stop at Mercury we would let them know the best time is date 1).\n",
    "    Tip: to do this you can use an if/else if/ else structure to test if more than one dates match the user's input and if so decide when they should move. You can also *try* different methods.\n",
    "\n",
    "The code will then save the necessary message for the refueling stations on that date. **( 2 points)**\n",
    "\n",
    "The message should now let the stations know on what date they will meet! The message should print the start date of the trip (date 1, 2, 3) on the start of the message. \n",
    "\n",
    "\n",
    "(e.g., :\n",
    "\n",
    "############ refueling information##############\n",
    "############\n",
    "\n",
    "########## Starting trip from Mars to Ceres on date 1 #########\n",
    "\n",
    "######### Will refuel on date 1 + 3.01 days at location 0.6500 AU\n",
    "\n",
    "######### Will refuel on date 1 + 5.52 days at location 1.3000 AU\n",
    "\n",
    "Note that this is a random example, not based on any of the data)"
   ]
  },
  {
   "cell_type": "code",
   "execution_count": null,
   "id": "e5a6465d",
   "metadata": {},
   "outputs": [],
   "source": []
  },
  {
   "cell_type": "code",
   "execution_count": null,
   "id": "3d5bc3a3",
   "metadata": {},
   "outputs": [],
   "source": []
  },
  {
   "cell_type": "code",
   "execution_count": null,
   "id": "9633aa01",
   "metadata": {},
   "outputs": [],
   "source": []
  },
  {
   "cell_type": "code",
   "execution_count": null,
   "id": "0f703f15",
   "metadata": {},
   "outputs": [],
   "source": []
  },
  {
   "cell_type": "code",
   "execution_count": null,
   "id": "53e52272",
   "metadata": {},
   "outputs": [],
   "source": []
  },
  {
   "cell_type": "code",
   "execution_count": null,
   "id": "82056ec6",
   "metadata": {},
   "outputs": [],
   "source": []
  },
  {
   "cell_type": "markdown",
   "id": "516ebeda",
   "metadata": {},
   "source": [
    "## 7. The wraping up. (10 points)\n",
    "\n",
    "\n",
    "Prepare and submit your homework. Copy the finalized Jupyter notebook to the handin/midterm_* folder and don’t forget to commit and push it to GitHub. Explain what you did to do that in your log. Make a screenshot that shows you committed the file and add it to your handin/midterm_* folder (remember to use an appropriate name for the screenshot!). Make sure that *all* necessary files, including data files are included in the folder. Write what you did to make and submit the zip file into your log. When satisfied, close the log, copy it to your homework directory one last time, and run the commands to make and submit the zip file. Turn the file in on WebCourses. "
   ]
  },
  {
   "cell_type": "code",
   "execution_count": 31,
   "id": "de7ff573",
   "metadata": {},
   "outputs": [
    {
     "name": "stdout",
     "output_type": "stream",
     "text": [
      "Problem 7:\n"
     ]
    }
   ],
   "source": [
    "print(\"Problem 7:\")"
   ]
  },
  {
   "cell_type": "code",
   "execution_count": 32,
   "id": "7209aa7f",
   "metadata": {},
   "outputs": [],
   "source": [
    "#I copied my finalized jupyter notebook to my handin_midterm_CSmith folder, then comitted it in the Github desktop app and pushed the changes to origin. \n",
    "#Screen capture was taken via snapshot command WINDOWS+SHIFT+S and saved as:\n",
    "#midterm_CSmith_Problem7_Screenshot3.png\n",
    "#I copied this log into my PHZ3150_handin_hw7_CSmith folder, then zipped the folder, and uploaded the zipped file to webcourses."
   ]
  },
  {
   "cell_type": "code",
   "execution_count": 33,
   "id": "562507c6",
   "metadata": {},
   "outputs": [
    {
     "name": "stdout",
     "output_type": "stream",
     "text": [
      "End of Midterm\n"
     ]
    }
   ],
   "source": [
    "print(\"End of Midterm\")"
   ]
  }
 ],
 "metadata": {
  "kernelspec": {
   "display_name": "Python 3 (ipykernel)",
   "language": "python",
   "name": "python3"
  },
  "language_info": {
   "codemirror_mode": {
    "name": "ipython",
    "version": 3
   },
   "file_extension": ".py",
   "mimetype": "text/x-python",
   "name": "python",
   "nbconvert_exporter": "python",
   "pygments_lexer": "ipython3",
   "version": "3.9.7"
  }
 },
 "nbformat": 4,
 "nbformat_minor": 5
}
