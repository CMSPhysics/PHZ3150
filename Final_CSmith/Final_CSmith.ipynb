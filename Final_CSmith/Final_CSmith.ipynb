{
 "cells": [
  {
   "cell_type": "markdown",
   "id": "65e0c239",
   "metadata": {},
   "source": [
    "# The last ray of sunshine"
   ]
  },
  {
   "cell_type": "markdown",
   "id": "46c11fd4",
   "metadata": {},
   "source": [
    "### You are one of the most renowned investigators in the world. An email arrives asking your help:"
   ]
  },
  {
   "cell_type": "markdown",
   "id": "66cc4fc9",
   "metadata": {},
   "source": [
    "<img src=\"the_email.png\" width=600 height=400 />"
   ]
  },
  {
   "cell_type": "markdown",
   "id": "a454e763",
   "metadata": {},
   "source": [
    "### You book the first ticket to the North of Canada and drive to the far north. The place is desolate and icy. In front of you there is a weird looking cave. You get out of the car and approach the entrance of the cave. Before you know it there is noise behind you and evil Dr. Cane and helpers are charging toward you with their bear cavalry. You get arrested and thrown in a dungeon deep in the cave. \n",
    "\n",
    "\n",
    "<img src=\"evil_dr_storm.png\" width=200 height=200 />\n"
   ]
  },
  {
   "cell_type": "markdown",
   "id": "c4de933e",
   "metadata": {},
   "source": [
    "### A screen lights up and a video starts playing. Dr. Cane appears on the screen laughing his evil laugh."
   ]
  },
  {
   "cell_type": "code",
   "execution_count": 1,
   "id": "97a88712",
   "metadata": {},
   "outputs": [
    {
     "name": "stdout",
     "output_type": "stream",
     "text": [
      "Please give me your name: \n"
     ]
    }
   ],
   "source": [
    "your_name = input('Please give me your name: ')"
   ]
  },
  {
   "cell_type": "code",
   "execution_count": 2,
   "id": "7915b9a5",
   "metadata": {},
   "outputs": [
    {
     "name": "stdout",
     "output_type": "stream",
     "text": [
      "\n",
      " Welcome . You really think that you can save summers from me??? Dr. Cane? Dr. HARRY Cane!? Muahahaha!\n",
      "Just to prove you wrong I left some hints for you around the room.\n",
      "They could help you escape and find my weather machine. But you will never make it on time! Muahahaha!\n",
      "I will release the eternal storms on April 28 at 12pm. Hope you like swimming!\n"
     ]
    }
   ],
   "source": [
    "print('\\n Welcome '+ your_name + \n",
    "      \"\"\". You really think that you can save summers from me??? Dr. Cane? Dr. HARRY Cane!? Muahahaha!\"\"\")\n",
    "print(\"\"\"Just to prove you wrong I left some hints for you around the room.\n",
    "They could help you escape and find my weather machine. But you will never make it on time! Muahahaha!\"\"\")\n",
    "print(\"\"\"I will release the eternal storms on April 28 at 12pm. Hope you like swimming!\"\"\")"
   ]
  },
  {
   "cell_type": "markdown",
   "id": "9739946a",
   "metadata": {},
   "source": [
    "## Problem 1. <br> Looking for a way out ( **10 points** ) "
   ]
  },
  {
   "cell_type": "code",
   "execution_count": 3,
   "id": "41b0a6d6",
   "metadata": {},
   "outputs": [
    {
     "name": "stdout",
     "output_type": "stream",
     "text": [
      ", let's save the summers together. To escape from this \n",
      "      room you will need to use the coding knowledge you got this semester.\n",
      "\n",
      "\n",
      "Don't forget that a good log is part of a successful mission! Start your log please! (3 points)\n",
      "\n",
      "\n",
      "You will need to import the necesary packages to do numerical problems and plot images. Start \n",
      "      by doing all your imports here. (5 points)\n"
     ]
    }
   ],
   "source": [
    "print( your_name + \"\"\", let's save the summers together. To escape from this \n",
    "      room you will need to use the coding knowledge you got this semester.\"\"\")\n",
    "print('\\n')\n",
    "print(\"\"\"Don't forget that a good log is part of a successful mission! Start your log please! (3 points)\"\"\")\n",
    "print('\\n')\n",
    "print(\"\"\"You will need to import the necesary packages to do numerical problems and plot images. Start \n",
    "      by doing all your imports here. (5 points)\"\"\")"
   ]
  },
  {
   "cell_type": "code",
   "execution_count": 4,
   "id": "f2a7d17a",
   "metadata": {},
   "outputs": [],
   "source": [
    "#import your modules here:\n",
    "\n",
    "import numpy as np\n",
    "import math\n",
    "import scipy as sp\n",
    "from scipy.stats import chisquare\n",
    "import matplotlib.pyplot as plt\n",
    "import matplotlib.colors as colors\n",
    "from mpl_toolkits.mplot3d import Axes3D\n",
    "import os "
   ]
  },
  {
   "cell_type": "code",
   "execution_count": 5,
   "id": "f9ca70c9",
   "metadata": {},
   "outputs": [
    {
     "name": "stdout",
     "output_type": "stream",
     "text": [
      "You also need to create an empty list named *key_code* that you will slowly populate \n",
      "with the keys you get as you solve the puzzles (2 points)\n"
     ]
    }
   ],
   "source": [
    "print(\"\"\"You also need to create an empty list named *key_code* that you will slowly populate \n",
    "with the keys you get as you solve the puzzles (2 points)\"\"\")"
   ]
  },
  {
   "cell_type": "code",
   "execution_count": 6,
   "id": "e2a59742",
   "metadata": {},
   "outputs": [],
   "source": [
    "key_code = []"
   ]
  },
  {
   "cell_type": "code",
   "execution_count": 7,
   "id": "e838e4cf",
   "metadata": {},
   "outputs": [
    {
     "name": "stdout",
     "output_type": "stream",
     "text": [
      "Let's find our way out of here! \n"
     ]
    }
   ],
   "source": [
    "print(\"\"\"Let's find our way out of here! \"\"\")"
   ]
  },
  {
   "cell_type": "markdown",
   "id": "78112420",
   "metadata": {},
   "source": [
    "### You take a look around the dungeon. \n",
    "<img src=\"the_escape_room.png\" width=500 height=300 />\n",
    "\n",
    "### At the other side you see the door. Next to it there is something that looks like a key pad. The hints that evil Dr. Cane left all around the room are needed to get the code and escape out of this room...\n",
    "\n",
    "<img src=\"the_door.png\" width=300 height=300 />"
   ]
  },
  {
   "cell_type": "markdown",
   "id": "6d5a2f97",
   "metadata": {},
   "source": [
    "### Desks, books, paintings, chests, chairs are all over the place. This room is so full of possible hiding places. Where to start? "
   ]
  },
  {
   "cell_type": "markdown",
   "id": "26a1eab8",
   "metadata": {},
   "source": [
    "## Problem 2.   <br> The encrypted note ( **15 points** ) "
   ]
  },
  {
   "cell_type": "markdown",
   "id": "c339c560",
   "metadata": {},
   "source": [
    "\n",
    "### Walking across the dungeon you notice a weird looking painting. It smells of fresh paint. Dr. Cane must have just made this for some reason! You take a closer look. It depicts the dungeon you are in, but it looks slightly different. There is an open book on the floor. At first glance the book contains a weird collection of numbers. What could this mean? You suddenly realize it's a code. \n",
    "\n",
    "- Make a list *message* that contains all the numbers on the note (3 points). \n",
    "- Write a dictionary *letters_to_numbers* that has as keys letters of the alphabet and as values numbers 1 to 26 (5 points). \n",
    "- Make a code that loops over the numbers in the note and uses the dictionary to decode the message (5 points). Print the message out (2 points)."
   ]
  },
  {
   "cell_type": "code",
   "execution_count": 8,
   "id": "75c2774e",
   "metadata": {},
   "outputs": [
    {
     "name": "stdout",
     "output_type": "stream",
     "text": [
      "This is what is written on the book:\n",
      " 20 9 3 11  20 15 3 11 20 9 3 11  20 15 3 11 20 9 13 5 9  19 18 21 14 14 9 14 9 7  15 21 20 \n"
     ]
    }
   ],
   "source": [
    "print( 'This is what is written on the book:')\n",
    "print(\"\"\" 20 9 3 11  20 15 3 11 20 9 3 11  20 15 3 11 20 9 13 5 9  19 18 21 14 14 9 14 9 7  15 21 20 \"\"\")"
   ]
  },
  {
   "cell_type": "code",
   "execution_count": 9,
   "id": "3af471f7",
   "metadata": {},
   "outputs": [],
   "source": [
    "message = [20,9,3,11,20,15,3,11,20,9,3,11,20,15,3,11,20,9,13,5,9,19,18,21,14,14,9,14,9,7,15,21,20]"
   ]
  },
  {
   "cell_type": "code",
   "execution_count": 10,
   "id": "65b6c566",
   "metadata": {},
   "outputs": [],
   "source": [
    "letters_to_numbers = {'A':1, 'B':2, 'C':3, 'D':4, 'E':5, 'F':6, 'G':7, 'H':8, 'I':9, 'J':10, 'K':11, 'L':12, 'M':13, 'N':14, 'O':15, 'P':16, 'Q':17, 'R':18, 'S':19, 'T':20, 'U':21, 'V':22, 'W':23, 'X':24, 'Y':25, 'Z':26}"
   ]
  },
  {
   "cell_type": "code",
   "execution_count": 11,
   "id": "c660c139",
   "metadata": {},
   "outputs": [
    {
     "name": "stdout",
     "output_type": "stream",
     "text": [
      "TICKTOCKTICKTOCKTIMEISRUNNINIGOUT"
     ]
    }
   ],
   "source": [
    "for j in message:\n",
    "    for i in letters_to_numbers:\n",
    "        if j == letters_to_numbers[i]:\n",
    "            print(i, end='')"
   ]
  },
  {
   "cell_type": "markdown",
   "id": "fbbccbb7",
   "metadata": {},
   "source": [
    "## Problem 3. <br> The clock on the wall ( 15 points)"
   ]
  },
  {
   "cell_type": "markdown",
   "id": "8368a6e2",
   "metadata": {},
   "source": [
    "### Just as you decode the message a cuckoo clock goes off  somewhere in the room. The time is ticking indeed....You walk toward the clock. It looks old, and has a big mirror at the bottom part. The cuckoo wears glasses?!?! You look around and notice a pair of glasses on the floor that looks exactly like the one the cuckoo wears. Can it be part of the solution? You put the glasses on and look at the clock. There is a secret message painted on the mirror of the clock!"
   ]
  },
  {
   "cell_type": "markdown",
   "id": "2715bee1",
   "metadata": {},
   "source": [
    "- Use your favorite numpy routine to read in the data from 'the_clock_mirror.dat' (3 points) \n",
    "- Make a contour plot using contouring levels 0, 1, 2. (4 points) \n",
    "- Make the plot publication ready. (3 points)\n",
    "\n",
    "- Populate your *key_code* with the number you see on the mirror (2 points).  Print the *key_code* (1 points)."
   ]
  },
  {
   "cell_type": "code",
   "execution_count": 12,
   "id": "7ffd5130",
   "metadata": {},
   "outputs": [],
   "source": [
    "clock_data = np.loadtxt('the_clock_mirror.dat')"
   ]
  },
  {
   "cell_type": "code",
   "execution_count": 13,
   "id": "6dfb071b",
   "metadata": {},
   "outputs": [
    {
     "data": {
      "text/plain": [
       "Text(0.5, 1.0, 'The Clock Mirror Clue')"
      ]
     },
     "execution_count": 13,
     "metadata": {},
     "output_type": "execute_result"
    },
    {
     "data": {
      "image/png": "[encoded data removed]",
      "text/plain": [
       "<Figure size 720x720 with 1 Axes>"
      ]
     },
     "metadata": {
      "needs_background": "light"
     },
     "output_type": "display_data"
    }
   ],
   "source": [
    "plt.figure( figsize = (10,10))\n",
    "plt.contourf(clock_data, cmap = 'Blues')\n",
    "plt.yticks( np.arange( 0, 25, step = 10 ) ,fontsize=36 ) \n",
    "plt.xticks( np.arange( 0, 25, step = 10) ,fontsize=36 )\n",
    "plt.xlabel( 'X', fontsize = 36 )\n",
    "plt.ylabel( 'Y' , fontsize = 36, rotation=0 )\n",
    "plt.title( 'The Clock Mirror Clue' , fontsize = 36 )"
   ]
  },
  {
   "cell_type": "code",
   "execution_count": 14,
   "id": "124c7e34",
   "metadata": {},
   "outputs": [
    {
     "name": "stdout",
     "output_type": "stream",
     "text": [
      "[3]\n"
     ]
    }
   ],
   "source": [
    "key_code.append(3)\n",
    "print(key_code)"
   ]
  },
  {
   "cell_type": "markdown",
   "id": "db07d76a",
   "metadata": {},
   "source": [
    "## Problem 4. <br> The wooden chest ( 20 points)"
   ]
  },
  {
   "cell_type": "markdown",
   "id": "e6fbcebf",
   "metadata": {},
   "source": [
    "### You feel excited! You got the first number. However, you have no idea where to look at next...did you miss something? You put on the glasses again and look around. On the opposite wall you see another hidden message written."
   ]
  },
  {
   "cell_type": "markdown",
   "id": "3857f3bd",
   "metadata": {},
   "source": [
    "- Read the data from 'the_secret_message.dat' (1 point) \n",
    "- Make a contour plot using contouring levels 0, 1, 2 and 3. (2 points) \n",
    "- The message is flipped. Use the appropriate plt command to flip the y-axis (2 points)."
   ]
  },
  {
   "cell_type": "code",
   "execution_count": 15,
   "id": "87ba83d9",
   "metadata": {},
   "outputs": [],
   "source": [
    "secret_message = np.loadtxt('the_secret_message.dat')"
   ]
  },
  {
   "cell_type": "code",
   "execution_count": 16,
   "id": "c0ebb473",
   "metadata": {},
   "outputs": [
    {
     "data": {
      "text/plain": [
       "Text(0.5, 1.0, 'The Secret Message Clue')"
      ]
     },
     "execution_count": 16,
     "metadata": {},
     "output_type": "execute_result"
    },
    {
     "data": {
      "image/png": "[encoded data removed]",
      "text/plain": [
       "<Figure size 720x720 with 1 Axes>"
      ]
     },
     "metadata": {
      "needs_background": "light"
     },
     "output_type": "display_data"
    }
   ],
   "source": [
    "\n",
    "secret_message = np.flip(secret_message,0)\n",
    "\n",
    "plt.figure( figsize = (10,10))\n",
    "plt.contourf(secret_message, cmap = 'Blues')\n",
    "plt.yticks( np.arange( 0, 15, step = 5 ) ,fontsize=36) \n",
    "plt.xticks( np.arange( 0, 55, step = 10) ,fontsize=36)\n",
    "plt.xlabel( 'X', fontsize = 36)\n",
    "plt.ylabel( 'Y' , fontsize = 36, rotation = 0)\n",
    "plt.title( 'The Secret Message Clue' , fontsize = 36)\n"
   ]
  },
  {
   "cell_type": "markdown",
   "id": "0318e047",
   "metadata": {},
   "source": [
    "### You look up. There is a big wooden chest on an elevated floor. You go running to the ladder and climb it. You approach the chest and open it. It is full of torn pages from a book. You remove them from the box and see a picture of Dr. Cane laughing his evil laughter. Interestingly, the first page has a hand-written 'muahaha' at the top. Can this be the next clue?"
   ]
  },
  {
   "cell_type": "markdown",
   "id": "00425798",
   "metadata": {},
   "source": [
    "- Write a code that reads the the_torn_book.dat line by line (5 points), and counts how many many times the word 'muahaha' appears in it (5 points). \n",
    "- The code should then print an informative statement to let you know  how many evil laughters it found (2 points). \n",
    "\n",
    "### This is the next number you need for the key pad. \n",
    "- Populate your *key_code* (2 points) and print the current *key_code* out (1 point) !\n",
    "\n",
    "#### Warning: DO NOT change the lower/upper case of the words in the book; you might get a wrong answer!"
   ]
  },
  {
   "cell_type": "code",
   "execution_count": 17,
   "id": "b10e9737",
   "metadata": {},
   "outputs": [
    {
     "name": "stdout",
     "output_type": "stream",
     "text": [
      "My investigation uncovered 7 evil laughs!\n"
     ]
    }
   ],
   "source": [
    "f = open('the_torn_book.dat','r',encoding='utf-8') \n",
    "counter = 0\n",
    "for line in f:\n",
    "    word = line.split()\n",
    "    if 'muahaha' in word:\n",
    "        counter = counter + 1\n",
    "    #print(line)\n",
    "f.close()\n",
    "print(\"My investigation uncovered\", counter, \"evil laughs!\")"
   ]
  },
  {
   "cell_type": "code",
   "execution_count": 18,
   "id": "a175424b",
   "metadata": {},
   "outputs": [
    {
     "name": "stdout",
     "output_type": "stream",
     "text": [
      "[3, 7]\n"
     ]
    }
   ],
   "source": [
    "key_code.append(7)\n",
    "print(key_code)"
   ]
  },
  {
   "cell_type": "markdown",
   "id": "72e5cbe0",
   "metadata": {},
   "source": [
    "## Problem 5. <br> But wait, there is more. (15 points)"
   ]
  },
  {
   "cell_type": "markdown",
   "id": "b5c9aa4a",
   "metadata": {},
   "source": [
    "### Dr. Cane left you a message on the last line of the book\n",
    "- Adapt your previous code to print it out (4 points). "
   ]
  },
  {
   "cell_type": "code",
   "execution_count": 19,
   "id": "e3569bac",
   "metadata": {},
   "outputs": [
    {
     "name": "stdout",
     "output_type": "stream",
     "text": [
      "I love me some math! what is the integer of: Sigma( n= 1 ) / Sigma (n=7 )+ Sigma (n=2) / Sigma(n = 3) ?\n",
      "\n"
     ]
    }
   ],
   "source": [
    "f = open('the_torn_book.dat','r',encoding='utf-8') \n",
    "\n",
    "for line in f:\n",
    "    last_line = f.readlines()[-1]\n",
    "    print(last_line)\n",
    "f.close()"
   ]
  },
  {
   "cell_type": "markdown",
   "id": "1fcac140",
   "metadata": {},
   "source": [
    "### What could this mean? You look at the book contents and suddenly it all makes sense! The text is full of numbers. You just need to add the counts of each number equal to one, two, three and seven, and then use the equation Dr. Storm gave you to calculate the next key.\n",
    "\n",
    "- Make a code that reads all the book (2 points) and counts how many 'one's, 'two's,'three's and 'seven's the book has (4 points). \n",
    "- Use these sums in the equation Dr. Cane gave you (2 point). \n",
    "- The integer part is the next number you need for the key pad (1 point).\n",
    "\n",
    "- Populate your *key_code* with this number (1 points).  \n",
    "- Print the *key_code* (1 points)."
   ]
  },
  {
   "cell_type": "code",
   "execution_count": 20,
   "id": "56003593",
   "metadata": {},
   "outputs": [
    {
     "name": "stdout",
     "output_type": "stream",
     "text": [
      "124 91 51 19\n"
     ]
    }
   ],
   "source": [
    "f = open('the_torn_book.dat','r',encoding='utf-8') \n",
    "ones = 0\n",
    "twos = 0\n",
    "threes = 0\n",
    "sevens = 0\n",
    "for line in f:\n",
    "    word = line.split()\n",
    "    for i in word:\n",
    "        if 'one' == i:\n",
    "            ones = ones + 1\n",
    "        elif 'two' == i:\n",
    "            twos = twos + 1\n",
    "        elif 'three' == i:\n",
    "            threes = threes + 1\n",
    "        elif 'seven' == i:\n",
    "            sevens = sevens + 1 \n",
    "f.close()\n",
    "print(ones, twos, threes, sevens)"
   ]
  },
  {
   "cell_type": "code",
   "execution_count": 21,
   "id": "c61aa259",
   "metadata": {},
   "outputs": [
    {
     "name": "stdout",
     "output_type": "stream",
     "text": [
      "8\n"
     ]
    }
   ],
   "source": [
    "integer = int(ones/sevens+twos/threes)\n",
    "print(integer)"
   ]
  },
  {
   "cell_type": "code",
   "execution_count": 22,
   "id": "1c189899",
   "metadata": {},
   "outputs": [],
   "source": [
    "key_code.append(integer)"
   ]
  },
  {
   "cell_type": "code",
   "execution_count": 23,
   "id": "70eb88ad",
   "metadata": {},
   "outputs": [
    {
     "name": "stdout",
     "output_type": "stream",
     "text": [
      "[3, 7, 8]\n"
     ]
    }
   ],
   "source": [
    "print(key_code)"
   ]
  },
  {
   "cell_type": "markdown",
   "id": "6f3ebe6c",
   "metadata": {},
   "source": [
    "## Problem 6 <br> Around, around spins the world (10 points) "
   ]
  },
  {
   "cell_type": "markdown",
   "id": "1d0d9645",
   "metadata": {},
   "source": [
    "### At the bottom of the chest there is a little holographic machine with a big red button. You feel the urge to press it. This ***must*** be the clue about where to look next.\n",
    "\n",
    "- Read data from file the_holograph.dat and assign the three columns to variables x1, y1, z1 (2 points). \n",
    "- Make a 3D scatter plot with your x1,y1,z1 data (5 points). \n",
    "- Save the 3D plot with an appropriate name (2 points).\n",
    "- What does it look like? Where is your next clue in the room? Print an informative statement with your answer. (1 point)"
   ]
  },
  {
   "cell_type": "code",
   "execution_count": 24,
   "id": "6d24b7fd",
   "metadata": {},
   "outputs": [],
   "source": [
    "holograph = np.loadtxt('the_holograph.dat')"
   ]
  },
  {
   "cell_type": "code",
   "execution_count": 25,
   "id": "a7220f82",
   "metadata": {},
   "outputs": [],
   "source": [
    "x1 = holograph[:,0]\n",
    "y1 = holograph[:,1]\n",
    "z1 = holograph[:,2]"
   ]
  },
  {
   "cell_type": "code",
   "execution_count": 26,
   "id": "8e817235",
   "metadata": {},
   "outputs": [
    {
     "data": {
      "text/plain": [
       "Text(0.08843301431358154, 0.011847777384786984, 'Z1')"
      ]
     },
     "execution_count": 26,
     "metadata": {},
     "output_type": "execute_result"
    },
    {
     "data": {
      "image/png": "[encoded data removed]",
      "text/plain": [
       "<Figure size 1152x1152 with 1 Axes>"
      ]
     },
     "metadata": {
      "needs_background": "light"
     },
     "output_type": "display_data"
    }
   ],
   "source": [
    "fig = plt.figure( figsize = ( 16, 16) )\n",
    "ax = fig.add_subplot(111, projection='3d')\n",
    "\n",
    "x1 = holograph[:,0]\n",
    "y1 = holograph[:,1]\n",
    "z1 = holograph[:,2]\n",
    "\n",
    "ax.scatter(x1,y1,z1, c='blue', marker='d') \n",
    "\n",
    "plt.savefig( 'Holograph.png', format = 'png', dpi = 100, bbox_inches = 'tight', pad_inches = 0.3 )\n",
    "\n",
    "ax.set_xlabel('X1')\n",
    "ax.set_ylabel('Y1')\n",
    "ax.set_zlabel('Z1')"
   ]
  },
  {
   "cell_type": "code",
   "execution_count": 27,
   "id": "89af3dad",
   "metadata": {},
   "outputs": [
    {
     "name": "stdout",
     "output_type": "stream",
     "text": [
      "It looks like a tornado or hurricane!\n"
     ]
    }
   ],
   "source": [
    "print('It looks like a tornado or hurricane!')"
   ]
  },
  {
   "cell_type": "markdown",
   "id": "6c9b8c13",
   "metadata": {},
   "source": [
    "## Problem 7 <br> The puzzles (24 points)"
   ]
  },
  {
   "cell_type": "markdown",
   "id": "1bf5ca39",
   "metadata": {},
   "source": [
    "### You look around the room. There are some nature pictures, but none with a tornado or a hurricane. Nothing makes sense...As you wander around the room you notice something is odd. Vermeer's girl with the pearl earring is odd? You approach and see the girls face is replaced with Dr. Harry Cane's... Can this be it? You turn the painting around and find a paper with two puzzles:"
   ]
  },
  {
   "cell_type": "markdown",
   "id": "6161d41e",
   "metadata": {},
   "source": [
    "### The first puzzle: \n",
    "- The original of this painting was made in what year? Google it! Sum the numbers of the year up. (so if was made in 1111 the answer is 1 + 1+1 +1 = 4) (1 point) \n",
    "- Use the appropriate numpy function to calculate the mean (2 points), median (2 points) and trace (2 points) of the what_is_the_key array (see below). Which one matches your previous sum? \n",
    "- If the mean : u = 2, if the median: u = 9, if the trace: u = 3 (1 point)"
   ]
  },
  {
   "cell_type": "markdown",
   "id": "8ee972f5",
   "metadata": {},
   "source": [
    "### The second puzzle:\n",
    "- An alien at Proxima Centauri b looks toward our Sun with their telescope and records a transit (a planet crosses in front of the Sun disk). The planet caused a dip in the light the alien saw of $\\Delta$f=0.007456. The event repeated after 10,740 days. Using Doppler spectroscopy the alien found that the planet causes the Sun to wobble with a velocity semi-amplitude of 2.76m/s. Which planet did the alien see? If Mercury is 1, Venus is 2, this planet is N. \n",
    "\n",
    "    - Find the Radius and Mass of the planet using the information from above and these tips:\n",
    "      - Tip for the transit: you know that $\\Delta$f $\\sim \\frac{R^2_{planet}}{R^2_{star}}$. Use this to find the radius of the planet in km, if you know that the Sun has a radius of 696,000km (5 points)\n",
    "      - Tip for the wobbling: you know that the velocity semi-amplitude is given by $K = \\frac{28.43 [m/s]}{\\sqrt{1-e^2}} \\frac{m_{planet}\\sin i}{m_{Jupiter}}(\\frac{m_{planet}+m_{Sun}}{m_{Sun}})^{-2/3} (\\frac{P}{1 year})^{-1/3}$. Use this to find the mass of the planet. You can assume that e = 0 and sini = 1. Also, note that $m_{planet} << m_{Sun}$ (5 points)\n",
    "      \n",
    "    - Now that you now the Radius, Mass and Period of the planet, compare against this NASA database: https://nssdc.gsfc.nasa.gov/planetary/factsheet/ \n",
    "    - Which is the planet the alien saw? (3 points)\n",
    "    - What is the number N of the planet (if Mercury=1, Venus =2, etc)? Print an informative statement. (1 point)\n",
    "    - Remember that the Moon is *not* a planet!\n",
    "    \n",
    "    \n",
    "### The next key:\n",
    "- What is the number that is equal to N/u ? Populate your *key_code* with the number (1 points).  \n",
    "- Print the *key_code* (1 points)."
   ]
  },
  {
   "cell_type": "code",
   "execution_count": 28,
   "id": "e6ca85eb",
   "metadata": {},
   "outputs": [
    {
     "data": {
      "text/plain": [
       "'The first puzzle'"
      ]
     },
     "execution_count": 28,
     "metadata": {},
     "output_type": "execute_result"
    }
   ],
   "source": [
    "\"\"\"The first puzzle\"\"\""
   ]
  },
  {
   "cell_type": "code",
   "execution_count": 29,
   "id": "1dc49091",
   "metadata": {},
   "outputs": [],
   "source": [
    "what_is_the_key = np.array( ([ 7, 23, 45, 37, -2, 12, 34 ], \n",
    "                         [ 22, 1, 34, 18, 54, 33, 9  ],\n",
    "                         [  8, 19, 2, 42, 32, 2, 17 ],\n",
    "                         [ 98, 9, 14,  2, 12, 33, 7 ], \n",
    "                         [ 12, 10, 4,  54, 2, -8, 7 ],\n",
    "                         [ 77, 22, -2,  24, -8, 3, 7 ],\n",
    "                         [ 122, 33, 3,  3,  4, 33, 1 ] ) )"
   ]
  },
  {
   "cell_type": "code",
   "execution_count": 30,
   "id": "14343e76",
   "metadata": {},
   "outputs": [
    {
     "name": "stdout",
     "output_type": "stream",
     "text": [
      "18\n"
     ]
    }
   ],
   "source": [
    "vermeer = 1+6+6+5\n",
    "print(vermeer)"
   ]
  },
  {
   "cell_type": "code",
   "execution_count": 31,
   "id": "0227ded7",
   "metadata": {},
   "outputs": [
    {
     "name": "stdout",
     "output_type": "stream",
     "text": [
      "20.959183673469386\n",
      "12.0\n",
      "18\n"
     ]
    }
   ],
   "source": [
    "mean = np.mean(what_is_the_key)\n",
    "print(mean)\n",
    "median = np.median(what_is_the_key)\n",
    "print(median)\n",
    "trace = np.trace(what_is_the_key)\n",
    "print(trace)"
   ]
  },
  {
   "cell_type": "code",
   "execution_count": 32,
   "id": "be74b1b9",
   "metadata": {},
   "outputs": [
    {
     "name": "stdout",
     "output_type": "stream",
     "text": [
      "u = 3\n"
     ]
    }
   ],
   "source": [
    "u = 3\n",
    "print('u = 3')"
   ]
  },
  {
   "cell_type": "code",
   "execution_count": 33,
   "id": "10a115ba",
   "metadata": {},
   "outputs": [
    {
     "data": {
      "text/plain": [
       "'The second puzzle'"
      ]
     },
     "execution_count": 33,
     "metadata": {},
     "output_type": "execute_result"
    }
   ],
   "source": [
    "\"\"\"The second puzzle\"\"\""
   ]
  },
  {
   "cell_type": "code",
   "execution_count": 34,
   "id": "3787de82",
   "metadata": {},
   "outputs": [
    {
     "name": "stdout",
     "output_type": "stream",
     "text": [
      "The radius of Planet N is: 60098.300275465364 Km\n"
     ]
    }
   ],
   "source": [
    "radius_N = np.sqrt(0.007456*(696000**2))\n",
    "print('The radius of Planet N is:',radius_N,'Km')"
   ]
  },
  {
   "cell_type": "code",
   "execution_count": 35,
   "id": "3008aec5",
   "metadata": {},
   "outputs": [],
   "source": [
    "P = 10740\n",
    "e = 0\n",
    "sini = 1\n",
    "M_Jupiter = 1898\n",
    "M_Sun = 1988500\n",
    "K = 0.007456"
   ]
  },
  {
   "cell_type": "code",
   "execution_count": 36,
   "id": "687c3a05",
   "metadata": {},
   "outputs": [],
   "source": [
    "#Equation becomes a Quadratic--> finding coefficients a,b,c\n",
    "\n",
    "a = 1 \n",
    "b = M_Sun\n",
    "c = ((((K/(P/365))**(-1/3))*((np.sqrt(1-(e**2)))/28.43))**(-3/2))*M_Sun*(M_Jupiter/sini)\n",
    "coeff = [a,b,c]"
   ]
  },
  {
   "cell_type": "code",
   "execution_count": 37,
   "id": "2d404dde",
   "metadata": {},
   "outputs": [
    {
     "name": "stdout",
     "output_type": "stream",
     "text": [
      "[-1983909.47366847    -4590.52633153]\n"
     ]
    }
   ],
   "source": [
    "x = np.roots(coeff)\n",
    "print(x)"
   ]
  },
  {
   "cell_type": "code",
   "execution_count": 38,
   "id": "37284ffe",
   "metadata": {},
   "outputs": [],
   "source": [
    "#Calculator check of answers \n",
    "#a2 = 1\n",
    "#b2 = 1988500\n",
    "#c2 = -0.5213276\n",
    "#coeff2 = [a2,b2,c2]\n",
    "#y = np.roots(coeff2)\n",
    "#print(y)"
   ]
  },
  {
   "cell_type": "code",
   "execution_count": 39,
   "id": "35c488a1",
   "metadata": {},
   "outputs": [],
   "source": [
    "#https://nssdc.gsfc.nasa.gov/planetary/factsheet/"
   ]
  },
  {
   "cell_type": "code",
   "execution_count": 40,
   "id": "fe7aa09b",
   "metadata": {},
   "outputs": [],
   "source": [
    "#I wasnt able to get the correct mass but by looking up the the radius I was able to determine the planet in question was Saturn (planet #6)"
   ]
  },
  {
   "cell_type": "code",
   "execution_count": 41,
   "id": "c31c78d0",
   "metadata": {},
   "outputs": [
    {
     "name": "stdout",
     "output_type": "stream",
     "text": [
      "The planet N is Saturn with the corresponding value 6\n"
     ]
    }
   ],
   "source": [
    "N = 6\n",
    "print('The planet N is Saturn with the corresponding value', N)"
   ]
  },
  {
   "cell_type": "code",
   "execution_count": 42,
   "id": "21d73461",
   "metadata": {},
   "outputs": [
    {
     "name": "stdout",
     "output_type": "stream",
     "text": [
      "2.0\n"
     ]
    }
   ],
   "source": [
    "code_number = N/u\n",
    "print(code_number)"
   ]
  },
  {
   "cell_type": "code",
   "execution_count": 43,
   "id": "19056e5e",
   "metadata": {},
   "outputs": [
    {
     "name": "stdout",
     "output_type": "stream",
     "text": [
      "[3, 7, 8, 2.0]\n"
     ]
    }
   ],
   "source": [
    "key_code.append(code_number)\n",
    "print(key_code)"
   ]
  },
  {
   "cell_type": "markdown",
   "id": "e3f141cf",
   "metadata": {},
   "source": [
    "## Problem 8. <br> The bug exterminator (15 points)"
   ]
  },
  {
   "cell_type": "markdown",
   "id": "3c8c4e50",
   "metadata": {},
   "source": [
    "On the other side of the room you see a chair in front of a computer. The chair has an 8 scratched on it. This must be where the next clue lies. You walk to the chair and look at the computer screen. There is some code, but it is full of bugs. Does Dr. Cane think that this can stop you?\n",
    "\n",
    "Debug the code to find the next number(s). (8 points)\n",
    "\n",
    "Run the code for wheel radii: r1 = 0.5 m , r2 = 0.8 m, times the cars moved: t1 = 12 s, t2 = 8 s, and wheel rotations of N1 = 8 rotations and N2 = 5 rotations. The integer part of the speed that the code returns is the next part of the key. (2 points)\n",
    "\n",
    "If you get 2 digit speed make a code that will split it in two numbers: e.g., if you get a speed of 42 m/s the code will append to the key a 4, and then a 2. Don't split it manually. (3 points) \n",
    "\n",
    "Populate your key_code with the number(s) (1 points). \n",
    "\n",
    "Print the key_code (1 points)."
   ]
  },
  {
   "cell_type": "code",
   "execution_count": 44,
   "id": "55f18512",
   "metadata": {},
   "outputs": [
    {
     "name": "stdout",
     "output_type": "stream",
     "text": [
      "Give me the first radius please0.5\n",
      "Give me the second radius please0.8\n",
      "3.141592653589793\n",
      "5.026548245743669\n",
      "How much time did the first car move?12\n",
      "How much time did the second car move?8\n",
      "How many circles did the wheels of car 1 turn?8\n",
      "How many circles did the wheels of car 2 turn?5\n",
      "Car 1 moved further than Car 2\n",
      "Car 1 moved with a speed of:  25.132741228718345 m/s.\n"
     ]
    }
   ],
   "source": [
    "# Code that calculates the distance traveled by a car knowing how much time it moves and\n",
    "# how many rotations its wheels, with a known perimeter, made. \n",
    "# Code then will compare the distance that two cars moved based on the time they move \n",
    "# and their wheels perimeters and tells you which one moved further and for that car \n",
    "# at what speed it moved. \n",
    "\n",
    "\n",
    "\n",
    "# Ask the user for the two radii of the car wheels:\n",
    "\n",
    "radius1 = input( 'Give me the first radius please'  )\n",
    "radius2 = input( 'Give me the second radius please' )\n",
    "\n",
    "\n",
    "# calculate the perimeter of the two wheels:\n",
    "radius_1 = float(radius1)\n",
    "radius_2 = float(radius2)\n",
    "\n",
    "perimeter1 = radius_1*2*np.pi #This will return the radius twice, not multiply the radius by 2\n",
    "perimeter2 = radius_2*2*np.pi\n",
    "print(perimeter1)\n",
    "print(perimeter2)\n",
    "\n",
    "# Ask the user for how much time the two cars move:\n",
    "\n",
    "time1 = input( 'How much time did the first car move?' )\n",
    "time2 = input( 'How much time did the second car move?' )\n",
    "\n",
    "time1 = float(time1)\n",
    "time2 = float(time2)\n",
    " \n",
    "    \n",
    "# Ask the user how many full circles did their wheels turnL\n",
    "\n",
    "N1 = input( 'How many circles did the wheels of car 1 turn?' )\n",
    "N2 = input( 'How many circles did the wheels of car 2 turn?' )\n",
    "\n",
    "N1 = float(N1)\n",
    "N2 = float(N2)\n",
    "\n",
    "\n",
    "# Calculate the total distance each car moved:\n",
    "\n",
    "distance1 = N1 * perimeter1 * time1\n",
    "distance2 = N2 * perimeter2 * time2\n",
    "\n",
    "# Compare the two distances and for the one that moved further print which one\n",
    "# it is and what its speed is:\n",
    "\n",
    "if distance1 > distance2:\n",
    "    print( 'Car 1 moved further than Car 2' )\n",
    "    \n",
    "    speed1 = distance1 / time1\n",
    "    \n",
    "    print( 'Car 1 moved with a speed of: ', speed1 , 'm/s.' )\n",
    "\n",
    "elif distance2 > distance1:\n",
    "    print( 'Car 2 moved further than Car 1' )\n",
    "    \n",
    "    speed2 = distance2 / time2\n",
    "    \n",
    "    print( 'Car 2 moved with a speed of: ', speed2 , 'm/s.' )\n",
    "\n",
    "else:\n",
    "    print( 'Car 1 and two moved an equal distance with Car 1' )\n",
    "    speed1 = distance1 / time1\n",
    "    speed2 = distance2 / time2\n",
    "    \n",
    "    print( 'Car 1 moved with a speed of: ', speed1 , 'm/s' \n",
    "         'and Car 2 moved with a speed of: ', speed2, 'm/s.')\n",
    "    \n",
    "    "
   ]
  },
  {
   "cell_type": "code",
   "execution_count": 45,
   "id": "74f76e5d",
   "metadata": {},
   "outputs": [],
   "source": [
    "#Debugging:\n",
    "#1. There was a syntax error in the radius2 input, originally there were two radius1 inputs \n",
    "#2. I converted radius1 and radius2 into floats so I could perform the maths\n",
    "#3. To calculate perimeter the correct equation is 2*pi*radius \n",
    "#4. I converted time1 and time2 into floats so I could perform the maths \n",
    "#5. I converted N1 and N2 into floats so that I could perform the maths\n",
    "#6. I changed the equation to find the total distance from diameter to perimeter \n",
    "#7. For distance2, I ensured the values all matched '2'\n",
    "#8. The speeds for the else statement were reversed ie. car 1 was matched with speed 2 \n",
    "#9. The first if statement of the loop had a syntax error (missing 1 for speed1 calculation), the speed for the print statement was also missing the integer notation\n",
    "#10.The last elif statement of the loop had a syntax error (missing 2 for speed2 calculation),  the speed for the print statement was also missing the integer notation\n",
    "#11. The elif statement had the signs of the equation it was checking reversed (distance2 < distance1 has already been checked by the if loop)\n",
    "#12. There was a typo in the print statement of the elif statement (Car1 instead of Car2)"
   ]
  },
  {
   "cell_type": "code",
   "execution_count": 46,
   "id": "1e06c855",
   "metadata": {},
   "outputs": [],
   "source": [
    "#r1 = 0.5 m \n",
    "#r2 = 0.8 m\n",
    "#t1 = 12 s\n",
    "#t2 = 8 s\n",
    "#N1 = 8 rotations\n",
    "#N2 = 5 rotations"
   ]
  },
  {
   "cell_type": "code",
   "execution_count": 47,
   "id": "5c3f2572",
   "metadata": {},
   "outputs": [
    {
     "name": "stdout",
     "output_type": "stream",
     "text": [
      "[2, 5]\n"
     ]
    }
   ],
   "source": [
    "integer_speed = int(speed1)\n",
    "numbers = [int(a) for a in str(integer_speed)]\n",
    "print(numbers)"
   ]
  },
  {
   "cell_type": "code",
   "execution_count": 48,
   "id": "5179714d",
   "metadata": {},
   "outputs": [
    {
     "name": "stdout",
     "output_type": "stream",
     "text": [
      "[3, 7, 8, 2.0, [2, 5]]\n"
     ]
    }
   ],
   "source": [
    "key_code.append(numbers)\n",
    "print(key_code)"
   ]
  },
  {
   "cell_type": "markdown",
   "id": "b2c017c5",
   "metadata": {},
   "source": [
    "## Problem 9. <br> The model derivation (35 points)"
   ]
  },
  {
   "cell_type": "markdown",
   "id": "afca59e2",
   "metadata": {},
   "source": [
    "### Looking across the room you see a big 9 next to a usb stick. This must be the next thing to look at. You plug the stick into the computer in the room. There is a single file with GPS data: timestamps, distances from some location and GPS errors.  (10 points total)\n",
    "\n",
    "- Get the data from the table and assign them to numpy arrays named gps_time, gps_distance and gps_error. (3 points) \n",
    "- Plot the distance of the object as a function of time making a publication-ready plot *with errorbars*, axis labels and plot title. (5 points)\n",
    "- Use the appropriate python command to store the plot as a pdf. (2 points)"
   ]
  },
  {
   "cell_type": "markdown",
   "id": "43814558",
   "metadata": {},
   "source": [
    "time | distance     | error\n",
    "--|:---------:|:-----------:\n",
    "12.00 | 1137.61    | 45.0\n",
    "12.54 | 1174.34    | 42.1\n",
    "13.07 | 1209.87    | 34.0\n",
    "13.61 | 1244.19    | 44.0\n",
    "14.15 | 1277.31    | 48.0\n",
    "14.68 | 1309.21    | 35.0\n",
    "15.22 | 1339.93    | 25.0\n",
    "15.76 | 1369.39    | 35.0\n",
    "16.29 | 1397.67    | 41.0\n",
    "16.83 | 1424.74    | 42.0\n",
    "17.37 | 1450.61    | 45.0\n",
    "17.90 | 1475.25    | 35.0\n",
    "18.44 | 1498.69    | 45.0\n",
    "18.98 | 1520.90    | 45.0\n",
    "19.51 | 1541.94    | 45.0\n",
    "20.05 | 1561.75    | 45.0\n",
    "20.58 | 1580.35    | 35.0\n",
    "21.12 | 1597.72    | 25.0\n",
    "21.66 | 1613.93    | 15.0\n",
    "22.21 | 1628.91    | 45.0\n",
    "22.73 | 1642.67    | 35.0\n",
    "23.27 | 1655.22    | 25.0\n",
    "23.80 | 1666.57    | 41.0\n",
    "24.34 | 1676.71    | 42.0\n",
    "24.88 | 1685.63    | 45.0\n",
    "25.41 | 1693.35    | 45.0\n",
    "25.95 | 1699.92    | 45.0\n",
    "26.48 | 1705.16    | 45.0\n",
    "27.02 | 1709.25    | 45.0 \n",
    "27.56 | 1712.14    | 45.0\n",
    "28.11 | 1713.81    | 45.0\n",
    "28.63 | 1714.27    | 45.0\n",
    "29.17 | 1713.48    | 45.0\n",
    "29.71 | 1711.57    | 45.0\n",
    "30.24 | 1708.41    | 45.0\n",
    "30.78 | 1704.04    | 45.0\n",
    "31.32 | 1698.45    | 45.0\n",
    "31.85 | 1691.66    | 45.0\n",
    "32.39 | 1683.66    | 45.0\n",
    "32.93 | 1674.44    | 25.0\n",
    "33.46 | 1664.02    | 45.0\n",
    "34.00 | 1652.40    | 15.0"
   ]
  },
  {
   "cell_type": "code",
   "execution_count": 49,
   "id": "ff1e60c5",
   "metadata": {},
   "outputs": [],
   "source": [
    "gps_time = np.array([12.00,12.54,13.07,13.61,14.15,14.68,15.22,15.76,16.29,16.83,17.37,17.90,18.44,18.98,19.51,20.05,20.58,21.12,21.66,22.21,22.73,23.27,23.80,24.34,24.88,25.41,25.95,26.48,27.02,27.56,28.11,28.63,29.17,29.71,30.24,30.78,31.32,31.85,32.39,32.93,33.46,34.00])"
   ]
  },
  {
   "cell_type": "code",
   "execution_count": 50,
   "id": "9d19f815",
   "metadata": {},
   "outputs": [],
   "source": [
    "gps_distance = np.array([1137.61,1174.34,1209.87,1244.19,1277.31,1309.21,1339.93,1369.39,1397.67,1424.74,1450.61,1475.25,1498.69,1520.90,1541.94,1561.75,1580.35,1597.72,1613.93,1628.91,1642.67,1655.22,1666.57,1676.71,1685.63,1693.35,1699.92,1705.16,1709.25,1712.14,1713.81,1714.27,1713.48,1711.57,1708.41,1704.04,1698.45,1691.66,1683.66,1674.44,1664.02,1652.40])"
   ]
  },
  {
   "cell_type": "code",
   "execution_count": 51,
   "id": "5f0c748c",
   "metadata": {},
   "outputs": [],
   "source": [
    "gps_error = np.array([45.0,42.1,34.0,44.0,48.0,35.0,25.0,35.0,41.0,42.0,45.0,35.0,45.0,45.0,45.0,45.0,35.0,25.0,15.0,45.0,35.0,25.0,41.0,42.0,45.0,45.0,45.0,45.0,45.0,45.0,45.0,45.0,45.0,45.0,45.0,45.0,45.0,45.0,45.0,25.0,45.0,15.0])"
   ]
  },
  {
   "cell_type": "code",
   "execution_count": 52,
   "id": "0ca6243f",
   "metadata": {},
   "outputs": [
    {
     "data": {
      "image/png": "[encoded data removed]",
      "text/plain": [
       "<Figure size 864x864 with 1 Axes>"
      ]
     },
     "metadata": {
      "needs_background": "light"
     },
     "output_type": "display_data"
    }
   ],
   "source": [
    "plt.figure( figsize = (12, 12) )\n",
    "plt.plot  ( gps_time, gps_distance, color = 'blue' , linestyle = '-', linewidth = 4) \n",
    "plt.xlabel( 'GPS time', fontsize = 35)\n",
    "plt.ylabel( 'GPS distance' , fontsize = 35)\n",
    "plt.title( ' GPS Time vs Distance' , fontsize = 35 )\n",
    "plt.yticks( np.arange( 1130, 1700, step = 150) ,fontsize=35) \n",
    "plt.xticks( np.arange( 10, 40, 5 ) ,fontsize=35 )\n",
    "zerror = gps_error\n",
    "plt.errorbar(gps_time, gps_distance, zerror, ms=2)\n",
    "\n",
    "plt.savefig( 'GPS Time vs Distance.pdf', format = 'pdf', dpi = 300, bbox_inches = 'tight', pad_inches = 0.3 )"
   ]
  },
  {
   "cell_type": "markdown",
   "id": "79663d3a",
   "metadata": {},
   "source": [
    "### The model (25 points total):\n",
    "\n",
    "- Use the data to fit a model of the form $s = u * t$  and a model of the form $s = 0.5 * a * t^2 + u_o * t$. Print an informative statement informing the user about which model best describes the data (11 points) and why (3 points)? \n",
    "\n",
    "   - tip: limit your scan of the u parameter in the 0.1 to 150 space for the first model with a step of 2; and the a in the -10 to +10 with a step of 0.1 and u0 in the 0.1 to 140 with a step of 10 for the second model \n",
    "\n",
    "- Is the object moving with a constant speed, or accelerating? (1 point) \n",
    "- What is the speed u or acceleration a of the best-fit model (8 points)?\n",
    "- Populate your *key_code* with the integer part of this number (best-fit speed or best-fit acceleration) (1 points).  \n",
    "- Print the *key_code* (1 points)."
   ]
  },
  {
   "cell_type": "code",
   "execution_count": 53,
   "id": "85c3c799",
   "metadata": {},
   "outputs": [
    {
     "name": "stdout",
     "output_type": "stream",
     "text": [
      "[69.1]\n",
      "[-4.] [40.1]\n"
     ]
    }
   ],
   "source": [
    "#I used the data to fit a model of best fit for the functions:\n",
    "\n",
    "#s=u*t and s=0.5*a*t**2 + u0*t\n",
    "\n",
    "#For the function s = u*t I looped through the possible values to find the min value for the chi squared value:\n",
    "\n",
    "#Variables:\n",
    "\n",
    "t = gps_time\n",
    "s = gps_distance\n",
    "u = np.arange(0.1,150,0.1) \n",
    "r = np.zeros(len(u))\n",
    "\n",
    "#Looping for possible combinations:\n",
    "\n",
    "for i in range(len(u)):\n",
    "    s_theory = u[i]*t\n",
    "    r[i] = np.sum((s-s_theory)**2/s_theory)\n",
    "\n",
    "#Finding min chi square error:\n",
    "\n",
    "q  = np.where(r==np.min(r))\n",
    "\n",
    "#Modified function with min error value:\n",
    "\n",
    "s_mod = u[0]*t\n",
    "u_mod = np.arange(0.1,150,0.1) \n",
    "\n",
    "#Returning results:\n",
    "\n",
    "print(u[q[0]])\n",
    "\n",
    "#[69.1]\n",
    "\n",
    "#For the function s=0.5*a*t**2 + u0*t I followed the same method as for the linear function above (s=u*t):\n",
    "\n",
    "#Variables:\n",
    "\n",
    "t = gps_time\n",
    "s = gps_distance\n",
    "a = np.arange(-10,10,0.1) \n",
    "u0 = np.arange(0.1,140,10)\n",
    "r1 = np.zeros((len(a), len(u0)))\n",
    "\n",
    "#Looping for possible combinations:\n",
    "\n",
    "for i in range(len(a)):\n",
    "    for j in range(len(u0)):\n",
    "        s2_theory = 0.5*a[i]*(t**2)+u0[j]*t\n",
    "        r1[i,j] = np.sum((s-s2_theory)**2/s2_theory)\n",
    "\n",
    "#Finding min chi squared error:\n",
    "\n",
    "q  = np.where(r1==np.min(r1)) \n",
    "\n",
    "#Modified function with min error values:\n",
    "\n",
    "s2_mod = 0.5*a[0]*(t**2)+u0[1]*t \n",
    "a_mod = np.arange(-10,10,0.1) \n",
    "u0_mod = np.arange(0.1,140,10)\n",
    "\n",
    "#Returning results:\n",
    "\n",
    "print(a[q[0]],u0[q[1]])\n",
    "\n",
    "#[-4.] [40.1]\n"
   ]
  },
  {
   "cell_type": "code",
   "execution_count": 54,
   "id": "2fd4dcae",
   "metadata": {},
   "outputs": [
    {
     "name": "stdout",
     "output_type": "stream",
     "text": [
      "The model that fits the data the best is model s2_theory=0.5*a[i]*(t**2)+u0[j]*t as the chi square value is the closest to 1\n"
     ]
    }
   ],
   "source": [
    "print('The model that fits the data the best is model s2_theory=0.5*a[i]*(t**2)+u0[j]*t as the chi square value is the closest to 1')"
   ]
  },
  {
   "cell_type": "code",
   "execution_count": 55,
   "id": "f8a5a95f",
   "metadata": {},
   "outputs": [
    {
     "name": "stdout",
     "output_type": "stream",
     "text": [
      "[3, 7, 8, 2.0, [2, 5], array([4.])]\n"
     ]
    }
   ],
   "source": [
    "key_code.append(np.abs(a[q[0]]))\n",
    "print(key_code)"
   ]
  },
  {
   "cell_type": "markdown",
   "id": "147288af",
   "metadata": {},
   "source": [
    "## Problem 10. <br>  The data is the truth (15 points)"
   ]
  },
  {
   "cell_type": "markdown",
   "id": "7ff66adb",
   "metadata": {},
   "source": [
    "### You are getting close to the end. This is getting exciting! Where can the final clue be? You look around. What else is there? Dr. Cane sure has a fascination with nature....On the floor there is a nature painting showing waves and a Sun..But wait! There is something wrong. This is not just a painting. There are numbers across the 'waves'."
   ]
  },
  {
   "cell_type": "markdown",
   "id": "12976e92",
   "metadata": {},
   "source": [
    "- Read in the data from the_data.dat (1 point) \n",
    "  The data contain the numbers you see on the painting. Years and some value associated with them.\n",
    "  \n",
    "- What is the period of the data (i.e., the time it takes to go from one peak to the next)? Make a code that scans the data and checks a window of 6 values at a time. If a value is larger than 3 points before it and 3 points after it, it is stored as a peak.   (12 points)\n",
    "    - Tip: start your scanning from point 3 so that the edge of the window is at point 0\n",
    "\n",
    "\n",
    "- Populate your *key_code* with the number (1 points).  \n",
    "- Print the *key_code* (1 points)."
   ]
  },
  {
   "cell_type": "code",
   "execution_count": 56,
   "id": "f142c0f3",
   "metadata": {},
   "outputs": [],
   "source": [
    "data = np.loadtxt('the_data.dat')"
   ]
  },
  {
   "cell_type": "code",
   "execution_count": 57,
   "id": "b7320ef7",
   "metadata": {},
   "outputs": [],
   "source": [
    "t = data[:,0]\n",
    "data_t = data[:,1]"
   ]
  },
  {
   "cell_type": "code",
   "execution_count": 79,
   "id": "a558462f",
   "metadata": {},
   "outputs": [],
   "source": [
    "peak = 0 \n",
    "for j in range(3, len(data_t)):\n",
    "    if (data_t[j] > data[j-2]).any() and (data_t[j] > data_t[j+2]).any():\n",
    "        #print(j,data_t[j])\n",
    "        peak = peak + 1 "
   ]
  },
  {
   "cell_type": "code",
   "execution_count": 80,
   "id": "86ab8cc4",
   "metadata": {},
   "outputs": [
    {
     "name": "stdout",
     "output_type": "stream",
     "text": [
      "[3, 7, 8, 2.0, [2, 5], array([4.]), 9]\n"
     ]
    }
   ],
   "source": [
    "key_code.append(peak)\n",
    "print(key_code)"
   ]
  },
  {
   "cell_type": "markdown",
   "id": "6cdc8982",
   "metadata": {},
   "source": [
    "## Problem 11. <br>  Escape the room! (3 points)\n",
    "\n",
    "### You did it! You have the 8 digits that you need to exit the room! You run to the key pad and enter the code. Did it work? Open the pdf ***summer_saved.pdf*** using the 8 digits you got (no spaces or commas in between). "
   ]
  },
  {
   "cell_type": "code",
   "execution_count": 81,
   "id": "fad6e9b6",
   "metadata": {},
   "outputs": [
    {
     "name": "stdout",
     "output_type": "stream",
     "text": [
      "[3, 7, 8, 2.0, [2, 5], array([4.]), 9]\n"
     ]
    }
   ],
   "source": [
    "print(key_code)"
   ]
  },
  {
   "cell_type": "code",
   "execution_count": null,
   "id": "bb6dcad6",
   "metadata": {},
   "outputs": [],
   "source": [
    "done = 'summer_saved.pdf'\n",
    "os.system(done)"
   ]
  },
  {
   "cell_type": "markdown",
   "id": "0678abc7",
   "metadata": {},
   "source": [
    "## Problem 12. <br> The final push (10 points)\n",
    "\n",
    "### You run around the cave and see the weather machine! You did it! You quickly open a terminal and access its main code. Dr. Cane is not that smart after all....You delete the running program and stop the eternal hurricane season from ever starting! \n",
    "\n",
    "\n",
    "### Now prepare and submit your homework. Write what you will do to make and submit the zip file into your log. Don’t forget to also commit your finalized log and push it to GitHub. When satisfied, close the log, copy it to your homework directory, and run the commands to make and submit the zip file. Turn the file in on WebCourses."
   ]
  },
  {
   "cell_type": "markdown",
   "id": "9d9f97f4",
   "metadata": {},
   "source": [
    "# Have a great summer!\n",
    "<img src=\"congrats_summer.gif\" width=200 height=200 />"
   ]
  }
 ],
 "metadata": {
  "kernelspec": {
   "display_name": "Python 3 (ipykernel)",
   "language": "python",
   "name": "python3"
  },
  "language_info": {
   "codemirror_mode": {
    "name": "ipython",
    "version": 3
   },
   "file_extension": ".py",
   "mimetype": "text/x-python",
   "name": "python",
   "nbconvert_exporter": "python",
   "pygments_lexer": "ipython3",
   "version": "3.9.7"
  }
 },
 "nbformat": 4,
 "nbformat_minor": 5
}
